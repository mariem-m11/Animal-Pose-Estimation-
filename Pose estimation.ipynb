{
  "cells": [
    {
      "cell_type": "markdown",
      "metadata": {
        "id": "HCrANRNtNxNa",
        "jp-MarkdownHeadingCollapsed": true,
        "tags": []
      },
      "source": [
        "## installation"
      ]
    },
    {
      "cell_type": "code",
      "execution_count": 1,
      "metadata": {
        "id": "u-GanNLY_PUZ"
      },
      "outputs": [],
      "source": [
        "# !pip install ultralytics"
      ]
    },
    {
      "cell_type": "markdown",
      "metadata": {
        "id": "QKvZZFszNxNe"
      },
      "source": [
        "## imports"
      ]
    },
    {
      "cell_type": "code",
      "execution_count": null,
      "metadata": {
        "id": "mZ9BqVN4EM8F"
      },
      "outputs": [],
      "source": [
        "import os\n",
        "import requests\n",
        "from io import BytesIO\n",
        "from PIL import Image\n",
        "import zipfile\n",
        "import json\n",
        "import tarfile\n",
        "import numpy as np\n",
        "from dataclasses import dataclass, field\n",
        "import cv2\n",
        "from ultralytics import YOLO\n",
        "import matplotlib.pyplot as plt\n",
        "import pandas as pd\n",
        "import yaml\n",
        "import glob\n",
        "import cv2\n",
        "import random\n",
        "import time\n",
        "from shutil import copyfile"
      ]
    },
    {
      "cell_type": "markdown",
      "metadata": {
        "id": "opZYHbWLO0yV"
      },
      "source": [
        "## Data Transformation"
      ]
    },
    {
      "cell_type": "code",
      "execution_count": null,
      "metadata": {
        "id": "KpgcCfaEOvWQ"
      },
      "outputs": [],
      "source": [
        "DATA_DIR = \"/content/drive/MyDrive/horse10\"\n",
        "\n",
        "TRAIN_DIR         = f\"train\"\n",
        "TRAIN_FOLDER_IMG    = f\"images\"\n",
        "TRAIN_FOLDER_LABELS = f\"labels\"\n",
        "\n",
        "TRAIN_IMG_PATH   = os.path.join(DATA_DIR, TRAIN_DIR, TRAIN_FOLDER_IMG)\n",
        "TRAIN_LABEL_PATH = os.path.join(DATA_DIR, TRAIN_DIR, TRAIN_FOLDER_LABELS)\n",
        "\n",
        "VALID_DIR           = f\"valid\"\n",
        "VALID_FOLDER_IMG    = f\"images\"\n",
        "VALID_FOLDER_LABELS = f\"labels\"\n",
        "\n",
        "VALID_IMG_PATH   = os.path.join(DATA_DIR, VALID_DIR, VALID_FOLDER_IMG)\n",
        "VALID_LABEL_PATH = os.path.join(DATA_DIR, VALID_DIR, VALID_FOLDER_LABELS)\n",
        "\n",
        "os.makedirs(TRAIN_IMG_PATH, exist_ok=True)\n",
        "os.makedirs(TRAIN_LABEL_PATH, exist_ok=True)\n",
        "os.makedirs(VALID_IMG_PATH, exist_ok=True)\n",
        "os.makedirs(VALID_LABEL_PATH, exist_ok=True)"
      ]
    },
    {
      "cell_type": "code",
      "execution_count": null,
      "metadata": {
        "id": "I5RpHJ9rbH9T"
      },
      "outputs": [],
      "source": [
        "import os\n",
        "import json\n",
        "from shutil import copyfile\n",
        "def copy_images_from_json(input_file, output_path):\n",
        "    with open(input_file, 'r') as file:\n",
        "        json_data = json.load(file)\n",
        "    for data in json_data['images']:\n",
        "        img_file = data[\"file_name\"]\n",
        "        filename = str(data['id']) + '.png'\n",
        "        copyfile(os.path.join('/content/drive/MyDrive/horse10/', img_file),\n",
        "                 os.path.join(output_path, filename))"
      ]
    },
    {
      "cell_type": "code",
      "execution_count": null,
      "metadata": {
        "id": "ICoLI712cM78"
      },
      "outputs": [],
      "source": [
        "# input_file_path = '/content/drive/MyDrive/horse10/annotations/horse10-train-split3.json'\n",
        "# output_directory_path = '/content/drive/MyDrive/horse10/train/images'\n",
        "# copy_images_from_json(input_file_path, output_directory_path)"
      ]
    },
    {
      "cell_type": "code",
      "execution_count": null,
      "metadata": {
        "id": "26Y5ejxIcNp5"
      },
      "outputs": [],
      "source": [
        "# input_file_path = '/content/drive/MyDrive/horse10/annotations/horse10-test-split3.json'\n",
        "# output_directory_path = '/content/drive/MyDrive/horse10/valid/images'\n",
        "# copy_images_from_json(input_file_path, output_directory_path)"
      ]
    },
    {
      "cell_type": "code",
      "execution_count": null,
      "metadata": {
        "id": "-vlKxNKcfj1Q"
      },
      "outputs": [],
      "source": [
        "# with open(input_file_path, 'r') as file:\n",
        "#         json_data = json.load(file)"
      ]
    },
    {
      "cell_type": "code",
      "execution_count": null,
      "metadata": {
        "colab": {
          "base_uri": "https://localhost:8080/"
        },
        "id": "6qrT7YWkftHV",
        "outputId": "313cfd76-8a90-4e4a-9d53-2be5da3cd63f"
      },
      "outputs": [
        {
          "name": "stdout",
          "output_type": "stream",
          "text": [
            "dict_keys(['id', 'file_name', 'height', 'width'])\n",
            "[3.0, 87.3, 2.0, 0.0, 0.0, 0.0, 0.0, 0.0, 0.0, 0.0, 0.0, 0.0, 0.0, 0.0, 0.0, 0.0, 0.0, 0.0, 0.0, 0.0, 0.0, 0.0, 0.0, 0.0, 0.0, 0.0, 0.0, 0.0, 0.0, 0.0, 0.0, 0.0, 0.0, 0.0, 0.0, 0.0, 0.0, 0.0, 0.0, 0.0, 0.0, 0.0, 0.0, 0.0, 0.0, 0.0, 0.0, 0.0, 0.0, 0.0, 0.0, 0.0, 0.0, 0.0, 0.0, 0.0, 0.0, 0.0, 0.0, 0.0, 0.0, 0.0, 0.0, 0.0, 0.0, 0.0]\n"
          ]
        }
      ],
      "source": [
        "for img_data,annotation_data in  zip(json_data['images'],json_data['annotations']):\n",
        "  print(img_data.keys())\n",
        "  print(annotation_data['keypoints'])\n",
        "  break"
      ]
    },
    {
      "cell_type": "code",
      "execution_count": null,
      "metadata": {
        "id": "V-IWItiXfBf0"
      },
      "outputs": [],
      "source": [
        "CLASS_ID = 0\n",
        "def create_yolo_boxes_kpts(img_size, boxes, lm_kpts):\n",
        "\n",
        "    IMG_W, IMG_H = img_size\n",
        "    # Modify kpts with visibilities as 1s to 2s.\n",
        "\n",
        "\n",
        "    # Normalizing factor for bboxes and kpts.\n",
        "    res_box_array = np.array([IMG_W, IMG_H, IMG_W, IMG_H])\n",
        "    res_lm_array = np.array([IMG_W, IMG_H])\n",
        "\n",
        "    # Normalize landmarks in the range [0,1].\n",
        "    norm_kps_per_img = lm_kpts.copy()\n",
        "    l=len(norm_kps_per_img)\n",
        "    i=1\n",
        "    while i<=l:\n",
        "      norm_kps_per_img[i-1]=norm_kps_per_img[i-1]/IMG_W\n",
        "      norm_kps_per_img[i]=norm_kps_per_img[i]/IMG_H\n",
        "      i=i+3\n",
        "\n",
        "    # Normalize bboxes in the range [0,1].\n",
        "    norm_bbox_per_img = boxes / res_box_array\n",
        "\n",
        "    # Create bboxes coordinates to YOLO.\n",
        "    # x_c, y_c = x_min + bbox_w/2. , y_min + bbox_h/2.\n",
        "    yolo_boxes = norm_bbox_per_img.copy()\n",
        "    yolo_boxes[:2] = norm_bbox_per_img[:2] + norm_bbox_per_img[2:]/2.\n",
        "\n",
        "    return yolo_boxes, norm_kps_per_img"
      ]
    },
    {
      "cell_type": "code",
      "execution_count": null,
      "metadata": {
        "id": "oqSEjIvHfSH3"
      },
      "outputs": [],
      "source": [
        "def create_yolo_txt_files(json_file, LABEL_PATH):\n",
        "    with open(json_file, 'r') as file:\n",
        "        json_data = json.load(file)\n",
        "\n",
        "    for img_data,annotation_data in  zip(json_data['images'],json_data['annotations']):\n",
        "\n",
        "\n",
        "\n",
        "\n",
        "        IMAGE_ID = img_data[\"id\"]\n",
        "\n",
        "        IMG_WIDTH, IMG_HEIGHT = img_data[\"width\"], img_data[\"height\"]\n",
        "\n",
        "        landmark_kpts  = np.nan_to_num(np.array(annotation_data[\"keypoints\"], dtype=np.float32))\n",
        "        landmarks_bboxes = np.array(annotation_data[\"bbox\"], dtype=np.float32)\n",
        "        if len(landmark_kpts)!=66:\n",
        "          print(\"false\")\n",
        "        bboxes_yolo, kpts_yolo = create_yolo_boxes_kpts(\n",
        "                                            (IMG_WIDTH, IMG_HEIGHT),\n",
        "                                            landmarks_bboxes,\n",
        "                                            landmark_kpts)\n",
        "\n",
        "        TXT_FILE = str(IMAGE_ID)+\".txt\"\n",
        "\n",
        "        with open(os.path.join(LABEL_PATH, TXT_FILE), \"w\") as f:\n",
        "\n",
        "            x_c_norm, y_c_norm, box_width_norm, box_height_norm = round(bboxes_yolo[0],5),\\\n",
        "                                                                  round(bboxes_yolo[1],5),\\\n",
        "                                                                  round(bboxes_yolo[2],5),\\\n",
        "                                                                  round(bboxes_yolo[3],5),\\\n",
        "\n",
        "            kps_flattend = [round(ele,5) for ele in kpts_yolo.flatten().tolist()]\n",
        "            line = f\"{CLASS_ID} {x_c_norm} {y_c_norm} {box_width_norm} {box_height_norm} \"\n",
        "            line+= \" \".join(map(str, kps_flattend))\n",
        "            f.write(line)"
      ]
    },
    {
      "cell_type": "code",
      "execution_count": null,
      "metadata": {
        "id": "iYuih2TEhw2Z"
      },
      "outputs": [],
      "source": [
        "# input_file_path = '/content/drive/MyDrive/horse10/annotations/horse10-train-split3.json'\n",
        "# create_yolo_txt_files(input_file_path, TRAIN_LABEL_PATH)"
      ]
    },
    {
      "cell_type": "code",
      "execution_count": null,
      "metadata": {
        "id": "CkUE0WQlh-NR"
      },
      "outputs": [],
      "source": [
        "# input_file_path = '/content/drive/MyDrive/horse10/annotations/horse10-test-split3.json'\n",
        "# create_yolo_txt_files(input_file_path, VALID_LABEL_PATH)"
      ]
    },
    {
      "cell_type": "markdown",
      "metadata": {
        "id": "2OIB7sPWO0yb"
      },
      "source": [
        "## Model"
      ]
    },
    {
      "cell_type": "code",
      "execution_count": null,
      "metadata": {
        "id": "WL_KdE_H--C4"
      },
      "outputs": [],
      "source": [
        "@dataclass(frozen=True)\n",
        "class TrainingConfig:\n",
        "    DATASET_YAML:   str = \"horse-keypoints.yaml\"\n",
        "    MODEL:          str = \"yolov8s-pose.pt\"\n",
        "    EPOCHS:         int = 50\n",
        "    KPT_SHAPE:    tuple = (22,3)\n",
        "    PROJECT:        str = \"Horse_Keypoints\"\n",
        "    NAME:           str = f\"{MODEL.split('.')[0]}_{EPOCHS}_epochs\"\n",
        "    CLASSES_DICT:  dict = field(default_factory = lambda:{0 : \"horse\"})"
      ]
    },
    {
      "cell_type": "code",
      "execution_count": null,
      "metadata": {
        "id": "bfno0nC3-y-B"
      },
      "outputs": [],
      "source": [
        "@dataclass(frozen=True)\n",
        "class DatasetConfig:\n",
        "    BATCH_SIZE:    int   = 32\n",
        "    CLOSE_MOSAIC:  int   = 10\n",
        "    MOSAIC:        float = 0.4\n",
        "    FLIP_LR:       float = 0.0"
      ]
    },
    {
      "cell_type": "code",
      "execution_count": null,
      "metadata": {
        "id": "RGvJ2gnQ_1CR"
      },
      "outputs": [],
      "source": [
        "train_config = TrainingConfig()\n",
        "data_config = DatasetConfig()"
      ]
    },
    {
      "cell_type": "code",
      "execution_count": null,
      "metadata": {
        "id": "mjYazJOuAJXd"
      },
      "outputs": [],
      "source": [
        "current_dir = os.getcwd()\n",
        "\n",
        "data_dict = dict(\n",
        "                path      = DATA_DIR,\n",
        "                train     = os.path.join(TRAIN_DIR, TRAIN_FOLDER_IMG),\n",
        "                val       = os.path.join(VALID_DIR, VALID_FOLDER_IMG),\n",
        "                names     = train_config.CLASSES_DICT,\n",
        "                kpt_shape = list(train_config.KPT_SHAPE),\n",
        "               )\n",
        "\n",
        "with open(train_config.DATASET_YAML, \"w\") as config_file:\n",
        "    yaml.dump(data_dict, config_file)"
      ]
    },
    {
      "cell_type": "code",
      "execution_count": null,
      "metadata": {
        "colab": {
          "base_uri": "https://localhost:8080/"
        },
        "id": "jWOmBiUKAd5M",
        "outputId": "37767cbb-a44d-4a06-9618-139bbf7fdbe6"
      },
      "outputs": [
        {
          "name": "stdout",
          "output_type": "stream",
          "text": [
            "Downloading https://github.com/ultralytics/assets/releases/download/v8.2.0/yolov8s-pose.pt to 'yolov8s-pose.pt'...\n"
          ]
        },
        {
          "name": "stderr",
          "output_type": "stream",
          "text": [
            "100%|██████████| 22.4M/22.4M [00:00<00:00, 205MB/s]\n"
          ]
        },
        {
          "name": "stdout",
          "output_type": "stream",
          "text": [
            "Ultralytics YOLOv8.2.10 🚀 Python-3.10.12 torch-2.2.1+cu121 CUDA:0 (Tesla T4, 15102MiB)\n",
            "\u001b[34m\u001b[1mengine/trainer: \u001b[0mtask=pose, mode=train, model=yolov8s-pose.pt, data=horse-keypoints.yaml, epochs=50, time=None, patience=100, batch=32, imgsz=640, save=True, save_period=-1, cache=False, device=None, workers=8, project=Horse_Keypoints, name=yolov8s-pose_50_epochs, exist_ok=False, pretrained=True, optimizer=auto, verbose=True, seed=0, deterministic=True, single_cls=False, rect=False, cos_lr=False, close_mosaic=10, resume=False, amp=True, fraction=1.0, profile=False, freeze=None, multi_scale=False, overlap_mask=True, mask_ratio=4, dropout=0.0, val=True, split=val, save_json=False, save_hybrid=False, conf=None, iou=0.7, max_det=300, half=False, dnn=False, plots=True, source=None, vid_stride=1, stream_buffer=False, visualize=False, augment=False, agnostic_nms=False, classes=None, retina_masks=False, embed=None, show=False, save_frames=False, save_txt=False, save_conf=False, save_crop=False, show_labels=True, show_conf=True, show_boxes=True, line_width=None, format=torchscript, keras=False, optimize=False, int8=False, dynamic=False, simplify=False, opset=None, workspace=4, nms=False, lr0=0.01, lrf=0.01, momentum=0.937, weight_decay=0.0005, warmup_epochs=3.0, warmup_momentum=0.8, warmup_bias_lr=0.1, box=7.5, cls=0.5, dfl=1.5, pose=12.0, kobj=1.0, label_smoothing=0.0, nbs=64, hsv_h=0.015, hsv_s=0.7, hsv_v=0.4, degrees=0.0, translate=0.1, scale=0.5, shear=0.0, perspective=0.0, flipud=0.0, fliplr=0.0, bgr=0.0, mosaic=0.4, mixup=0.0, copy_paste=0.0, auto_augment=randaugment, erasing=0.4, crop_fraction=1.0, cfg=None, tracker=botsort.yaml, save_dir=Horse_Keypoints/yolov8s-pose_50_epochs\n",
            "Downloading https://ultralytics.com/assets/Arial.ttf to '/root/.config/Ultralytics/Arial.ttf'...\n"
          ]
        },
        {
          "name": "stderr",
          "output_type": "stream",
          "text": [
            "100%|██████████| 755k/755k [00:00<00:00, 25.6MB/s]\n"
          ]
        },
        {
          "name": "stdout",
          "output_type": "stream",
          "text": [
            "Overriding model.yaml kpt_shape=[17, 3] with kpt_shape=[22, 3]\n",
            "\n",
            "                   from  n    params  module                                       arguments                     \n",
            "  0                  -1  1       928  ultralytics.nn.modules.conv.Conv             [3, 32, 3, 2]                 \n",
            "  1                  -1  1     18560  ultralytics.nn.modules.conv.Conv             [32, 64, 3, 2]                \n",
            "  2                  -1  1     29056  ultralytics.nn.modules.block.C2f             [64, 64, 1, True]             \n",
            "  3                  -1  1     73984  ultralytics.nn.modules.conv.Conv             [64, 128, 3, 2]               \n",
            "  4                  -1  2    197632  ultralytics.nn.modules.block.C2f             [128, 128, 2, True]           \n",
            "  5                  -1  1    295424  ultralytics.nn.modules.conv.Conv             [128, 256, 3, 2]              \n",
            "  6                  -1  2    788480  ultralytics.nn.modules.block.C2f             [256, 256, 2, True]           \n",
            "  7                  -1  1   1180672  ultralytics.nn.modules.conv.Conv             [256, 512, 3, 2]              \n",
            "  8                  -1  1   1838080  ultralytics.nn.modules.block.C2f             [512, 512, 1, True]           \n",
            "  9                  -1  1    656896  ultralytics.nn.modules.block.SPPF            [512, 512, 5]                 \n",
            " 10                  -1  1         0  torch.nn.modules.upsampling.Upsample         [None, 2, 'nearest']          \n",
            " 11             [-1, 6]  1         0  ultralytics.nn.modules.conv.Concat           [1]                           \n",
            " 12                  -1  1    591360  ultralytics.nn.modules.block.C2f             [768, 256, 1]                 \n",
            " 13                  -1  1         0  torch.nn.modules.upsampling.Upsample         [None, 2, 'nearest']          \n",
            " 14             [-1, 4]  1         0  ultralytics.nn.modules.conv.Concat           [1]                           \n",
            " 15                  -1  1    148224  ultralytics.nn.modules.block.C2f             [384, 128, 1]                 \n",
            " 16                  -1  1    147712  ultralytics.nn.modules.conv.Conv             [128, 128, 3, 2]              \n",
            " 17            [-1, 12]  1         0  ultralytics.nn.modules.conv.Concat           [1]                           \n",
            " 18                  -1  1    493056  ultralytics.nn.modules.block.C2f             [384, 256, 1]                 \n",
            " 19                  -1  1    590336  ultralytics.nn.modules.conv.Conv             [256, 256, 3, 2]              \n",
            " 20             [-1, 9]  1         0  ultralytics.nn.modules.conv.Concat           [1]                           \n",
            " 21                  -1  1   1969152  ultralytics.nn.modules.block.C2f             [768, 512, 1]                 \n",
            " 22        [15, 18, 21]  1   2780329  ultralytics.nn.modules.head.Pose             [1, [22, 3], [128, 256, 512]] \n",
            "YOLOv8s-pose summary: 250 layers, 11799881 parameters, 11799865 gradients, 31.1 GFLOPs\n",
            "\n",
            "Transferred 361/397 items from pretrained weights\n",
            "\u001b[34m\u001b[1mTensorBoard: \u001b[0mStart with 'tensorboard --logdir Horse_Keypoints/yolov8s-pose_50_epochs', view at http://localhost:6006/\n",
            "Freezing layer 'model.22.dfl.conv.weight'\n",
            "\u001b[34m\u001b[1mAMP: \u001b[0mrunning Automatic Mixed Precision (AMP) checks with YOLOv8n...\n",
            "Downloading https://github.com/ultralytics/assets/releases/download/v8.2.0/yolov8n.pt to 'yolov8n.pt'...\n"
          ]
        },
        {
          "name": "stderr",
          "output_type": "stream",
          "text": [
            "100%|██████████| 6.23M/6.23M [00:00<00:00, 114MB/s]\n"
          ]
        },
        {
          "name": "stdout",
          "output_type": "stream",
          "text": [
            "\u001b[34m\u001b[1mAMP: \u001b[0mchecks passed ✅\n"
          ]
        },
        {
          "name": "stderr",
          "output_type": "stream",
          "text": [
            "\u001b[34m\u001b[1mtrain: \u001b[0mScanning /content/drive/.shortcut-targets-by-id/1d9fVKFxu7VuCoVFZafnwSBkWzrkn2_ap/horse10/train/labels... 1386 images, 0 backgrounds, 0 corrupt: 100%|██████████| 1386/1386 [10:30<00:00,  2.20it/s]\n"
          ]
        },
        {
          "name": "stdout",
          "output_type": "stream",
          "text": [
            "\u001b[34m\u001b[1mtrain: \u001b[0mNew cache created: /content/drive/.shortcut-targets-by-id/1d9fVKFxu7VuCoVFZafnwSBkWzrkn2_ap/horse10/train/labels.cache\n",
            "\u001b[34m\u001b[1malbumentations: \u001b[0mBlur(p=0.01, blur_limit=(3, 7)), MedianBlur(p=0.01, blur_limit=(3, 7)), ToGray(p=0.01), CLAHE(p=0.01, clip_limit=(1, 4.0), tile_grid_size=(8, 8))\n"
          ]
        },
        {
          "name": "stderr",
          "output_type": "stream",
          "text": [
            "/usr/lib/python3.10/multiprocessing/popen_fork.py:66: RuntimeWarning: os.fork() was called. os.fork() is incompatible with multithreaded code, and JAX is multithreaded, so this will likely lead to a deadlock.\n",
            "  self.pid = os.fork()\n",
            "\u001b[34m\u001b[1mval: \u001b[0mScanning /content/drive/.shortcut-targets-by-id/1d9fVKFxu7VuCoVFZafnwSBkWzrkn2_ap/horse10/valid/labels.cache... 4046 images, 2682 backgrounds, 0 corrupt: 100%|██████████| 6728/6728 [00:00<?, ?it/s]\n"
          ]
        },
        {
          "name": "stdout",
          "output_type": "stream",
          "text": [
            "Plotting labels to Horse_Keypoints/yolov8s-pose_50_epochs/labels.jpg... \n",
            "\u001b[34m\u001b[1moptimizer:\u001b[0m 'optimizer=auto' found, ignoring 'lr0=0.01' and 'momentum=0.937' and determining best 'optimizer', 'lr0' and 'momentum' automatically... \n",
            "\u001b[34m\u001b[1moptimizer:\u001b[0m AdamW(lr=0.002, momentum=0.9) with parameter groups 63 weight(decay=0.0), 73 weight(decay=0.0005), 72 bias(decay=0.0)\n",
            "\u001b[34m\u001b[1mTensorBoard: \u001b[0mmodel graph visualization added ✅\n",
            "Image sizes 640 train, 640 val\n",
            "Using 2 dataloader workers\n",
            "Logging results to \u001b[1mHorse_Keypoints/yolov8s-pose_50_epochs\u001b[0m\n",
            "Starting training for 50 epochs...\n",
            "\n",
            "      Epoch    GPU_mem   box_loss  pose_loss  kobj_loss   cls_loss   dfl_loss  Instances       Size\n"
          ]
        },
        {
          "name": "stderr",
          "output_type": "stream",
          "text": [
            "       1/50      8.28G       1.39      9.654     0.6761      1.581      1.635         20        640: 100%|██████████| 44/44 [04:16<00:00,  5.82s/it]\n",
            "                 Class     Images  Instances      Box(P          R      mAP50  mAP50-95)     Pose(P          R      mAP50  mAP50-95): 100%|██████████| 106/106 [01:32<00:00,  1.15it/s]\n"
          ]
        },
        {
          "name": "stdout",
          "output_type": "stream",
          "text": [
            "                   all       6728       4046      0.453      0.823      0.463      0.295    0.00067    0.00593   0.000115   7.75e-05\n",
            "\n",
            "      Epoch    GPU_mem   box_loss  pose_loss  kobj_loss   cls_loss   dfl_loss  Instances       Size\n"
          ]
        },
        {
          "name": "stderr",
          "output_type": "stream",
          "text": [
            "       2/50      8.44G     0.8862      7.298     0.5578     0.6477       1.15         14        640: 100%|██████████| 44/44 [00:34<00:00,  1.28it/s]\n",
            "                 Class     Images  Instances      Box(P          R      mAP50  mAP50-95)     Pose(P          R      mAP50  mAP50-95): 100%|██████████| 106/106 [01:26<00:00,  1.22it/s]\n"
          ]
        },
        {
          "name": "stdout",
          "output_type": "stream",
          "text": [
            "                   all       6728       4046      0.317      0.618       0.31      0.102   0.000432     0.0104   0.000219   0.000127\n",
            "\n",
            "      Epoch    GPU_mem   box_loss  pose_loss  kobj_loss   cls_loss   dfl_loss  Instances       Size\n"
          ]
        },
        {
          "name": "stderr",
          "output_type": "stream",
          "text": [
            "       3/50      8.24G     0.9023      6.128     0.5173     0.6603      1.143         11        640: 100%|██████████| 44/44 [00:34<00:00,  1.28it/s]\n",
            "                 Class     Images  Instances      Box(P          R      mAP50  mAP50-95)     Pose(P          R      mAP50  mAP50-95): 100%|██████████| 106/106 [01:26<00:00,  1.22it/s]\n"
          ]
        },
        {
          "name": "stdout",
          "output_type": "stream",
          "text": [
            "                   all       6728       4046      0.222      0.762       0.23      0.129     0.0456      0.162    0.00883    0.00115\n",
            "\n",
            "      Epoch    GPU_mem   box_loss  pose_loss  kobj_loss   cls_loss   dfl_loss  Instances       Size\n"
          ]
        },
        {
          "name": "stderr",
          "output_type": "stream",
          "text": [
            "       4/50      8.42G      0.927      5.906     0.4915     0.6942      1.173         16        640: 100%|██████████| 44/44 [00:33<00:00,  1.31it/s]\n",
            "                 Class     Images  Instances      Box(P          R      mAP50  mAP50-95)     Pose(P          R      mAP50  mAP50-95): 100%|██████████| 106/106 [01:26<00:00,  1.22it/s]\n"
          ]
        },
        {
          "name": "stdout",
          "output_type": "stream",
          "text": [
            "                   all       6728       4046      0.283      0.397      0.164     0.0883      0.145      0.203     0.0354    0.00454\n",
            "\n",
            "      Epoch    GPU_mem   box_loss  pose_loss  kobj_loss   cls_loss   dfl_loss  Instances       Size\n"
          ]
        },
        {
          "name": "stderr",
          "output_type": "stream",
          "text": [
            "       5/50      8.92G     0.8655      5.512      0.459     0.6141      1.125         15        640: 100%|██████████| 44/44 [00:34<00:00,  1.27it/s]\n",
            "                 Class     Images  Instances      Box(P          R      mAP50  mAP50-95)     Pose(P          R      mAP50  mAP50-95): 100%|██████████| 106/106 [01:25<00:00,  1.24it/s]\n"
          ]
        },
        {
          "name": "stdout",
          "output_type": "stream",
          "text": [
            "                   all       6728       4046      0.443      0.745      0.535      0.357      0.298      0.352      0.139     0.0248\n",
            "\n",
            "      Epoch    GPU_mem   box_loss  pose_loss  kobj_loss   cls_loss   dfl_loss  Instances       Size\n"
          ]
        },
        {
          "name": "stderr",
          "output_type": "stream",
          "text": [
            "       6/50      8.37G     0.8127      5.103     0.4209     0.5992      1.103         14        640: 100%|██████████| 44/44 [00:33<00:00,  1.32it/s]\n",
            "                 Class     Images  Instances      Box(P          R      mAP50  mAP50-95)     Pose(P          R      mAP50  mAP50-95): 100%|██████████| 106/106 [01:27<00:00,  1.20it/s]\n"
          ]
        },
        {
          "name": "stdout",
          "output_type": "stream",
          "text": [
            "                   all       6728       4046      0.569      0.719      0.499      0.383      0.459      0.531      0.285     0.0535\n",
            "\n",
            "      Epoch    GPU_mem   box_loss  pose_loss  kobj_loss   cls_loss   dfl_loss  Instances       Size\n"
          ]
        },
        {
          "name": "stderr",
          "output_type": "stream",
          "text": [
            "       7/50      8.32G     0.7948      5.005     0.3862     0.5828      1.088         17        640: 100%|██████████| 44/44 [00:33<00:00,  1.31it/s]\n",
            "                 Class     Images  Instances      Box(P          R      mAP50  mAP50-95)     Pose(P          R      mAP50  mAP50-95): 100%|██████████| 106/106 [01:27<00:00,  1.22it/s]\n"
          ]
        },
        {
          "name": "stdout",
          "output_type": "stream",
          "text": [
            "                   all       6728       4046      0.542      0.816      0.533      0.403      0.454      0.645      0.323     0.0664\n",
            "\n",
            "      Epoch    GPU_mem   box_loss  pose_loss  kobj_loss   cls_loss   dfl_loss  Instances       Size\n"
          ]
        },
        {
          "name": "stderr",
          "output_type": "stream",
          "text": [
            "       8/50      8.29G     0.7694      4.846      0.363     0.5654      1.077         14        640: 100%|██████████| 44/44 [00:35<00:00,  1.24it/s]\n",
            "                 Class     Images  Instances      Box(P          R      mAP50  mAP50-95)     Pose(P          R      mAP50  mAP50-95): 100%|██████████| 106/106 [01:27<00:00,  1.21it/s]\n"
          ]
        },
        {
          "name": "stdout",
          "output_type": "stream",
          "text": [
            "                   all       6728       4046      0.544      0.745      0.484       0.35      0.457      0.553      0.288     0.0558\n",
            "\n",
            "      Epoch    GPU_mem   box_loss  pose_loss  kobj_loss   cls_loss   dfl_loss  Instances       Size\n"
          ]
        },
        {
          "name": "stderr",
          "output_type": "stream",
          "text": [
            "       9/50       8.3G       0.75      4.721     0.3431     0.5507      1.062         17        640: 100%|██████████| 44/44 [00:34<00:00,  1.28it/s]\n",
            "                 Class     Images  Instances      Box(P          R      mAP50  mAP50-95)     Pose(P          R      mAP50  mAP50-95): 100%|██████████| 106/106 [01:25<00:00,  1.24it/s]\n"
          ]
        },
        {
          "name": "stdout",
          "output_type": "stream",
          "text": [
            "                   all       6728       4046      0.568      0.763      0.566      0.459      0.507      0.645      0.428     0.0924\n",
            "\n",
            "      Epoch    GPU_mem   box_loss  pose_loss  kobj_loss   cls_loss   dfl_loss  Instances       Size\n"
          ]
        },
        {
          "name": "stderr",
          "output_type": "stream",
          "text": [
            "      10/50      8.27G     0.6942      4.492     0.3417     0.5191      1.038         16        640: 100%|██████████| 44/44 [00:34<00:00,  1.29it/s]\n",
            "                 Class     Images  Instances      Box(P          R      mAP50  mAP50-95)     Pose(P          R      mAP50  mAP50-95): 100%|██████████| 106/106 [01:27<00:00,  1.22it/s]\n"
          ]
        },
        {
          "name": "stdout",
          "output_type": "stream",
          "text": [
            "                   all       6728       4046      0.578      0.879      0.553      0.437      0.504      0.688      0.388      0.084\n",
            "\n",
            "      Epoch    GPU_mem   box_loss  pose_loss  kobj_loss   cls_loss   dfl_loss  Instances       Size\n"
          ]
        },
        {
          "name": "stderr",
          "output_type": "stream",
          "text": [
            "      11/50      8.26G     0.6811      4.426     0.3315     0.4919      1.024         11        640: 100%|██████████| 44/44 [00:35<00:00,  1.25it/s]\n",
            "                 Class     Images  Instances      Box(P          R      mAP50  mAP50-95)     Pose(P          R      mAP50  mAP50-95): 100%|██████████| 106/106 [01:26<00:00,  1.22it/s]\n"
          ]
        },
        {
          "name": "stdout",
          "output_type": "stream",
          "text": [
            "                   all       6728       4046      0.585      0.854      0.583      0.499      0.498      0.677      0.422     0.0843\n",
            "\n",
            "      Epoch    GPU_mem   box_loss  pose_loss  kobj_loss   cls_loss   dfl_loss  Instances       Size\n"
          ]
        },
        {
          "name": "stderr",
          "output_type": "stream",
          "text": [
            "      12/50      8.35G     0.6248      4.137       0.32     0.4622     0.9924         15        640: 100%|██████████| 44/44 [00:34<00:00,  1.29it/s]\n",
            "                 Class     Images  Instances      Box(P          R      mAP50  mAP50-95)     Pose(P          R      mAP50  mAP50-95): 100%|██████████| 106/106 [01:25<00:00,  1.25it/s]\n"
          ]
        },
        {
          "name": "stdout",
          "output_type": "stream",
          "text": [
            "                   all       6728       4046      0.595      0.883       0.61      0.514      0.551      0.784      0.529      0.157\n",
            "\n",
            "      Epoch    GPU_mem   box_loss  pose_loss  kobj_loss   cls_loss   dfl_loss  Instances       Size\n"
          ]
        },
        {
          "name": "stderr",
          "output_type": "stream",
          "text": [
            "      13/50      8.23G     0.6243      4.115     0.3154     0.4674     0.9956         16        640: 100%|██████████| 44/44 [00:36<00:00,  1.19it/s]\n",
            "                 Class     Images  Instances      Box(P          R      mAP50  mAP50-95)     Pose(P          R      mAP50  mAP50-95): 100%|██████████| 106/106 [01:26<00:00,  1.23it/s]\n"
          ]
        },
        {
          "name": "stdout",
          "output_type": "stream",
          "text": [
            "                   all       6728       4046      0.579       0.87       0.58       0.49      0.535       0.75      0.467      0.146\n",
            "\n",
            "      Epoch    GPU_mem   box_loss  pose_loss  kobj_loss   cls_loss   dfl_loss  Instances       Size\n"
          ]
        },
        {
          "name": "stderr",
          "output_type": "stream",
          "text": [
            "      14/50      8.25G     0.6048      3.952     0.3086     0.4539     0.9899         13        640: 100%|██████████| 44/44 [00:34<00:00,  1.27it/s]\n",
            "                 Class     Images  Instances      Box(P          R      mAP50  mAP50-95)     Pose(P          R      mAP50  mAP50-95): 100%|██████████| 106/106 [01:29<00:00,  1.19it/s]\n"
          ]
        },
        {
          "name": "stdout",
          "output_type": "stream",
          "text": [
            "                   all       6728       4046      0.588      0.864      0.561      0.467      0.489      0.666      0.371     0.0881\n",
            "\n",
            "      Epoch    GPU_mem   box_loss  pose_loss  kobj_loss   cls_loss   dfl_loss  Instances       Size\n"
          ]
        },
        {
          "name": "stderr",
          "output_type": "stream",
          "text": [
            "      15/50      8.35G     0.5996      3.835     0.3042     0.4421     0.9841         14        640: 100%|██████████| 44/44 [00:35<00:00,  1.26it/s]\n",
            "                 Class     Images  Instances      Box(P          R      mAP50  mAP50-95)     Pose(P          R      mAP50  mAP50-95): 100%|██████████| 106/106 [01:27<00:00,  1.22it/s]\n"
          ]
        },
        {
          "name": "stdout",
          "output_type": "stream",
          "text": [
            "                   all       6728       4046      0.558      0.869      0.558       0.44      0.517       0.78      0.465      0.145\n",
            "\n",
            "      Epoch    GPU_mem   box_loss  pose_loss  kobj_loss   cls_loss   dfl_loss  Instances       Size\n"
          ]
        },
        {
          "name": "stderr",
          "output_type": "stream",
          "text": [
            "      16/50      8.24G      0.596      3.726     0.2936     0.4534     0.9818         12        640: 100%|██████████| 44/44 [00:35<00:00,  1.25it/s]\n",
            "                 Class     Images  Instances      Box(P          R      mAP50  mAP50-95)     Pose(P          R      mAP50  mAP50-95): 100%|██████████| 106/106 [01:25<00:00,  1.24it/s]\n"
          ]
        },
        {
          "name": "stdout",
          "output_type": "stream",
          "text": [
            "                   all       6728       4046      0.576      0.818      0.541      0.456      0.522      0.727      0.442      0.148\n",
            "\n",
            "      Epoch    GPU_mem   box_loss  pose_loss  kobj_loss   cls_loss   dfl_loss  Instances       Size\n"
          ]
        },
        {
          "name": "stderr",
          "output_type": "stream",
          "text": [
            "      17/50      8.34G     0.5935      3.759     0.2899     0.4442     0.9814         16        640: 100%|██████████| 44/44 [00:36<00:00,  1.19it/s]\n",
            "                 Class     Images  Instances      Box(P          R      mAP50  mAP50-95)     Pose(P          R      mAP50  mAP50-95): 100%|██████████| 106/106 [01:25<00:00,  1.24it/s]"
          ]
        },
        {
          "name": "stdout",
          "output_type": "stream",
          "text": [
            "                   all       6728       4046      0.573      0.858      0.611      0.518      0.526      0.724      0.505      0.146\n"
          ]
        },
        {
          "name": "stderr",
          "output_type": "stream",
          "text": [
            "\n"
          ]
        },
        {
          "name": "stdout",
          "output_type": "stream",
          "text": [
            "\n",
            "      Epoch    GPU_mem   box_loss  pose_loss  kobj_loss   cls_loss   dfl_loss  Instances       Size\n"
          ]
        },
        {
          "name": "stderr",
          "output_type": "stream",
          "text": [
            "      18/50      8.23G     0.5792      3.561     0.2764     0.4367     0.9699         11        640: 100%|██████████| 44/44 [00:35<00:00,  1.26it/s]\n",
            "                 Class     Images  Instances      Box(P          R      mAP50  mAP50-95)     Pose(P          R      mAP50  mAP50-95): 100%|██████████| 106/106 [01:26<00:00,  1.22it/s]\n"
          ]
        },
        {
          "name": "stdout",
          "output_type": "stream",
          "text": [
            "                   all       6728       4046      0.587      0.871      0.563      0.477      0.559      0.818      0.501      0.181\n",
            "\n",
            "      Epoch    GPU_mem   box_loss  pose_loss  kobj_loss   cls_loss   dfl_loss  Instances       Size\n"
          ]
        },
        {
          "name": "stderr",
          "output_type": "stream",
          "text": [
            "      19/50      8.22G     0.5708      3.446     0.2833     0.4263     0.9662         20        640: 100%|██████████| 44/44 [00:36<00:00,  1.22it/s]\n",
            "                 Class     Images  Instances      Box(P          R      mAP50  mAP50-95)     Pose(P          R      mAP50  mAP50-95): 100%|██████████| 106/106 [01:28<00:00,  1.20it/s]\n"
          ]
        },
        {
          "name": "stdout",
          "output_type": "stream",
          "text": [
            "                   all       6728       4046      0.587      0.889      0.577      0.485      0.561      0.824      0.516      0.181\n",
            "\n",
            "      Epoch    GPU_mem   box_loss  pose_loss  kobj_loss   cls_loss   dfl_loss  Instances       Size\n"
          ]
        },
        {
          "name": "stderr",
          "output_type": "stream",
          "text": [
            "      20/50      8.22G     0.5499      3.512     0.2771     0.4059     0.9619         19        640: 100%|██████████| 44/44 [00:35<00:00,  1.24it/s]\n",
            "                 Class     Images  Instances      Box(P          R      mAP50  mAP50-95)     Pose(P          R      mAP50  mAP50-95): 100%|██████████| 106/106 [01:27<00:00,  1.21it/s]\n"
          ]
        },
        {
          "name": "stdout",
          "output_type": "stream",
          "text": [
            "                   all       6728       4046      0.586      0.864      0.621      0.552      0.568      0.826      0.574      0.214\n",
            "\n",
            "      Epoch    GPU_mem   box_loss  pose_loss  kobj_loss   cls_loss   dfl_loss  Instances       Size\n"
          ]
        },
        {
          "name": "stderr",
          "output_type": "stream",
          "text": [
            "      21/50      8.22G     0.5426      3.435      0.264     0.4049       0.96         22        640: 100%|██████████| 44/44 [00:35<00:00,  1.24it/s]\n",
            "                 Class     Images  Instances      Box(P          R      mAP50  mAP50-95)     Pose(P          R      mAP50  mAP50-95): 100%|██████████| 106/106 [01:25<00:00,  1.24it/s]\n"
          ]
        },
        {
          "name": "stdout",
          "output_type": "stream",
          "text": [
            "                   all       6728       4046      0.581      0.876      0.648      0.538      0.561      0.813      0.596      0.231\n",
            "\n",
            "      Epoch    GPU_mem   box_loss  pose_loss  kobj_loss   cls_loss   dfl_loss  Instances       Size\n"
          ]
        },
        {
          "name": "stderr",
          "output_type": "stream",
          "text": [
            "      22/50      8.22G     0.5349      3.354     0.2644     0.4057     0.9601         12        640: 100%|██████████| 44/44 [00:36<00:00,  1.21it/s]\n",
            "                 Class     Images  Instances      Box(P          R      mAP50  mAP50-95)     Pose(P          R      mAP50  mAP50-95): 100%|██████████| 106/106 [01:28<00:00,  1.20it/s]\n"
          ]
        },
        {
          "name": "stdout",
          "output_type": "stream",
          "text": [
            "                   all       6728       4046      0.584      0.868      0.601      0.516      0.563      0.806      0.547      0.223\n",
            "\n",
            "      Epoch    GPU_mem   box_loss  pose_loss  kobj_loss   cls_loss   dfl_loss  Instances       Size\n"
          ]
        },
        {
          "name": "stderr",
          "output_type": "stream",
          "text": [
            "      23/50      8.23G       0.52      3.145     0.2494     0.3905     0.9481         17        640: 100%|██████████| 44/44 [00:35<00:00,  1.24it/s]\n",
            "                 Class     Images  Instances      Box(P          R      mAP50  mAP50-95)     Pose(P          R      mAP50  mAP50-95): 100%|██████████| 106/106 [01:27<00:00,  1.21it/s]\n"
          ]
        },
        {
          "name": "stdout",
          "output_type": "stream",
          "text": [
            "                   all       6728       4046      0.585      0.858      0.559      0.468      0.563      0.817      0.498      0.207\n",
            "\n",
            "      Epoch    GPU_mem   box_loss  pose_loss  kobj_loss   cls_loss   dfl_loss  Instances       Size\n"
          ]
        },
        {
          "name": "stderr",
          "output_type": "stream",
          "text": [
            "      24/50      8.24G     0.5231      3.117     0.2522     0.3981      0.953         16        640: 100%|██████████| 44/44 [00:33<00:00,  1.29it/s]\n",
            "                 Class     Images  Instances      Box(P          R      mAP50  mAP50-95)     Pose(P          R      mAP50  mAP50-95): 100%|██████████| 106/106 [01:25<00:00,  1.24it/s]\n"
          ]
        },
        {
          "name": "stdout",
          "output_type": "stream",
          "text": [
            "                   all       6728       4046      0.586      0.876      0.605      0.523      0.562      0.819      0.548      0.259\n",
            "\n",
            "      Epoch    GPU_mem   box_loss  pose_loss  kobj_loss   cls_loss   dfl_loss  Instances       Size\n"
          ]
        },
        {
          "name": "stderr",
          "output_type": "stream",
          "text": [
            "      25/50      8.33G     0.5028       2.85     0.2424     0.3646     0.9376         12        640: 100%|██████████| 44/44 [00:36<00:00,  1.19it/s]\n",
            "                 Class     Images  Instances      Box(P          R      mAP50  mAP50-95)     Pose(P          R      mAP50  mAP50-95): 100%|██████████| 106/106 [01:24<00:00,  1.26it/s]\n"
          ]
        },
        {
          "name": "stdout",
          "output_type": "stream",
          "text": [
            "                   all       6728       4046      0.584      0.886       0.61      0.538       0.57      0.824      0.562      0.271\n",
            "\n",
            "      Epoch    GPU_mem   box_loss  pose_loss  kobj_loss   cls_loss   dfl_loss  Instances       Size\n"
          ]
        },
        {
          "name": "stderr",
          "output_type": "stream",
          "text": [
            "      26/50      8.22G     0.4982      2.745     0.2454     0.3734     0.9364         17        640: 100%|██████████| 44/44 [00:33<00:00,  1.31it/s]\n",
            "                 Class     Images  Instances      Box(P          R      mAP50  mAP50-95)     Pose(P          R      mAP50  mAP50-95): 100%|██████████| 106/106 [01:24<00:00,  1.25it/s]"
          ]
        },
        {
          "name": "stdout",
          "output_type": "stream",
          "text": [
            "                   all       6728       4046      0.588      0.871      0.573      0.507      0.584      0.834      0.539      0.269\n"
          ]
        },
        {
          "name": "stderr",
          "output_type": "stream",
          "text": [
            "\n"
          ]
        },
        {
          "name": "stdout",
          "output_type": "stream",
          "text": [
            "\n",
            "      Epoch    GPU_mem   box_loss  pose_loss  kobj_loss   cls_loss   dfl_loss  Instances       Size\n"
          ]
        },
        {
          "name": "stderr",
          "output_type": "stream",
          "text": [
            "      27/50      8.22G     0.4852      2.616     0.2386     0.3634     0.9372         11        640: 100%|██████████| 44/44 [00:34<00:00,  1.26it/s]\n",
            "                 Class     Images  Instances      Box(P          R      mAP50  mAP50-95)     Pose(P          R      mAP50  mAP50-95): 100%|██████████| 106/106 [01:24<00:00,  1.25it/s]\n"
          ]
        },
        {
          "name": "stdout",
          "output_type": "stream",
          "text": [
            "                   all       6728       4046      0.585        0.9      0.619      0.547      0.581      0.838      0.578      0.279\n",
            "\n",
            "      Epoch    GPU_mem   box_loss  pose_loss  kobj_loss   cls_loss   dfl_loss  Instances       Size\n"
          ]
        },
        {
          "name": "stderr",
          "output_type": "stream",
          "text": [
            "      28/50      8.22G     0.4872      2.546     0.2406      0.366     0.9291         16        640: 100%|██████████| 44/44 [00:34<00:00,  1.27it/s]\n",
            "                 Class     Images  Instances      Box(P          R      mAP50  mAP50-95)     Pose(P          R      mAP50  mAP50-95): 100%|██████████| 106/106 [01:23<00:00,  1.27it/s]\n"
          ]
        },
        {
          "name": "stdout",
          "output_type": "stream",
          "text": [
            "                   all       6728       4046      0.588      0.897      0.628      0.553      0.575      0.836       0.57      0.245\n",
            "\n",
            "      Epoch    GPU_mem   box_loss  pose_loss  kobj_loss   cls_loss   dfl_loss  Instances       Size\n"
          ]
        },
        {
          "name": "stderr",
          "output_type": "stream",
          "text": [
            "      29/50      8.22G     0.4827      2.524      0.239     0.3615     0.9328         20        640: 100%|██████████| 44/44 [00:35<00:00,  1.25it/s]\n",
            "                 Class     Images  Instances      Box(P          R      mAP50  mAP50-95)     Pose(P          R      mAP50  mAP50-95): 100%|██████████| 106/106 [01:25<00:00,  1.25it/s]"
          ]
        },
        {
          "name": "stdout",
          "output_type": "stream",
          "text": [
            "                   all       6728       4046      0.589      0.892      0.583       0.52      0.575      0.837      0.537      0.304\n"
          ]
        },
        {
          "name": "stderr",
          "output_type": "stream",
          "text": [
            "\n"
          ]
        },
        {
          "name": "stdout",
          "output_type": "stream",
          "text": [
            "\n",
            "      Epoch    GPU_mem   box_loss  pose_loss  kobj_loss   cls_loss   dfl_loss  Instances       Size\n"
          ]
        },
        {
          "name": "stderr",
          "output_type": "stream",
          "text": [
            "      30/50      8.22G     0.4775      2.466     0.2399     0.3551     0.9223         14        640: 100%|██████████| 44/44 [00:34<00:00,  1.29it/s]\n",
            "                 Class     Images  Instances      Box(P          R      mAP50  mAP50-95)     Pose(P          R      mAP50  mAP50-95): 100%|██████████| 106/106 [01:26<00:00,  1.22it/s]\n"
          ]
        },
        {
          "name": "stdout",
          "output_type": "stream",
          "text": [
            "                   all       6728       4046      0.589       0.88      0.606      0.538      0.575      0.839      0.564        0.3\n",
            "\n",
            "      Epoch    GPU_mem   box_loss  pose_loss  kobj_loss   cls_loss   dfl_loss  Instances       Size\n"
          ]
        },
        {
          "name": "stderr",
          "output_type": "stream",
          "text": [
            "      31/50      8.22G     0.4781      2.373     0.2302     0.3523     0.9246         14        640: 100%|██████████| 44/44 [00:32<00:00,  1.34it/s]\n",
            "                 Class     Images  Instances      Box(P          R      mAP50  mAP50-95)     Pose(P          R      mAP50  mAP50-95): 100%|██████████| 106/106 [01:25<00:00,  1.23it/s]"
          ]
        },
        {
          "name": "stdout",
          "output_type": "stream",
          "text": [
            "                   all       6728       4046      0.591      0.909      0.675      0.609      0.584      0.847      0.642      0.368\n"
          ]
        },
        {
          "name": "stderr",
          "output_type": "stream",
          "text": [
            "\n"
          ]
        },
        {
          "name": "stdout",
          "output_type": "stream",
          "text": [
            "\n",
            "      Epoch    GPU_mem   box_loss  pose_loss  kobj_loss   cls_loss   dfl_loss  Instances       Size\n"
          ]
        },
        {
          "name": "stderr",
          "output_type": "stream",
          "text": [
            "      32/50      8.22G     0.4675       2.35     0.2335     0.3465     0.9169         13        640: 100%|██████████| 44/44 [00:34<00:00,  1.29it/s]\n",
            "                 Class     Images  Instances      Box(P          R      mAP50  mAP50-95)     Pose(P          R      mAP50  mAP50-95): 100%|██████████| 106/106 [01:23<00:00,  1.26it/s]\n"
          ]
        },
        {
          "name": "stdout",
          "output_type": "stream",
          "text": [
            "                   all       6728       4046      0.598      0.873       0.67      0.602      0.583      0.842      0.633      0.354\n",
            "\n",
            "      Epoch    GPU_mem   box_loss  pose_loss  kobj_loss   cls_loss   dfl_loss  Instances       Size\n"
          ]
        },
        {
          "name": "stderr",
          "output_type": "stream",
          "text": [
            "      33/50      8.22G     0.4446      2.282     0.2291     0.3346     0.9149         16        640: 100%|██████████| 44/44 [00:34<00:00,  1.28it/s]\n",
            "                 Class     Images  Instances      Box(P          R      mAP50  mAP50-95)     Pose(P          R      mAP50  mAP50-95): 100%|██████████| 106/106 [01:23<00:00,  1.26it/s]\n"
          ]
        },
        {
          "name": "stdout",
          "output_type": "stream",
          "text": [
            "                   all       6728       4046      0.587      0.872      0.594       0.53      0.578      0.851      0.565      0.316\n",
            "\n",
            "      Epoch    GPU_mem   box_loss  pose_loss  kobj_loss   cls_loss   dfl_loss  Instances       Size\n"
          ]
        },
        {
          "name": "stderr",
          "output_type": "stream",
          "text": [
            "      34/50      8.22G      0.447      2.155     0.2295     0.3409     0.9163         13        640: 100%|██████████| 44/44 [00:34<00:00,  1.26it/s]\n",
            "                 Class     Images  Instances      Box(P          R      mAP50  mAP50-95)     Pose(P          R      mAP50  mAP50-95): 100%|██████████| 106/106 [01:23<00:00,  1.27it/s]"
          ]
        },
        {
          "name": "stdout",
          "output_type": "stream",
          "text": [
            "                   all       6728       4046      0.579       0.89      0.588      0.513      0.571      0.841       0.55      0.308\n"
          ]
        },
        {
          "name": "stderr",
          "output_type": "stream",
          "text": [
            "\n"
          ]
        },
        {
          "name": "stdout",
          "output_type": "stream",
          "text": [
            "\n",
            "      Epoch    GPU_mem   box_loss  pose_loss  kobj_loss   cls_loss   dfl_loss  Instances       Size\n"
          ]
        },
        {
          "name": "stderr",
          "output_type": "stream",
          "text": [
            "      35/50      8.22G     0.4399      2.186     0.2243     0.3378     0.9143         17        640: 100%|██████████| 44/44 [00:35<00:00,  1.24it/s]\n",
            "                 Class     Images  Instances      Box(P          R      mAP50  mAP50-95)     Pose(P          R      mAP50  mAP50-95): 100%|██████████| 106/106 [01:24<00:00,  1.26it/s]\n"
          ]
        },
        {
          "name": "stdout",
          "output_type": "stream",
          "text": [
            "                   all       6728       4046      0.584      0.894      0.573      0.513      0.583      0.838      0.538      0.328\n",
            "\n",
            "      Epoch    GPU_mem   box_loss  pose_loss  kobj_loss   cls_loss   dfl_loss  Instances       Size\n"
          ]
        },
        {
          "name": "stderr",
          "output_type": "stream",
          "text": [
            "      36/50      8.22G     0.4288      2.036     0.2179     0.3247     0.9065         16        640: 100%|██████████| 44/44 [00:34<00:00,  1.26it/s]\n",
            "                 Class     Images  Instances      Box(P          R      mAP50  mAP50-95)     Pose(P          R      mAP50  mAP50-95): 100%|██████████| 106/106 [01:27<00:00,  1.20it/s]"
          ]
        },
        {
          "name": "stdout",
          "output_type": "stream",
          "text": [
            "                   all       6728       4046      0.579      0.895      0.617      0.551      0.573      0.844       0.58      0.366\n"
          ]
        },
        {
          "name": "stderr",
          "output_type": "stream",
          "text": [
            "\n"
          ]
        },
        {
          "name": "stdout",
          "output_type": "stream",
          "text": [
            "\n",
            "      Epoch    GPU_mem   box_loss  pose_loss  kobj_loss   cls_loss   dfl_loss  Instances       Size\n"
          ]
        },
        {
          "name": "stderr",
          "output_type": "stream",
          "text": [
            "      37/50      8.22G     0.4255       2.05      0.223     0.3199     0.9126         21        640: 100%|██████████| 44/44 [00:33<00:00,  1.32it/s]\n",
            "                 Class     Images  Instances      Box(P          R      mAP50  mAP50-95)     Pose(P          R      mAP50  mAP50-95): 100%|██████████| 106/106 [01:22<00:00,  1.28it/s]\n"
          ]
        },
        {
          "name": "stdout",
          "output_type": "stream",
          "text": [
            "                   all       6728       4046      0.586      0.887      0.601      0.539      0.575      0.842      0.569      0.333\n",
            "\n",
            "      Epoch    GPU_mem   box_loss  pose_loss  kobj_loss   cls_loss   dfl_loss  Instances       Size\n"
          ]
        },
        {
          "name": "stderr",
          "output_type": "stream",
          "text": [
            "      38/50      8.22G     0.4127        1.9     0.2329      0.312     0.9011         18        640: 100%|██████████| 44/44 [00:33<00:00,  1.30it/s]\n",
            "                 Class     Images  Instances      Box(P          R      mAP50  mAP50-95)     Pose(P          R      mAP50  mAP50-95): 100%|██████████| 106/106 [01:22<00:00,  1.28it/s]\n"
          ]
        },
        {
          "name": "stdout",
          "output_type": "stream",
          "text": [
            "                   all       6728       4046      0.585      0.892      0.623      0.549      0.583      0.856      0.594      0.381\n",
            "\n",
            "      Epoch    GPU_mem   box_loss  pose_loss  kobj_loss   cls_loss   dfl_loss  Instances       Size\n"
          ]
        },
        {
          "name": "stderr",
          "output_type": "stream",
          "text": [
            "      39/50      8.22G     0.4259      1.776     0.2345     0.3104      0.904         10        640: 100%|██████████| 44/44 [00:33<00:00,  1.32it/s]\n",
            "                 Class     Images  Instances      Box(P          R      mAP50  mAP50-95)     Pose(P          R      mAP50  mAP50-95): 100%|██████████| 106/106 [01:23<00:00,  1.27it/s]\n"
          ]
        },
        {
          "name": "stdout",
          "output_type": "stream",
          "text": [
            "                   all       6728       4046      0.587      0.887      0.584      0.523      0.572      0.848      0.547      0.364\n",
            "\n",
            "      Epoch    GPU_mem   box_loss  pose_loss  kobj_loss   cls_loss   dfl_loss  Instances       Size\n"
          ]
        },
        {
          "name": "stderr",
          "output_type": "stream",
          "text": [
            "      40/50      8.22G     0.4045      1.604     0.2254     0.3083     0.8956         18        640: 100%|██████████| 44/44 [00:33<00:00,  1.30it/s]\n",
            "                 Class     Images  Instances      Box(P          R      mAP50  mAP50-95)     Pose(P          R      mAP50  mAP50-95): 100%|██████████| 106/106 [01:28<00:00,  1.20it/s]"
          ]
        },
        {
          "name": "stdout",
          "output_type": "stream",
          "text": [
            "                   all       6728       4046      0.587      0.887      0.581      0.518      0.576      0.841      0.544      0.375\n"
          ]
        },
        {
          "name": "stderr",
          "output_type": "stream",
          "text": [
            "\n"
          ]
        },
        {
          "name": "stdout",
          "output_type": "stream",
          "text": [
            "Closing dataloader mosaic\n",
            "\u001b[34m\u001b[1malbumentations: \u001b[0mBlur(p=0.01, blur_limit=(3, 7)), MedianBlur(p=0.01, blur_limit=(3, 7)), ToGray(p=0.01), CLAHE(p=0.01, clip_limit=(1, 4.0), tile_grid_size=(8, 8))\n"
          ]
        },
        {
          "name": "stderr",
          "output_type": "stream",
          "text": [
            "/usr/lib/python3.10/multiprocessing/popen_fork.py:66: RuntimeWarning: os.fork() was called. os.fork() is incompatible with multithreaded code, and JAX is multithreaded, so this will likely lead to a deadlock.\n",
            "  self.pid = os.fork()\n",
            "/usr/lib/python3.10/multiprocessing/popen_fork.py:66: RuntimeWarning: os.fork() was called. os.fork() is incompatible with multithreaded code, and JAX is multithreaded, so this will likely lead to a deadlock.\n",
            "  self.pid = os.fork()\n"
          ]
        },
        {
          "name": "stdout",
          "output_type": "stream",
          "text": [
            "\n",
            "      Epoch    GPU_mem   box_loss  pose_loss  kobj_loss   cls_loss   dfl_loss  Instances       Size\n"
          ]
        },
        {
          "name": "stderr",
          "output_type": "stream",
          "text": [
            "      41/50      8.22G     0.3403      1.037     0.1677     0.2529     0.8597         10        640: 100%|██████████| 44/44 [00:37<00:00,  1.19it/s]\n",
            "                 Class     Images  Instances      Box(P          R      mAP50  mAP50-95)     Pose(P          R      mAP50  mAP50-95): 100%|██████████| 106/106 [01:22<00:00,  1.28it/s]"
          ]
        },
        {
          "name": "stdout",
          "output_type": "stream",
          "text": [
            "                   all       6728       4046      0.587      0.879      0.579      0.513      0.573      0.848      0.545      0.392\n"
          ]
        },
        {
          "name": "stderr",
          "output_type": "stream",
          "text": [
            "\n"
          ]
        },
        {
          "name": "stdout",
          "output_type": "stream",
          "text": [
            "\n",
            "      Epoch    GPU_mem   box_loss  pose_loss  kobj_loss   cls_loss   dfl_loss  Instances       Size\n"
          ]
        },
        {
          "name": "stderr",
          "output_type": "stream",
          "text": [
            "      42/50      8.22G     0.3273     0.9632     0.1717     0.2465      0.862         10        640: 100%|██████████| 44/44 [00:33<00:00,  1.32it/s]\n",
            "                 Class     Images  Instances      Box(P          R      mAP50  mAP50-95)     Pose(P          R      mAP50  mAP50-95): 100%|██████████| 106/106 [01:23<00:00,  1.27it/s]\n"
          ]
        },
        {
          "name": "stdout",
          "output_type": "stream",
          "text": [
            "                   all       6728       4046      0.586      0.883      0.613       0.55      0.573      0.855      0.578      0.424\n",
            "\n",
            "      Epoch    GPU_mem   box_loss  pose_loss  kobj_loss   cls_loss   dfl_loss  Instances       Size\n"
          ]
        },
        {
          "name": "stderr",
          "output_type": "stream",
          "text": [
            "      43/50      8.22G     0.3246     0.9073     0.1644     0.2385     0.8599         10        640: 100%|██████████| 44/44 [00:32<00:00,  1.35it/s]\n",
            "                 Class     Images  Instances      Box(P          R      mAP50  mAP50-95)     Pose(P          R      mAP50  mAP50-95): 100%|██████████| 106/106 [01:23<00:00,  1.27it/s]"
          ]
        },
        {
          "name": "stdout",
          "output_type": "stream",
          "text": [
            "                   all       6728       4046      0.586      0.888        0.6      0.539      0.582      0.853      0.573      0.419\n"
          ]
        },
        {
          "name": "stderr",
          "output_type": "stream",
          "text": [
            "\n"
          ]
        },
        {
          "name": "stdout",
          "output_type": "stream",
          "text": [
            "\n",
            "      Epoch    GPU_mem   box_loss  pose_loss  kobj_loss   cls_loss   dfl_loss  Instances       Size\n"
          ]
        },
        {
          "name": "stderr",
          "output_type": "stream",
          "text": [
            "      44/50      8.22G     0.3206     0.8764     0.1687     0.2385      0.851         10        640: 100%|██████████| 44/44 [00:33<00:00,  1.33it/s]\n",
            "                 Class     Images  Instances      Box(P          R      mAP50  mAP50-95)     Pose(P          R      mAP50  mAP50-95): 100%|██████████| 106/106 [01:22<00:00,  1.28it/s]\n"
          ]
        },
        {
          "name": "stdout",
          "output_type": "stream",
          "text": [
            "                   all       6728       4046      0.588      0.891      0.627      0.573      0.578      0.868      0.605      0.452\n",
            "\n",
            "      Epoch    GPU_mem   box_loss  pose_loss  kobj_loss   cls_loss   dfl_loss  Instances       Size\n"
          ]
        },
        {
          "name": "stderr",
          "output_type": "stream",
          "text": [
            "      45/50      8.22G     0.3082     0.8269     0.1607     0.2303     0.8418         10        640: 100%|██████████| 44/44 [00:33<00:00,  1.33it/s]\n",
            "                 Class     Images  Instances      Box(P          R      mAP50  mAP50-95)     Pose(P          R      mAP50  mAP50-95): 100%|██████████| 106/106 [01:22<00:00,  1.28it/s]"
          ]
        },
        {
          "name": "stdout",
          "output_type": "stream",
          "text": [
            "                   all       6728       4046       0.59       0.89       0.59       0.54      0.585      0.862      0.567      0.448\n"
          ]
        },
        {
          "name": "stderr",
          "output_type": "stream",
          "text": [
            "\n"
          ]
        },
        {
          "name": "stdout",
          "output_type": "stream",
          "text": [
            "\n",
            "      Epoch    GPU_mem   box_loss  pose_loss  kobj_loss   cls_loss   dfl_loss  Instances       Size\n"
          ]
        },
        {
          "name": "stderr",
          "output_type": "stream",
          "text": [
            "      46/50      8.32G     0.3005     0.7367     0.1652     0.2256     0.8454         10        640: 100%|██████████| 44/44 [00:32<00:00,  1.34it/s]\n",
            "                 Class     Images  Instances      Box(P          R      mAP50  mAP50-95)     Pose(P          R      mAP50  mAP50-95): 100%|██████████| 106/106 [01:23<00:00,  1.28it/s]"
          ]
        },
        {
          "name": "stdout",
          "output_type": "stream",
          "text": [
            "                   all       6728       4046      0.588      0.899      0.601       0.55      0.581      0.868      0.579      0.452\n"
          ]
        },
        {
          "name": "stderr",
          "output_type": "stream",
          "text": [
            "\n"
          ]
        },
        {
          "name": "stdout",
          "output_type": "stream",
          "text": [
            "\n",
            "      Epoch    GPU_mem   box_loss  pose_loss  kobj_loss   cls_loss   dfl_loss  Instances       Size\n"
          ]
        },
        {
          "name": "stderr",
          "output_type": "stream",
          "text": [
            "      47/50      8.22G     0.2951     0.7059     0.1612      0.223     0.8511          9        640: 100%|██████████| 44/44 [00:32<00:00,  1.34it/s]\n",
            "                 Class     Images  Instances      Box(P          R      mAP50  mAP50-95)     Pose(P          R      mAP50  mAP50-95): 100%|██████████| 106/106 [01:22<00:00,  1.29it/s]\n"
          ]
        },
        {
          "name": "stdout",
          "output_type": "stream",
          "text": [
            "                   all       6728       4046       0.59      0.893      0.573      0.521      0.583      0.871      0.551      0.442\n",
            "\n",
            "      Epoch    GPU_mem   box_loss  pose_loss  kobj_loss   cls_loss   dfl_loss  Instances       Size\n"
          ]
        },
        {
          "name": "stderr",
          "output_type": "stream",
          "text": [
            "      48/50      8.22G     0.2872     0.7019     0.1561     0.2175     0.8498         10        640: 100%|██████████| 44/44 [00:33<00:00,  1.32it/s]\n",
            "                 Class     Images  Instances      Box(P          R      mAP50  mAP50-95)     Pose(P          R      mAP50  mAP50-95): 100%|██████████| 106/106 [01:22<00:00,  1.28it/s]"
          ]
        },
        {
          "name": "stdout",
          "output_type": "stream",
          "text": [
            "                   all       6728       4046      0.587      0.891      0.587      0.539      0.583      0.866      0.568      0.458\n"
          ]
        },
        {
          "name": "stderr",
          "output_type": "stream",
          "text": [
            "\n"
          ]
        },
        {
          "name": "stdout",
          "output_type": "stream",
          "text": [
            "\n",
            "      Epoch    GPU_mem   box_loss  pose_loss  kobj_loss   cls_loss   dfl_loss  Instances       Size\n"
          ]
        },
        {
          "name": "stderr",
          "output_type": "stream",
          "text": [
            "      49/50      8.22G     0.2749     0.6611     0.1589     0.2083     0.8399          8        640: 100%|██████████| 44/44 [00:32<00:00,  1.36it/s]\n",
            "                 Class     Images  Instances      Box(P          R      mAP50  mAP50-95)     Pose(P          R      mAP50  mAP50-95): 100%|██████████| 106/106 [01:22<00:00,  1.28it/s]\n"
          ]
        },
        {
          "name": "stdout",
          "output_type": "stream",
          "text": [
            "                   all       6728       4046      0.584      0.896      0.577      0.529       0.58      0.868      0.557      0.454\n",
            "\n",
            "      Epoch    GPU_mem   box_loss  pose_loss  kobj_loss   cls_loss   dfl_loss  Instances       Size\n"
          ]
        },
        {
          "name": "stderr",
          "output_type": "stream",
          "text": [
            "      50/50      8.21G     0.2735      0.625     0.1582     0.2027     0.8364         10        640: 100%|██████████| 44/44 [00:32<00:00,  1.35it/s]\n",
            "                 Class     Images  Instances      Box(P          R      mAP50  mAP50-95)     Pose(P          R      mAP50  mAP50-95): 100%|██████████| 106/106 [01:22<00:00,  1.28it/s]\n"
          ]
        },
        {
          "name": "stdout",
          "output_type": "stream",
          "text": [
            "                   all       6728       4046      0.588      0.888      0.581      0.531      0.582      0.866       0.56      0.455\n",
            "\n",
            "50 epochs completed in 1.762 hours.\n",
            "Optimizer stripped from Horse_Keypoints/yolov8s-pose_50_epochs/weights/last.pt, 23.8MB\n",
            "Optimizer stripped from Horse_Keypoints/yolov8s-pose_50_epochs/weights/best.pt, 23.8MB\n",
            "\n",
            "Validating Horse_Keypoints/yolov8s-pose_50_epochs/weights/best.pt...\n",
            "Ultralytics YOLOv8.2.10 🚀 Python-3.10.12 torch-2.2.1+cu121 CUDA:0 (Tesla T4, 15102MiB)\n",
            "YOLOv8s-pose summary (fused): 187 layers, 11789469 parameters, 0 gradients, 30.9 GFLOPs\n"
          ]
        },
        {
          "name": "stderr",
          "output_type": "stream",
          "text": [
            "                 Class     Images  Instances      Box(P          R      mAP50  mAP50-95)     Pose(P          R      mAP50  mAP50-95): 100%|██████████| 106/106 [01:27<00:00,  1.21it/s]\n"
          ]
        },
        {
          "name": "stdout",
          "output_type": "stream",
          "text": [
            "                   all       6728       4046      0.588      0.891      0.628      0.573      0.578      0.868      0.606      0.452\n",
            "Speed: 0.1ms preprocess, 2.8ms inference, 0.0ms loss, 1.7ms postprocess per image\n",
            "Results saved to \u001b[1mHorse_Keypoints/yolov8s-pose_50_epochs\u001b[0m\n"
          ]
        },
        {
          "data": {
            "text/plain": [
              "ultralytics.utils.metrics.PoseMetrics object with attributes:\n",
              "\n",
              "ap_class_index: array([0])\n",
              "box: ultralytics.utils.metrics.Metric object\n",
              "confusion_matrix: <ultralytics.utils.metrics.ConfusionMatrix object at 0x7b4415116590>\n",
              "curves: ['Precision-Recall(B)', 'F1-Confidence(B)', 'Precision-Confidence(B)', 'Recall-Confidence(B)', 'Precision-Recall(P)', 'F1-Confidence(P)', 'Precision-Confidence(P)', 'Recall-Confidence(P)']\n",
              "curves_results: [[array([          0,    0.001001,    0.002002,    0.003003,    0.004004,    0.005005,    0.006006,    0.007007,    0.008008,    0.009009,     0.01001,    0.011011,    0.012012,    0.013013,    0.014014,    0.015015,    0.016016,    0.017017,    0.018018,    0.019019,     0.02002,    0.021021,    0.022022,    0.023023,\n",
              "          0.024024,    0.025025,    0.026026,    0.027027,    0.028028,    0.029029,     0.03003,    0.031031,    0.032032,    0.033033,    0.034034,    0.035035,    0.036036,    0.037037,    0.038038,    0.039039,     0.04004,    0.041041,    0.042042,    0.043043,    0.044044,    0.045045,    0.046046,    0.047047,\n",
              "          0.048048,    0.049049,     0.05005,    0.051051,    0.052052,    0.053053,    0.054054,    0.055055,    0.056056,    0.057057,    0.058058,    0.059059,     0.06006,    0.061061,    0.062062,    0.063063,    0.064064,    0.065065,    0.066066,    0.067067,    0.068068,    0.069069,     0.07007,    0.071071,\n",
              "          0.072072,    0.073073,    0.074074,    0.075075,    0.076076,    0.077077,    0.078078,    0.079079,     0.08008,    0.081081,    0.082082,    0.083083,    0.084084,    0.085085,    0.086086,    0.087087,    0.088088,    0.089089,     0.09009,    0.091091,    0.092092,    0.093093,    0.094094,    0.095095,\n",
              "          0.096096,    0.097097,    0.098098,    0.099099,      0.1001,      0.1011,      0.1021,      0.1031,      0.1041,     0.10511,     0.10611,     0.10711,     0.10811,     0.10911,     0.11011,     0.11111,     0.11211,     0.11311,     0.11411,     0.11512,     0.11612,     0.11712,     0.11812,     0.11912,\n",
              "           0.12012,     0.12112,     0.12212,     0.12312,     0.12412,     0.12513,     0.12613,     0.12713,     0.12813,     0.12913,     0.13013,     0.13113,     0.13213,     0.13313,     0.13413,     0.13514,     0.13614,     0.13714,     0.13814,     0.13914,     0.14014,     0.14114,     0.14214,     0.14314,\n",
              "           0.14414,     0.14515,     0.14615,     0.14715,     0.14815,     0.14915,     0.15015,     0.15115,     0.15215,     0.15315,     0.15415,     0.15516,     0.15616,     0.15716,     0.15816,     0.15916,     0.16016,     0.16116,     0.16216,     0.16316,     0.16416,     0.16517,     0.16617,     0.16717,\n",
              "           0.16817,     0.16917,     0.17017,     0.17117,     0.17217,     0.17317,     0.17417,     0.17518,     0.17618,     0.17718,     0.17818,     0.17918,     0.18018,     0.18118,     0.18218,     0.18318,     0.18418,     0.18519,     0.18619,     0.18719,     0.18819,     0.18919,     0.19019,     0.19119,\n",
              "           0.19219,     0.19319,     0.19419,      0.1952,      0.1962,      0.1972,      0.1982,      0.1992,      0.2002,      0.2012,      0.2022,      0.2032,      0.2042,     0.20521,     0.20621,     0.20721,     0.20821,     0.20921,     0.21021,     0.21121,     0.21221,     0.21321,     0.21421,     0.21522,\n",
              "           0.21622,     0.21722,     0.21822,     0.21922,     0.22022,     0.22122,     0.22222,     0.22322,     0.22422,     0.22523,     0.22623,     0.22723,     0.22823,     0.22923,     0.23023,     0.23123,     0.23223,     0.23323,     0.23423,     0.23524,     0.23624,     0.23724,     0.23824,     0.23924,\n",
              "           0.24024,     0.24124,     0.24224,     0.24324,     0.24424,     0.24525,     0.24625,     0.24725,     0.24825,     0.24925,     0.25025,     0.25125,     0.25225,     0.25325,     0.25425,     0.25526,     0.25626,     0.25726,     0.25826,     0.25926,     0.26026,     0.26126,     0.26226,     0.26326,\n",
              "           0.26426,     0.26527,     0.26627,     0.26727,     0.26827,     0.26927,     0.27027,     0.27127,     0.27227,     0.27327,     0.27427,     0.27528,     0.27628,     0.27728,     0.27828,     0.27928,     0.28028,     0.28128,     0.28228,     0.28328,     0.28428,     0.28529,     0.28629,     0.28729,\n",
              "           0.28829,     0.28929,     0.29029,     0.29129,     0.29229,     0.29329,     0.29429,      0.2953,      0.2963,      0.2973,      0.2983,      0.2993,      0.3003,      0.3013,      0.3023,      0.3033,      0.3043,     0.30531,     0.30631,     0.30731,     0.30831,     0.30931,     0.31031,     0.31131,\n",
              "           0.31231,     0.31331,     0.31431,     0.31532,     0.31632,     0.31732,     0.31832,     0.31932,     0.32032,     0.32132,     0.32232,     0.32332,     0.32432,     0.32533,     0.32633,     0.32733,     0.32833,     0.32933,     0.33033,     0.33133,     0.33233,     0.33333,     0.33433,     0.33534,\n",
              "           0.33634,     0.33734,     0.33834,     0.33934,     0.34034,     0.34134,     0.34234,     0.34334,     0.34434,     0.34535,     0.34635,     0.34735,     0.34835,     0.34935,     0.35035,     0.35135,     0.35235,     0.35335,     0.35435,     0.35536,     0.35636,     0.35736,     0.35836,     0.35936,\n",
              "           0.36036,     0.36136,     0.36236,     0.36336,     0.36436,     0.36537,     0.36637,     0.36737,     0.36837,     0.36937,     0.37037,     0.37137,     0.37237,     0.37337,     0.37437,     0.37538,     0.37638,     0.37738,     0.37838,     0.37938,     0.38038,     0.38138,     0.38238,     0.38338,\n",
              "           0.38438,     0.38539,     0.38639,     0.38739,     0.38839,     0.38939,     0.39039,     0.39139,     0.39239,     0.39339,     0.39439,      0.3954,      0.3964,      0.3974,      0.3984,      0.3994,      0.4004,      0.4014,      0.4024,      0.4034,      0.4044,     0.40541,     0.40641,     0.40741,\n",
              "           0.40841,     0.40941,     0.41041,     0.41141,     0.41241,     0.41341,     0.41441,     0.41542,     0.41642,     0.41742,     0.41842,     0.41942,     0.42042,     0.42142,     0.42242,     0.42342,     0.42442,     0.42543,     0.42643,     0.42743,     0.42843,     0.42943,     0.43043,     0.43143,\n",
              "           0.43243,     0.43343,     0.43443,     0.43544,     0.43644,     0.43744,     0.43844,     0.43944,     0.44044,     0.44144,     0.44244,     0.44344,     0.44444,     0.44545,     0.44645,     0.44745,     0.44845,     0.44945,     0.45045,     0.45145,     0.45245,     0.45345,     0.45445,     0.45546,\n",
              "           0.45646,     0.45746,     0.45846,     0.45946,     0.46046,     0.46146,     0.46246,     0.46346,     0.46446,     0.46547,     0.46647,     0.46747,     0.46847,     0.46947,     0.47047,     0.47147,     0.47247,     0.47347,     0.47447,     0.47548,     0.47648,     0.47748,     0.47848,     0.47948,\n",
              "           0.48048,     0.48148,     0.48248,     0.48348,     0.48448,     0.48549,     0.48649,     0.48749,     0.48849,     0.48949,     0.49049,     0.49149,     0.49249,     0.49349,     0.49449,      0.4955,      0.4965,      0.4975,      0.4985,      0.4995,      0.5005,      0.5015,      0.5025,      0.5035,\n",
              "            0.5045,     0.50551,     0.50651,     0.50751,     0.50851,     0.50951,     0.51051,     0.51151,     0.51251,     0.51351,     0.51451,     0.51552,     0.51652,     0.51752,     0.51852,     0.51952,     0.52052,     0.52152,     0.52252,     0.52352,     0.52452,     0.52553,     0.52653,     0.52753,\n",
              "           0.52853,     0.52953,     0.53053,     0.53153,     0.53253,     0.53353,     0.53453,     0.53554,     0.53654,     0.53754,     0.53854,     0.53954,     0.54054,     0.54154,     0.54254,     0.54354,     0.54454,     0.54555,     0.54655,     0.54755,     0.54855,     0.54955,     0.55055,     0.55155,\n",
              "           0.55255,     0.55355,     0.55455,     0.55556,     0.55656,     0.55756,     0.55856,     0.55956,     0.56056,     0.56156,     0.56256,     0.56356,     0.56456,     0.56557,     0.56657,     0.56757,     0.56857,     0.56957,     0.57057,     0.57157,     0.57257,     0.57357,     0.57457,     0.57558,\n",
              "           0.57658,     0.57758,     0.57858,     0.57958,     0.58058,     0.58158,     0.58258,     0.58358,     0.58458,     0.58559,     0.58659,     0.58759,     0.58859,     0.58959,     0.59059,     0.59159,     0.59259,     0.59359,     0.59459,      0.5956,      0.5966,      0.5976,      0.5986,      0.5996,\n",
              "            0.6006,      0.6016,      0.6026,      0.6036,      0.6046,     0.60561,     0.60661,     0.60761,     0.60861,     0.60961,     0.61061,     0.61161,     0.61261,     0.61361,     0.61461,     0.61562,     0.61662,     0.61762,     0.61862,     0.61962,     0.62062,     0.62162,     0.62262,     0.62362,\n",
              "           0.62462,     0.62563,     0.62663,     0.62763,     0.62863,     0.62963,     0.63063,     0.63163,     0.63263,     0.63363,     0.63463,     0.63564,     0.63664,     0.63764,     0.63864,     0.63964,     0.64064,     0.64164,     0.64264,     0.64364,     0.64464,     0.64565,     0.64665,     0.64765,\n",
              "           0.64865,     0.64965,     0.65065,     0.65165,     0.65265,     0.65365,     0.65465,     0.65566,     0.65666,     0.65766,     0.65866,     0.65966,     0.66066,     0.66166,     0.66266,     0.66366,     0.66466,     0.66567,     0.66667,     0.66767,     0.66867,     0.66967,     0.67067,     0.67167,\n",
              "           0.67267,     0.67367,     0.67467,     0.67568,     0.67668,     0.67768,     0.67868,     0.67968,     0.68068,     0.68168,     0.68268,     0.68368,     0.68468,     0.68569,     0.68669,     0.68769,     0.68869,     0.68969,     0.69069,     0.69169,     0.69269,     0.69369,     0.69469,      0.6957,\n",
              "            0.6967,      0.6977,      0.6987,      0.6997,      0.7007,      0.7017,      0.7027,      0.7037,      0.7047,     0.70571,     0.70671,     0.70771,     0.70871,     0.70971,     0.71071,     0.71171,     0.71271,     0.71371,     0.71471,     0.71572,     0.71672,     0.71772,     0.71872,     0.71972,\n",
              "           0.72072,     0.72172,     0.72272,     0.72372,     0.72472,     0.72573,     0.72673,     0.72773,     0.72873,     0.72973,     0.73073,     0.73173,     0.73273,     0.73373,     0.73473,     0.73574,     0.73674,     0.73774,     0.73874,     0.73974,     0.74074,     0.74174,     0.74274,     0.74374,\n",
              "           0.74474,     0.74575,     0.74675,     0.74775,     0.74875,     0.74975,     0.75075,     0.75175,     0.75275,     0.75375,     0.75475,     0.75576,     0.75676,     0.75776,     0.75876,     0.75976,     0.76076,     0.76176,     0.76276,     0.76376,     0.76476,     0.76577,     0.76677,     0.76777,\n",
              "           0.76877,     0.76977,     0.77077,     0.77177,     0.77277,     0.77377,     0.77477,     0.77578,     0.77678,     0.77778,     0.77878,     0.77978,     0.78078,     0.78178,     0.78278,     0.78378,     0.78478,     0.78579,     0.78679,     0.78779,     0.78879,     0.78979,     0.79079,     0.79179,\n",
              "           0.79279,     0.79379,     0.79479,      0.7958,      0.7968,      0.7978,      0.7988,      0.7998,      0.8008,      0.8018,      0.8028,      0.8038,      0.8048,     0.80581,     0.80681,     0.80781,     0.80881,     0.80981,     0.81081,     0.81181,     0.81281,     0.81381,     0.81481,     0.81582,\n",
              "           0.81682,     0.81782,     0.81882,     0.81982,     0.82082,     0.82182,     0.82282,     0.82382,     0.82482,     0.82583,     0.82683,     0.82783,     0.82883,     0.82983,     0.83083,     0.83183,     0.83283,     0.83383,     0.83483,     0.83584,     0.83684,     0.83784,     0.83884,     0.83984,\n",
              "           0.84084,     0.84184,     0.84284,     0.84384,     0.84484,     0.84585,     0.84685,     0.84785,     0.84885,     0.84985,     0.85085,     0.85185,     0.85285,     0.85385,     0.85485,     0.85586,     0.85686,     0.85786,     0.85886,     0.85986,     0.86086,     0.86186,     0.86286,     0.86386,\n",
              "           0.86486,     0.86587,     0.86687,     0.86787,     0.86887,     0.86987,     0.87087,     0.87187,     0.87287,     0.87387,     0.87487,     0.87588,     0.87688,     0.87788,     0.87888,     0.87988,     0.88088,     0.88188,     0.88288,     0.88388,     0.88488,     0.88589,     0.88689,     0.88789,\n",
              "           0.88889,     0.88989,     0.89089,     0.89189,     0.89289,     0.89389,     0.89489,      0.8959,      0.8969,      0.8979,      0.8989,      0.8999,      0.9009,      0.9019,      0.9029,      0.9039,      0.9049,     0.90591,     0.90691,     0.90791,     0.90891,     0.90991,     0.91091,     0.91191,\n",
              "           0.91291,     0.91391,     0.91491,     0.91592,     0.91692,     0.91792,     0.91892,     0.91992,     0.92092,     0.92192,     0.92292,     0.92392,     0.92492,     0.92593,     0.92693,     0.92793,     0.92893,     0.92993,     0.93093,     0.93193,     0.93293,     0.93393,     0.93493,     0.93594,\n",
              "           0.93694,     0.93794,     0.93894,     0.93994,     0.94094,     0.94194,     0.94294,     0.94394,     0.94494,     0.94595,     0.94695,     0.94795,     0.94895,     0.94995,     0.95095,     0.95195,     0.95295,     0.95395,     0.95495,     0.95596,     0.95696,     0.95796,     0.95896,     0.95996,\n",
              "           0.96096,     0.96196,     0.96296,     0.96396,     0.96496,     0.96597,     0.96697,     0.96797,     0.96897,     0.96997,     0.97097,     0.97197,     0.97297,     0.97397,     0.97497,     0.97598,     0.97698,     0.97798,     0.97898,     0.97998,     0.98098,     0.98198,     0.98298,     0.98398,\n",
              "           0.98498,     0.98599,     0.98699,     0.98799,     0.98899,     0.98999,     0.99099,     0.99199,     0.99299,     0.99399,     0.99499,       0.996,       0.997,       0.998,       0.999,           1]), array([[          1,           1,           1,           1,      0.7782,      0.7782,      0.7782,      0.7782,      0.7782,      0.7782,      0.7782,      0.7782,      0.7782,      0.7782,      0.7782,      0.7782,      0.7782,      0.7782,      0.7782,      0.7782,      0.7782,      0.7782,      0.7782,\n",
              "             0.7782,      0.7782,      0.7782,      0.7782,      0.7782,      0.7782,      0.7782,      0.7782,      0.7782,      0.7782,      0.7782,      0.7782,      0.7782,      0.7782,      0.7782,      0.7782,      0.7782,      0.7782,      0.7782,      0.7782,      0.7782,      0.7782,      0.7782,\n",
              "             0.7782,      0.7782,      0.7782,      0.7782,      0.7782,      0.7782,     0.77656,     0.77094,     0.77094,     0.77094,     0.77094,     0.77094,     0.77094,     0.77094,     0.77094,     0.77094,     0.77094,     0.77094,     0.77094,     0.77094,     0.77094,     0.77094,     0.77094,\n",
              "            0.77094,     0.77094,     0.77094,     0.77094,     0.77094,     0.77094,     0.77094,     0.77094,     0.77094,     0.76923,     0.76923,     0.76923,     0.76923,     0.76923,     0.76923,     0.76923,     0.76923,     0.76923,     0.76709,     0.76709,     0.76695,     0.76471,     0.76471,\n",
              "            0.76471,     0.76471,     0.76459,     0.76459,     0.76459,     0.76459,     0.76326,     0.76326,     0.76119,     0.75966,     0.75966,     0.75966,     0.75966,     0.75966,     0.75966,     0.75966,     0.75966,     0.75966,     0.75966,     0.75966,      0.7592,     0.75698,     0.75325,\n",
              "            0.75321,     0.75321,     0.74769,     0.74769,     0.74769,     0.74581,      0.7445,      0.7445,      0.7445,      0.7445,      0.7445,      0.7445,      0.7445,      0.7445,      0.7445,      0.7445,      0.7445,      0.7445,      0.7445,      0.7445,      0.7445,      0.7445,      0.7445,\n",
              "             0.7445,      0.7445,      0.7445,      0.7445,      0.7445,      0.7445,      0.7445,      0.7445,      0.7445,      0.7445,      0.7445,      0.7445,      0.7445,     0.74303,     0.74217,     0.73913,     0.73913,     0.73913,     0.73913,     0.73913,     0.73913,     0.73913,     0.73913,\n",
              "            0.73913,     0.73913,     0.73913,     0.73913,     0.73913,     0.73913,     0.73913,     0.73913,     0.73913,     0.73913,     0.73913,     0.73913,     0.73913,     0.73913,     0.73913,     0.73913,     0.73913,     0.73913,     0.73913,     0.73913,     0.73913,     0.73913,     0.73913,\n",
              "            0.73913,     0.73913,     0.73913,     0.73913,     0.73913,     0.73913,     0.73913,     0.73913,     0.73913,     0.73913,     0.73913,     0.73913,     0.73913,     0.73913,     0.73913,     0.73913,     0.73913,     0.73913,     0.73913,     0.73913,     0.73913,     0.73913,     0.73913,\n",
              "            0.73913,     0.73913,     0.73913,     0.73868,     0.73868,     0.73868,     0.73868,     0.73537,     0.73389,     0.73389,     0.73333,     0.73207,     0.73207,     0.73137,     0.73133,     0.73133,      0.7301,      0.7301,      0.7301,      0.7301,     0.72969,     0.72969,     0.72969,\n",
              "            0.72969,     0.72965,     0.72965,     0.72965,     0.72965,     0.72956,     0.72903,     0.72903,     0.72903,     0.72903,     0.72903,     0.72903,     0.72903,     0.72821,     0.72786,     0.72786,     0.72786,     0.72786,     0.72786,     0.72786,     0.72786,     0.72786,     0.72773,\n",
              "            0.72404,     0.72404,     0.72404,     0.72404,     0.72299,     0.72218,     0.72192,     0.72192,     0.72051,     0.72051,     0.72051,     0.72051,     0.72051,     0.72048,     0.71974,     0.71974,     0.71974,     0.71974,     0.71912,     0.71912,     0.71912,     0.71815,     0.71815,\n",
              "            0.71757,     0.71757,      0.7171,     0.71465,     0.71394,     0.71394,     0.71394,     0.71394,     0.71394,     0.71394,     0.71394,     0.71394,     0.71394,     0.71394,     0.71394,     0.71394,     0.71394,     0.71334,     0.71232,      0.7119,     0.71157,     0.71057,     0.70992,\n",
              "            0.70928,     0.70921,     0.70848,     0.70826,     0.70795,     0.70733,     0.70686,     0.70642,     0.70642,     0.70621,     0.70552,     0.70539,     0.70539,     0.70539,     0.70539,     0.70488,     0.70488,     0.70488,     0.70488,      0.7046,      0.7032,     0.70135,     0.70135,\n",
              "             0.6984,     0.69565,      0.6954,     0.69494,     0.69215,     0.69215,     0.69215,     0.69064,     0.68827,     0.68645,     0.68622,      0.6856,     0.68511,     0.68511,     0.68511,     0.68488,     0.68488,     0.68488,     0.68488,     0.68488,     0.68488,     0.68488,     0.68465,\n",
              "            0.68429,     0.68334,     0.68334,     0.68269,     0.68269,     0.68269,     0.68251,     0.68251,     0.68251,     0.68251,     0.68216,     0.68051,     0.68011,     0.68011,     0.67912,     0.67857,     0.67857,     0.67757,     0.67757,     0.67757,     0.67757,     0.67757,     0.67757,\n",
              "            0.67757,     0.67616,     0.67537,     0.67353,      0.6717,      0.6717,     0.67109,     0.67064,     0.67004,     0.67003,     0.67002,     0.66913,     0.66898,     0.66839,     0.66839,     0.66809,     0.66809,     0.66809,     0.66809,      0.6678,     0.66667,     0.66667,     0.66667,\n",
              "            0.66583,     0.66541,       0.665,       0.665,      0.6646,      0.6646,     0.66446,     0.66338,     0.66202,     0.65895,     0.65743,     0.65743,     0.65743,     0.65743,     0.65672,     0.65672,     0.65672,     0.65479,     0.65442,     0.65291,     0.65166,     0.65144,     0.65039,\n",
              "            0.65039,     0.64744,     0.64697,     0.64468,     0.64449,     0.64421,     0.64421,     0.64313,     0.64313,     0.64238,     0.64238,     0.64238,     0.64238,     0.64196,     0.64175,     0.64018,     0.63916,     0.63699,     0.63686,      0.6361,     0.63541,     0.63541,     0.63434,\n",
              "            0.63418,      0.6338,     0.63297,     0.63039,     0.62818,     0.62818,     0.62818,     0.62818,     0.62726,     0.62691,     0.62599,     0.62491,     0.62444,     0.62444,     0.62203,     0.62178,     0.62056,     0.61995,      0.6195,     0.61666,     0.61666,     0.61666,     0.61623,\n",
              "             0.6162,     0.61589,     0.61579,     0.61553,     0.61553,     0.61553,     0.61553,     0.61553,     0.61538,     0.61528,     0.61459,     0.61459,     0.61459,     0.61306,     0.61306,     0.61306,     0.61297,     0.61297,     0.61297,     0.61199,     0.61104,     0.60994,     0.60994,\n",
              "            0.60994,     0.60994,     0.60942,     0.60903,     0.60762,     0.60762,     0.60762,     0.60762,     0.60762,     0.60762,     0.60748,     0.60692,     0.60647,     0.60622,     0.60571,      0.6048,     0.60314,     0.60314,     0.60314,     0.60314,     0.60314,     0.60313,     0.60212,\n",
              "             0.6017,     0.60034,     0.60034,     0.60034,     0.60034,     0.60034,     0.60034,     0.60034,     0.60034,     0.60034,     0.60034,     0.60034,     0.60034,     0.60034,     0.60034,     0.60034,     0.60034,     0.60034,     0.60034,     0.60034,     0.60034,     0.60034,     0.60034,\n",
              "            0.60034,     0.60034,     0.60034,     0.60034,     0.60034,     0.60034,     0.60034,     0.60034,     0.60034,     0.60034,     0.60034,     0.60034,     0.60034,     0.60034,     0.60034,     0.60034,     0.60034,     0.60034,     0.60034,     0.60034,     0.60034,     0.60034,     0.60034,\n",
              "            0.60034,     0.60034,     0.60034,     0.60034,     0.60034,     0.60034,     0.60034,     0.60034,     0.60034,     0.60034,     0.60034,     0.60034,     0.60034,     0.60034,     0.60034,     0.60034,     0.60034,     0.60034,     0.60034,     0.60034,     0.60034,     0.60034,     0.60034,\n",
              "            0.60034,     0.60034,     0.60034,     0.60034,     0.60034,     0.60034,     0.60034,     0.60034,     0.60034,     0.60034,     0.60034,     0.60034,     0.60034,     0.60034,     0.60034,     0.60034,     0.60034,     0.60034,     0.60034,     0.60034,     0.60034,     0.60034,     0.60034,\n",
              "            0.60034,     0.60034,     0.60034,     0.60034,     0.60034,     0.60034,     0.60034,     0.60034,     0.60034,     0.60034,     0.60034,     0.60034,     0.60034,     0.60034,     0.60034,     0.60034,     0.60034,     0.60034,     0.60034,     0.60034,     0.60034,     0.60034,     0.60034,\n",
              "            0.60034,     0.60034,     0.60034,     0.60034,     0.60034,     0.60034,     0.60034,     0.60034,     0.60034,     0.60034,     0.60034,     0.60034,     0.60034,     0.60034,     0.60034,     0.60034,     0.60034,     0.60034,     0.60034,     0.60034,     0.60034,     0.60034,     0.60034,\n",
              "            0.60034,     0.60034,     0.60034,     0.60034,     0.60034,     0.60034,     0.60034,     0.60034,     0.60034,     0.60034,     0.60034,     0.60034,     0.60034,     0.60034,     0.60034,     0.60034,     0.60034,     0.60034,     0.60034,     0.60034,     0.60034,     0.60034,     0.60034,\n",
              "            0.60034,     0.60034,     0.60034,     0.60034,     0.60034,     0.60034,     0.60034,     0.60034,     0.60034,     0.60034,     0.60034,     0.60034,     0.60034,     0.60034,     0.60034,     0.60034,     0.60034,     0.60034,     0.60034,     0.60034,     0.60034,     0.60034,     0.60034,\n",
              "            0.60034,     0.60034,     0.60034,     0.60034,     0.60034,     0.60034,     0.60034,     0.60034,      0.6003,      0.6003,     0.59996,     0.59958,     0.59887,     0.59887,     0.59879,     0.59879,     0.59879,     0.59879,     0.59879,     0.59879,      0.5986,      0.5986,      0.5986,\n",
              "             0.5986,      0.5986,      0.5986,      0.5986,      0.5986,      0.5986,      0.5985,      0.5985,      0.5985,      0.5985,      0.5985,      0.5985,      0.5985,      0.5985,     0.59847,     0.59847,     0.59847,     0.59847,     0.59847,     0.59847,     0.59847,     0.59847,     0.59847,\n",
              "            0.59847,     0.59847,     0.59847,     0.59847,     0.59847,     0.59847,     0.59847,     0.59847,     0.59847,     0.59847,     0.59847,     0.59847,     0.59847,     0.59847,     0.59847,     0.59847,     0.59847,     0.59839,     0.59828,     0.59735,     0.59735,     0.59732,     0.59732,\n",
              "            0.59732,     0.59732,     0.59729,     0.59695,     0.59691,     0.59666,     0.59666,     0.59666,     0.59666,     0.59666,     0.59666,     0.59666,     0.59666,     0.59666,     0.59666,     0.59666,     0.59666,     0.59666,     0.59666,     0.59666,     0.59666,     0.59666,     0.59666,\n",
              "            0.59666,     0.59666,     0.59666,     0.59666,     0.59666,     0.59666,     0.59666,     0.59666,     0.59666,     0.59666,     0.59666,     0.59666,     0.59666,     0.59666,     0.59666,     0.59666,     0.59666,     0.59666,     0.59666,     0.59666,     0.59666,     0.59666,      0.5966,\n",
              "             0.5966,     0.59639,     0.59639,     0.59626,     0.59626,     0.59626,     0.59613,     0.59613,     0.59613,     0.59613,     0.59603,     0.59552,     0.59552,     0.59552,     0.59552,      0.5947,     0.59467,     0.59401,     0.59377,     0.59357,     0.59357,     0.59357,     0.59357,\n",
              "            0.59357,     0.59357,     0.59357,     0.59357,     0.59357,     0.59357,     0.59357,     0.59344,     0.59341,     0.59334,     0.59334,     0.59334,     0.59334,     0.59257,     0.59257,      0.5922,     0.59183,     0.59144,     0.59144,     0.59144,     0.59144,     0.59144,     0.59144,\n",
              "            0.59144,     0.59144,      0.5914,      0.5914,      0.5914,      0.5914,      0.5914,      0.5914,      0.5914,      0.5914,      0.5914,      0.5914,     0.59112,     0.59112,     0.59084,     0.59084,     0.59017,     0.59017,     0.59017,     0.59017,     0.59017,     0.59017,     0.59017,\n",
              "            0.59017,     0.59014,      0.5901,      0.5901,     0.59007,     0.59007,     0.58982,     0.58982,      0.5898,     0.58955,     0.58924,     0.58906,     0.58881,     0.58863,     0.58862,     0.58859,       0.588,     0.58759,     0.58688,     0.58622,     0.58523,     0.58488,     0.58476,\n",
              "            0.58359,     0.58313,     0.58219,     0.58214,     0.58214,     0.58127,     0.57944,     0.57879,     0.57714,     0.57641,     0.57505,      0.5746,     0.57174,     0.56916,     0.56809,     0.56805,     0.56614,     0.56407,     0.56021,     0.55697,     0.55309,      0.5487,     0.54711,\n",
              "            0.54046,     0.53877,     0.52889,     0.52521,     0.52022,     0.51434,     0.50985,       0.506,      0.5006,     0.49409,     0.48726,     0.47923,     0.47797,     0.46666,     0.46185,     0.44801,     0.44251,     0.43541,     0.42897,     0.42176,     0.41786,     0.40398,     0.39771,\n",
              "            0.39071,      0.3596,     0.34984,     0.33576,     0.32902,     0.31309,     0.30332,     0.29534,     0.28082,     0.27606,     0.27019,     0.26431,     0.25844,     0.25257,     0.24669,     0.24082,     0.23494,     0.22907,      0.2232,     0.21732,     0.21145,     0.20558,      0.1997,\n",
              "            0.19383,     0.18796,     0.18208,     0.17621,     0.17033,     0.16446,     0.15859,     0.15271,     0.14684,     0.14097,     0.13509,     0.12922,     0.12335,     0.11747,      0.1116,     0.10573,    0.099852,    0.093978,    0.088104,    0.082231,    0.076357,    0.070483,     0.06461,\n",
              "           0.058736,    0.052863,    0.046989,    0.041115,    0.035242,    0.029368,    0.023494,    0.017621,    0.011747,   0.0058736,           0]]), 'Recall', 'Precision'], [array([          0,    0.001001,    0.002002,    0.003003,    0.004004,    0.005005,    0.006006,    0.007007,    0.008008,    0.009009,     0.01001,    0.011011,    0.012012,    0.013013,    0.014014,    0.015015,    0.016016,    0.017017,    0.018018,    0.019019,     0.02002,    0.021021,    0.022022,    0.023023,\n",
              "          0.024024,    0.025025,    0.026026,    0.027027,    0.028028,    0.029029,     0.03003,    0.031031,    0.032032,    0.033033,    0.034034,    0.035035,    0.036036,    0.037037,    0.038038,    0.039039,     0.04004,    0.041041,    0.042042,    0.043043,    0.044044,    0.045045,    0.046046,    0.047047,\n",
              "          0.048048,    0.049049,     0.05005,    0.051051,    0.052052,    0.053053,    0.054054,    0.055055,    0.056056,    0.057057,    0.058058,    0.059059,     0.06006,    0.061061,    0.062062,    0.063063,    0.064064,    0.065065,    0.066066,    0.067067,    0.068068,    0.069069,     0.07007,    0.071071,\n",
              "          0.072072,    0.073073,    0.074074,    0.075075,    0.076076,    0.077077,    0.078078,    0.079079,     0.08008,    0.081081,    0.082082,    0.083083,    0.084084,    0.085085,    0.086086,    0.087087,    0.088088,    0.089089,     0.09009,    0.091091,    0.092092,    0.093093,    0.094094,    0.095095,\n",
              "          0.096096,    0.097097,    0.098098,    0.099099,      0.1001,      0.1011,      0.1021,      0.1031,      0.1041,     0.10511,     0.10611,     0.10711,     0.10811,     0.10911,     0.11011,     0.11111,     0.11211,     0.11311,     0.11411,     0.11512,     0.11612,     0.11712,     0.11812,     0.11912,\n",
              "           0.12012,     0.12112,     0.12212,     0.12312,     0.12412,     0.12513,     0.12613,     0.12713,     0.12813,     0.12913,     0.13013,     0.13113,     0.13213,     0.13313,     0.13413,     0.13514,     0.13614,     0.13714,     0.13814,     0.13914,     0.14014,     0.14114,     0.14214,     0.14314,\n",
              "           0.14414,     0.14515,     0.14615,     0.14715,     0.14815,     0.14915,     0.15015,     0.15115,     0.15215,     0.15315,     0.15415,     0.15516,     0.15616,     0.15716,     0.15816,     0.15916,     0.16016,     0.16116,     0.16216,     0.16316,     0.16416,     0.16517,     0.16617,     0.16717,\n",
              "           0.16817,     0.16917,     0.17017,     0.17117,     0.17217,     0.17317,     0.17417,     0.17518,     0.17618,     0.17718,     0.17818,     0.17918,     0.18018,     0.18118,     0.18218,     0.18318,     0.18418,     0.18519,     0.18619,     0.18719,     0.18819,     0.18919,     0.19019,     0.19119,\n",
              "           0.19219,     0.19319,     0.19419,      0.1952,      0.1962,      0.1972,      0.1982,      0.1992,      0.2002,      0.2012,      0.2022,      0.2032,      0.2042,     0.20521,     0.20621,     0.20721,     0.20821,     0.20921,     0.21021,     0.21121,     0.21221,     0.21321,     0.21421,     0.21522,\n",
              "           0.21622,     0.21722,     0.21822,     0.21922,     0.22022,     0.22122,     0.22222,     0.22322,     0.22422,     0.22523,     0.22623,     0.22723,     0.22823,     0.22923,     0.23023,     0.23123,     0.23223,     0.23323,     0.23423,     0.23524,     0.23624,     0.23724,     0.23824,     0.23924,\n",
              "           0.24024,     0.24124,     0.24224,     0.24324,     0.24424,     0.24525,     0.24625,     0.24725,     0.24825,     0.24925,     0.25025,     0.25125,     0.25225,     0.25325,     0.25425,     0.25526,     0.25626,     0.25726,     0.25826,     0.25926,     0.26026,     0.26126,     0.26226,     0.26326,\n",
              "           0.26426,     0.26527,     0.26627,     0.26727,     0.26827,     0.26927,     0.27027,     0.27127,     0.27227,     0.27327,     0.27427,     0.27528,     0.27628,     0.27728,     0.27828,     0.27928,     0.28028,     0.28128,     0.28228,     0.28328,     0.28428,     0.28529,     0.28629,     0.28729,\n",
              "           0.28829,     0.28929,     0.29029,     0.29129,     0.29229,     0.29329,     0.29429,      0.2953,      0.2963,      0.2973,      0.2983,      0.2993,      0.3003,      0.3013,      0.3023,      0.3033,      0.3043,     0.30531,     0.30631,     0.30731,     0.30831,     0.30931,     0.31031,     0.31131,\n",
              "           0.31231,     0.31331,     0.31431,     0.31532,     0.31632,     0.31732,     0.31832,     0.31932,     0.32032,     0.32132,     0.32232,     0.32332,     0.32432,     0.32533,     0.32633,     0.32733,     0.32833,     0.32933,     0.33033,     0.33133,     0.33233,     0.33333,     0.33433,     0.33534,\n",
              "           0.33634,     0.33734,     0.33834,     0.33934,     0.34034,     0.34134,     0.34234,     0.34334,     0.34434,     0.34535,     0.34635,     0.34735,     0.34835,     0.34935,     0.35035,     0.35135,     0.35235,     0.35335,     0.35435,     0.35536,     0.35636,     0.35736,     0.35836,     0.35936,\n",
              "           0.36036,     0.36136,     0.36236,     0.36336,     0.36436,     0.36537,     0.36637,     0.36737,     0.36837,     0.36937,     0.37037,     0.37137,     0.37237,     0.37337,     0.37437,     0.37538,     0.37638,     0.37738,     0.37838,     0.37938,     0.38038,     0.38138,     0.38238,     0.38338,\n",
              "           0.38438,     0.38539,     0.38639,     0.38739,     0.38839,     0.38939,     0.39039,     0.39139,     0.39239,     0.39339,     0.39439,      0.3954,      0.3964,      0.3974,      0.3984,      0.3994,      0.4004,      0.4014,      0.4024,      0.4034,      0.4044,     0.40541,     0.40641,     0.40741,\n",
              "           0.40841,     0.40941,     0.41041,     0.41141,     0.41241,     0.41341,     0.41441,     0.41542,     0.41642,     0.41742,     0.41842,     0.41942,     0.42042,     0.42142,     0.42242,     0.42342,     0.42442,     0.42543,     0.42643,     0.42743,     0.42843,     0.42943,     0.43043,     0.43143,\n",
              "           0.43243,     0.43343,     0.43443,     0.43544,     0.43644,     0.43744,     0.43844,     0.43944,     0.44044,     0.44144,     0.44244,     0.44344,     0.44444,     0.44545,     0.44645,     0.44745,     0.44845,     0.44945,     0.45045,     0.45145,     0.45245,     0.45345,     0.45445,     0.45546,\n",
              "           0.45646,     0.45746,     0.45846,     0.45946,     0.46046,     0.46146,     0.46246,     0.46346,     0.46446,     0.46547,     0.46647,     0.46747,     0.46847,     0.46947,     0.47047,     0.47147,     0.47247,     0.47347,     0.47447,     0.47548,     0.47648,     0.47748,     0.47848,     0.47948,\n",
              "           0.48048,     0.48148,     0.48248,     0.48348,     0.48448,     0.48549,     0.48649,     0.48749,     0.48849,     0.48949,     0.49049,     0.49149,     0.49249,     0.49349,     0.49449,      0.4955,      0.4965,      0.4975,      0.4985,      0.4995,      0.5005,      0.5015,      0.5025,      0.5035,\n",
              "            0.5045,     0.50551,     0.50651,     0.50751,     0.50851,     0.50951,     0.51051,     0.51151,     0.51251,     0.51351,     0.51451,     0.51552,     0.51652,     0.51752,     0.51852,     0.51952,     0.52052,     0.52152,     0.52252,     0.52352,     0.52452,     0.52553,     0.52653,     0.52753,\n",
              "           0.52853,     0.52953,     0.53053,     0.53153,     0.53253,     0.53353,     0.53453,     0.53554,     0.53654,     0.53754,     0.53854,     0.53954,     0.54054,     0.54154,     0.54254,     0.54354,     0.54454,     0.54555,     0.54655,     0.54755,     0.54855,     0.54955,     0.55055,     0.55155,\n",
              "           0.55255,     0.55355,     0.55455,     0.55556,     0.55656,     0.55756,     0.55856,     0.55956,     0.56056,     0.56156,     0.56256,     0.56356,     0.56456,     0.56557,     0.56657,     0.56757,     0.56857,     0.56957,     0.57057,     0.57157,     0.57257,     0.57357,     0.57457,     0.57558,\n",
              "           0.57658,     0.57758,     0.57858,     0.57958,     0.58058,     0.58158,     0.58258,     0.58358,     0.58458,     0.58559,     0.58659,     0.58759,     0.58859,     0.58959,     0.59059,     0.59159,     0.59259,     0.59359,     0.59459,      0.5956,      0.5966,      0.5976,      0.5986,      0.5996,\n",
              "            0.6006,      0.6016,      0.6026,      0.6036,      0.6046,     0.60561,     0.60661,     0.60761,     0.60861,     0.60961,     0.61061,     0.61161,     0.61261,     0.61361,     0.61461,     0.61562,     0.61662,     0.61762,     0.61862,     0.61962,     0.62062,     0.62162,     0.62262,     0.62362,\n",
              "           0.62462,     0.62563,     0.62663,     0.62763,     0.62863,     0.62963,     0.63063,     0.63163,     0.63263,     0.63363,     0.63463,     0.63564,     0.63664,     0.63764,     0.63864,     0.63964,     0.64064,     0.64164,     0.64264,     0.64364,     0.64464,     0.64565,     0.64665,     0.64765,\n",
              "           0.64865,     0.64965,     0.65065,     0.65165,     0.65265,     0.65365,     0.65465,     0.65566,     0.65666,     0.65766,     0.65866,     0.65966,     0.66066,     0.66166,     0.66266,     0.66366,     0.66466,     0.66567,     0.66667,     0.66767,     0.66867,     0.66967,     0.67067,     0.67167,\n",
              "           0.67267,     0.67367,     0.67467,     0.67568,     0.67668,     0.67768,     0.67868,     0.67968,     0.68068,     0.68168,     0.68268,     0.68368,     0.68468,     0.68569,     0.68669,     0.68769,     0.68869,     0.68969,     0.69069,     0.69169,     0.69269,     0.69369,     0.69469,      0.6957,\n",
              "            0.6967,      0.6977,      0.6987,      0.6997,      0.7007,      0.7017,      0.7027,      0.7037,      0.7047,     0.70571,     0.70671,     0.70771,     0.70871,     0.70971,     0.71071,     0.71171,     0.71271,     0.71371,     0.71471,     0.71572,     0.71672,     0.71772,     0.71872,     0.71972,\n",
              "           0.72072,     0.72172,     0.72272,     0.72372,     0.72472,     0.72573,     0.72673,     0.72773,     0.72873,     0.72973,     0.73073,     0.73173,     0.73273,     0.73373,     0.73473,     0.73574,     0.73674,     0.73774,     0.73874,     0.73974,     0.74074,     0.74174,     0.74274,     0.74374,\n",
              "           0.74474,     0.74575,     0.74675,     0.74775,     0.74875,     0.74975,     0.75075,     0.75175,     0.75275,     0.75375,     0.75475,     0.75576,     0.75676,     0.75776,     0.75876,     0.75976,     0.76076,     0.76176,     0.76276,     0.76376,     0.76476,     0.76577,     0.76677,     0.76777,\n",
              "           0.76877,     0.76977,     0.77077,     0.77177,     0.77277,     0.77377,     0.77477,     0.77578,     0.77678,     0.77778,     0.77878,     0.77978,     0.78078,     0.78178,     0.78278,     0.78378,     0.78478,     0.78579,     0.78679,     0.78779,     0.78879,     0.78979,     0.79079,     0.79179,\n",
              "           0.79279,     0.79379,     0.79479,      0.7958,      0.7968,      0.7978,      0.7988,      0.7998,      0.8008,      0.8018,      0.8028,      0.8038,      0.8048,     0.80581,     0.80681,     0.80781,     0.80881,     0.80981,     0.81081,     0.81181,     0.81281,     0.81381,     0.81481,     0.81582,\n",
              "           0.81682,     0.81782,     0.81882,     0.81982,     0.82082,     0.82182,     0.82282,     0.82382,     0.82482,     0.82583,     0.82683,     0.82783,     0.82883,     0.82983,     0.83083,     0.83183,     0.83283,     0.83383,     0.83483,     0.83584,     0.83684,     0.83784,     0.83884,     0.83984,\n",
              "           0.84084,     0.84184,     0.84284,     0.84384,     0.84484,     0.84585,     0.84685,     0.84785,     0.84885,     0.84985,     0.85085,     0.85185,     0.85285,     0.85385,     0.85485,     0.85586,     0.85686,     0.85786,     0.85886,     0.85986,     0.86086,     0.86186,     0.86286,     0.86386,\n",
              "           0.86486,     0.86587,     0.86687,     0.86787,     0.86887,     0.86987,     0.87087,     0.87187,     0.87287,     0.87387,     0.87487,     0.87588,     0.87688,     0.87788,     0.87888,     0.87988,     0.88088,     0.88188,     0.88288,     0.88388,     0.88488,     0.88589,     0.88689,     0.88789,\n",
              "           0.88889,     0.88989,     0.89089,     0.89189,     0.89289,     0.89389,     0.89489,      0.8959,      0.8969,      0.8979,      0.8989,      0.8999,      0.9009,      0.9019,      0.9029,      0.9039,      0.9049,     0.90591,     0.90691,     0.90791,     0.90891,     0.90991,     0.91091,     0.91191,\n",
              "           0.91291,     0.91391,     0.91491,     0.91592,     0.91692,     0.91792,     0.91892,     0.91992,     0.92092,     0.92192,     0.92292,     0.92392,     0.92492,     0.92593,     0.92693,     0.92793,     0.92893,     0.92993,     0.93093,     0.93193,     0.93293,     0.93393,     0.93493,     0.93594,\n",
              "           0.93694,     0.93794,     0.93894,     0.93994,     0.94094,     0.94194,     0.94294,     0.94394,     0.94494,     0.94595,     0.94695,     0.94795,     0.94895,     0.94995,     0.95095,     0.95195,     0.95295,     0.95395,     0.95495,     0.95596,     0.95696,     0.95796,     0.95896,     0.95996,\n",
              "           0.96096,     0.96196,     0.96296,     0.96396,     0.96496,     0.96597,     0.96697,     0.96797,     0.96897,     0.96997,     0.97097,     0.97197,     0.97297,     0.97397,     0.97497,     0.97598,     0.97698,     0.97798,     0.97898,     0.97998,     0.98098,     0.98198,     0.98298,     0.98398,\n",
              "           0.98498,     0.98599,     0.98699,     0.98799,     0.98899,     0.98999,     0.99099,     0.99199,     0.99299,     0.99399,     0.99499,       0.996,       0.997,       0.998,       0.999,           1]), array([[    0.42922,     0.42922,     0.51678,     0.55698,     0.57771,     0.59107,     0.60099,     0.60778,     0.61424,     0.61982,     0.62384,      0.6282,     0.63122,     0.63455,     0.63843,     0.64167,     0.64352,     0.64527,     0.64764,     0.64946,     0.65078,     0.65196,     0.65389,\n",
              "            0.65486,       0.656,     0.65694,     0.65788,     0.65879,     0.66016,     0.66099,     0.66215,     0.66343,     0.66439,     0.66515,     0.66589,      0.6667,     0.66711,     0.66767,     0.66795,      0.6685,     0.66937,     0.66982,      0.6702,     0.67068,     0.67117,     0.67159,\n",
              "            0.67225,     0.67266,     0.67325,     0.67401,     0.67454,     0.67519,     0.67563,     0.67609,     0.67614,     0.67684,     0.67751,      0.6776,     0.67797,     0.67863,     0.67903,      0.6794,     0.68007,     0.68009,     0.68034,     0.68077,     0.68095,     0.68123,     0.68168,\n",
              "            0.68226,     0.68265,     0.68298,     0.68317,     0.68349,     0.68395,     0.68418,     0.68424,     0.68469,     0.68479,     0.68511,     0.68533,     0.68565,     0.68608,     0.68623,     0.68656,     0.68679,     0.68681,     0.68701,      0.6869,     0.68732,     0.68765,     0.68787,\n",
              "             0.6881,     0.68836,      0.6885,     0.68851,     0.68881,     0.68913,     0.68957,     0.68995,     0.69012,     0.69022,     0.69056,     0.69087,     0.69111,     0.69122,     0.69117,     0.69165,     0.69175,     0.69175,     0.69191,     0.69225,     0.69246,     0.69287,     0.69297,\n",
              "            0.69299,     0.69341,     0.69361,     0.69368,     0.69409,     0.69427,     0.69437,     0.69477,     0.69526,     0.69508,     0.69534,     0.69537,     0.69547,     0.69551,     0.69569,     0.69589,     0.69603,     0.69626,     0.69629,     0.69635,     0.69682,     0.69706,     0.69714,\n",
              "            0.69726,     0.69727,      0.6975,     0.69761,     0.69773,      0.6978,      0.6979,     0.69824,      0.6984,     0.69858,     0.69853,     0.69858,     0.69874,     0.69888,     0.69909,     0.69909,     0.69935,     0.69951,     0.69958,     0.69963,     0.69962,     0.69975,         0.7,\n",
              "            0.70023,     0.70028,     0.70018,     0.70019,     0.69992,         0.7,     0.70006,     0.70031,     0.70044,     0.70052,     0.70069,     0.70062,     0.70049,     0.70062,     0.70072,     0.70076,     0.70091,     0.70102,     0.70114,     0.70133,     0.70134,     0.70143,     0.70168,\n",
              "            0.70179,     0.70185,     0.70181,     0.70185,     0.70192,     0.70216,     0.70222,     0.70227,      0.7024,     0.70244,     0.70248,     0.70264,     0.70275,     0.70284,     0.70287,     0.70287,     0.70291,     0.70294,     0.70297,     0.70318,     0.70332,     0.70335,     0.70337,\n",
              "            0.70347,     0.70365,     0.70367,      0.7037,     0.70363,     0.70387,     0.70395,     0.70408,     0.70403,     0.70389,     0.70388,     0.70403,     0.70408,     0.70406,     0.70412,     0.70415,     0.70412,     0.70421,     0.70414,     0.70417,     0.70424,     0.70439,     0.70429,\n",
              "             0.7044,     0.70442,     0.70444,     0.70445,     0.70447,     0.70451,     0.70471,     0.70469,     0.70472,     0.70475,     0.70491,     0.70499,     0.70498,     0.70506,     0.70511,     0.70507,     0.70506,     0.70506,     0.70503,     0.70506,     0.70508,     0.70511,     0.70514,\n",
              "             0.7052,     0.70512,     0.70528,     0.70532,     0.70535,     0.70546,     0.70552,     0.70561,     0.70591,     0.70604,     0.70595,     0.70597,       0.706,     0.70602,     0.70605,     0.70594,     0.70597,       0.706,     0.70576,     0.70578,     0.70579,     0.70581,     0.70583,\n",
              "            0.70588,     0.70598,     0.70601,     0.70593,     0.70599,     0.70603,     0.70611,     0.70616,     0.70622,     0.70615,      0.7062,     0.70629,     0.70634,     0.70637,     0.70639,     0.70662,     0.70672,     0.70663,     0.70665,     0.70669,     0.70673,     0.70683,     0.70686,\n",
              "             0.7069,     0.70699,     0.70707,     0.70714,     0.70726,     0.70732,     0.70735,     0.70731,     0.70727,     0.70724,     0.70726,     0.70728,      0.7073,     0.70732,     0.70723,      0.7072,     0.70722,     0.70724,     0.70726,     0.70733,     0.70748,     0.70756,     0.70765,\n",
              "            0.70762,     0.70758,     0.70761,     0.70753,     0.70751,     0.70755,     0.70751,     0.70743,     0.70745,     0.70747,     0.70749,     0.70752,     0.70756,     0.70763,     0.70757,      0.7075,     0.70743,     0.70737,     0.70732,     0.70727,     0.70716,       0.707,     0.70689,\n",
              "            0.70693,     0.70665,     0.70662,      0.7067,     0.70677,     0.70685,     0.70699,     0.70694,      0.7069,     0.70688,     0.70692,     0.70698,     0.70702,     0.70704,     0.70707,     0.70714,     0.70715,     0.70717,     0.70718,     0.70719,      0.7072,     0.70732,     0.70737,\n",
              "            0.70741,     0.70729,     0.70745,     0.70748,     0.70746,     0.70733,     0.70737,     0.70734,     0.70728,     0.70732,     0.70748,     0.70751,     0.70753,      0.7073,     0.70737,     0.70744,     0.70731,     0.70721,     0.70713,      0.7072,     0.70724,     0.70737,     0.70759,\n",
              "            0.70753,     0.70757,     0.70761,     0.70768,     0.70772,     0.70769,     0.70783,     0.70785,     0.70788,     0.70794,     0.70789,     0.70784,     0.70796,     0.70794,     0.70789,     0.70785,     0.70768,      0.7077,     0.70752,     0.70743,     0.70747,      0.7075,     0.70754,\n",
              "            0.70759,     0.70765,     0.70769,     0.70772,     0.70776,     0.70755,     0.70754,     0.70758,      0.7076,     0.70763,     0.70764,     0.70741,     0.70747,      0.7075,     0.70752,     0.70762,     0.70765,     0.70769,     0.70772,     0.70771,     0.70778,     0.70786,     0.70792,\n",
              "            0.70796,     0.70799,     0.70803,     0.70806,     0.70799,     0.70803,     0.70811,     0.70813,     0.70807,     0.70812,     0.70819,     0.70814,     0.70821,     0.70832,     0.70835,     0.70828,     0.70821,     0.70798,     0.70807,     0.70821,     0.70833,     0.70837,     0.70836,\n",
              "            0.70829,     0.70823,     0.70816,     0.70815,     0.70819,     0.70825,      0.7083,     0.70833,     0.70846,     0.70839,     0.70841,     0.70848,     0.70859,     0.70863,     0.70852,     0.70834,      0.7083,     0.70825,     0.70834,     0.70837,     0.70846,     0.70839,     0.70833,\n",
              "            0.70821,     0.70825,     0.70835,     0.70837,     0.70838,      0.7084,     0.70842,     0.70846,     0.70838,     0.70856,     0.70852,     0.70849,     0.70846,     0.70847,     0.70854,     0.70855,     0.70848,     0.70846,     0.70838,     0.70835,     0.70831,     0.70828,     0.70819,\n",
              "            0.70826,     0.70819,     0.70811,     0.70804,     0.70804,     0.70807,     0.70809,     0.70793,     0.70789,     0.70785,      0.7079,     0.70792,     0.70786,     0.70787,     0.70789,     0.70791,     0.70792,     0.70785,      0.7078,     0.70781,     0.70783,     0.70784,     0.70785,\n",
              "            0.70783,     0.70776,     0.70774,     0.70772,      0.7077,     0.70768,     0.70766,     0.70763,     0.70763,     0.70766,     0.70768,     0.70768,     0.70766,     0.70765,     0.70763,     0.70761,     0.70759,     0.70757,     0.70749,     0.70756,     0.70755,     0.70762,     0.70765,\n",
              "            0.70756,     0.70743,     0.70747,     0.70754,     0.70747,     0.70743,     0.70745,     0.70747,      0.7075,     0.70752,     0.70755,     0.70735,     0.70732,     0.70736,     0.70733,     0.70726,     0.70715,     0.70724,     0.70727,     0.70728,     0.70729,     0.70731,     0.70732,\n",
              "            0.70743,     0.70746,     0.70722,     0.70724,     0.70728,     0.70715,     0.70703,     0.70725,     0.70727,     0.70729,     0.70722,     0.70703,     0.70701,     0.70705,     0.70696,     0.70683,     0.70689,     0.70683,     0.70671,     0.70662,     0.70655,     0.70645,      0.7064,\n",
              "            0.70647,     0.70655,     0.70662,     0.70666,     0.70667,     0.70668,     0.70669,      0.7067,     0.70671,     0.70671,     0.70667,     0.70663,     0.70656,      0.7063,     0.70578,     0.70579,     0.70586,     0.70586,     0.70591,     0.70598,     0.70586,     0.70589,     0.70584,\n",
              "            0.70587,     0.70549,     0.70554,     0.70542,     0.70533,      0.7054,     0.70533,     0.70536,     0.70522,     0.70517,     0.70513,      0.7049,      0.7049,     0.70484,     0.70491,      0.7049,     0.70471,     0.70457,     0.70453,     0.70448,     0.70444,     0.70431,     0.70426,\n",
              "             0.7042,      0.7041,     0.70397,     0.70395,     0.70399,     0.70387,     0.70391,     0.70377,     0.70364,     0.70347,     0.70338,     0.70349,      0.7034,     0.70344,     0.70354,     0.70359,     0.70362,     0.70364,     0.70354,     0.70334,     0.70337,     0.70313,     0.70304,\n",
              "            0.70287,     0.70267,     0.70257,     0.70252,     0.70255,     0.70254,      0.7025,     0.70248,     0.70244,     0.70239,     0.70243,     0.70236,     0.70241,     0.70244,     0.70247,     0.70251,     0.70255,     0.70252,     0.70267,      0.7027,     0.70271,     0.70275,     0.70271,\n",
              "            0.70267,     0.70271,     0.70277,     0.70282,     0.70281,     0.70265,     0.70242,     0.70222,     0.70222,      0.7022,     0.70215,     0.70224,     0.70229,     0.70229,     0.70224,     0.70193,     0.70186,     0.70183,     0.70187,     0.70196,     0.70186,     0.70161,     0.70152,\n",
              "             0.7014,     0.70126,     0.70106,     0.70078,     0.70074,     0.70078,     0.70074,     0.70061,     0.70028,     0.70019,     0.70026,     0.70021,     0.69983,     0.69974,     0.69962,     0.69949,     0.69949,     0.69915,     0.69919,     0.69924,     0.69918,     0.69903,     0.69894,\n",
              "            0.69898,     0.69903,     0.69924,     0.69894,     0.69879,     0.69884,     0.69877,     0.69868,     0.69861,     0.69864,     0.69846,      0.6987,     0.69875,     0.69867,     0.69848,     0.69839,     0.69843,     0.69762,     0.69753,      0.6974,     0.69731,      0.6972,      0.6971,\n",
              "            0.69716,     0.69722,     0.69703,     0.69706,     0.69706,     0.69698,       0.697,     0.69695,     0.69669,      0.6966,     0.69669,     0.69656,     0.69653,     0.69636,     0.69631,     0.69596,     0.69566,     0.69581,     0.69569,     0.69572,     0.69576,      0.6959,     0.69608,\n",
              "            0.69622,     0.69626,     0.69618,     0.69586,     0.69598,     0.69614,     0.69602,     0.69593,     0.69561,     0.69564,     0.69547,     0.69552,     0.69565,     0.69573,     0.69575,     0.69548,     0.69544,     0.69539,     0.69539,      0.6955,     0.69532,     0.69513,     0.69513,\n",
              "            0.69508,     0.69507,     0.69481,     0.69462,     0.69465,     0.69444,      0.6943,     0.69435,     0.69398,     0.69392,     0.69405,     0.69378,     0.69374,     0.69352,     0.69324,     0.69284,     0.69275,     0.69263,     0.69203,     0.69189,      0.6916,     0.69153,     0.69136,\n",
              "            0.69127,     0.69127,     0.69097,     0.69106,     0.69087,     0.69086,     0.69073,     0.69082,     0.69038,     0.69046,     0.69057,     0.69024,     0.68999,     0.69019,     0.68988,     0.69003,     0.69007,     0.69012,     0.69013,     0.68992,     0.68968,     0.68976,     0.68991,\n",
              "            0.68994,     0.68946,     0.68913,     0.68897,     0.68864,     0.68861,     0.68883,     0.68884,     0.68872,     0.68852,     0.68824,     0.68797,     0.68773,     0.68765,     0.68755,     0.68727,     0.68707,     0.68652,       0.686,     0.68629,     0.68566,     0.68563,     0.68522,\n",
              "            0.68502,     0.68432,     0.68328,     0.68292,     0.68259,     0.68225,     0.68098,     0.67972,     0.67951,     0.67906,     0.67873,     0.67818,     0.67748,     0.67707,     0.67699,     0.67702,     0.67688,      0.6764,     0.67591,     0.67547,     0.67534,     0.67505,     0.67495,\n",
              "             0.6737,     0.67341,     0.67319,     0.67177,     0.67161,     0.67097,     0.67039,      0.6701,     0.66944,     0.66872,     0.66793,     0.66728,      0.6671,     0.66532,     0.66438,     0.66408,     0.66319,     0.66214,      0.6614,     0.66078,     0.65967,     0.65846,     0.65739,\n",
              "            0.65564,     0.65436,     0.65313,     0.65087,     0.64967,     0.64733,     0.64642,     0.64434,     0.64054,     0.63848,     0.63289,     0.62532,        0.62,     0.61415,     0.60791,     0.60353,      0.5989,     0.58974,     0.58285,      0.5708,     0.55757,     0.55005,     0.54095,\n",
              "             0.5241,     0.51489,     0.49388,       0.473,     0.44102,     0.41565,     0.37652,     0.34574,     0.29645,      0.2532,      0.2216,       0.201,     0.18604,     0.16139,     0.14058,     0.12216,     0.10958,    0.092472,    0.074186,    0.059258,    0.053807,    0.043101,    0.036485,\n",
              "           0.028889,    0.025052,    0.020729,    0.016368,    0.012469,    0.010014,   0.0083572,   0.0078757,   0.0055462,   0.0039963,   0.0020499,   0.0015068,           0,           0,           0,           0,           0,           0,           0,           0,           0,           0,           0,\n",
              "                  0,           0,           0,           0,           0,           0,           0,           0,           0,           0,           0]]), 'Confidence', 'F1'], [array([          0,    0.001001,    0.002002,    0.003003,    0.004004,    0.005005,    0.006006,    0.007007,    0.008008,    0.009009,     0.01001,    0.011011,    0.012012,    0.013013,    0.014014,    0.015015,    0.016016,    0.017017,    0.018018,    0.019019,     0.02002,    0.021021,    0.022022,    0.023023,\n",
              "          0.024024,    0.025025,    0.026026,    0.027027,    0.028028,    0.029029,     0.03003,    0.031031,    0.032032,    0.033033,    0.034034,    0.035035,    0.036036,    0.037037,    0.038038,    0.039039,     0.04004,    0.041041,    0.042042,    0.043043,    0.044044,    0.045045,    0.046046,    0.047047,\n",
              "          0.048048,    0.049049,     0.05005,    0.051051,    0.052052,    0.053053,    0.054054,    0.055055,    0.056056,    0.057057,    0.058058,    0.059059,     0.06006,    0.061061,    0.062062,    0.063063,    0.064064,    0.065065,    0.066066,    0.067067,    0.068068,    0.069069,     0.07007,    0.071071,\n",
              "          0.072072,    0.073073,    0.074074,    0.075075,    0.076076,    0.077077,    0.078078,    0.079079,     0.08008,    0.081081,    0.082082,    0.083083,    0.084084,    0.085085,    0.086086,    0.087087,    0.088088,    0.089089,     0.09009,    0.091091,    0.092092,    0.093093,    0.094094,    0.095095,\n",
              "          0.096096,    0.097097,    0.098098,    0.099099,      0.1001,      0.1011,      0.1021,      0.1031,      0.1041,     0.10511,     0.10611,     0.10711,     0.10811,     0.10911,     0.11011,     0.11111,     0.11211,     0.11311,     0.11411,     0.11512,     0.11612,     0.11712,     0.11812,     0.11912,\n",
              "           0.12012,     0.12112,     0.12212,     0.12312,     0.12412,     0.12513,     0.12613,     0.12713,     0.12813,     0.12913,     0.13013,     0.13113,     0.13213,     0.13313,     0.13413,     0.13514,     0.13614,     0.13714,     0.13814,     0.13914,     0.14014,     0.14114,     0.14214,     0.14314,\n",
              "           0.14414,     0.14515,     0.14615,     0.14715,     0.14815,     0.14915,     0.15015,     0.15115,     0.15215,     0.15315,     0.15415,     0.15516,     0.15616,     0.15716,     0.15816,     0.15916,     0.16016,     0.16116,     0.16216,     0.16316,     0.16416,     0.16517,     0.16617,     0.16717,\n",
              "           0.16817,     0.16917,     0.17017,     0.17117,     0.17217,     0.17317,     0.17417,     0.17518,     0.17618,     0.17718,     0.17818,     0.17918,     0.18018,     0.18118,     0.18218,     0.18318,     0.18418,     0.18519,     0.18619,     0.18719,     0.18819,     0.18919,     0.19019,     0.19119,\n",
              "           0.19219,     0.19319,     0.19419,      0.1952,      0.1962,      0.1972,      0.1982,      0.1992,      0.2002,      0.2012,      0.2022,      0.2032,      0.2042,     0.20521,     0.20621,     0.20721,     0.20821,     0.20921,     0.21021,     0.21121,     0.21221,     0.21321,     0.21421,     0.21522,\n",
              "           0.21622,     0.21722,     0.21822,     0.21922,     0.22022,     0.22122,     0.22222,     0.22322,     0.22422,     0.22523,     0.22623,     0.22723,     0.22823,     0.22923,     0.23023,     0.23123,     0.23223,     0.23323,     0.23423,     0.23524,     0.23624,     0.23724,     0.23824,     0.23924,\n",
              "           0.24024,     0.24124,     0.24224,     0.24324,     0.24424,     0.24525,     0.24625,     0.24725,     0.24825,     0.24925,     0.25025,     0.25125,     0.25225,     0.25325,     0.25425,     0.25526,     0.25626,     0.25726,     0.25826,     0.25926,     0.26026,     0.26126,     0.26226,     0.26326,\n",
              "           0.26426,     0.26527,     0.26627,     0.26727,     0.26827,     0.26927,     0.27027,     0.27127,     0.27227,     0.27327,     0.27427,     0.27528,     0.27628,     0.27728,     0.27828,     0.27928,     0.28028,     0.28128,     0.28228,     0.28328,     0.28428,     0.28529,     0.28629,     0.28729,\n",
              "           0.28829,     0.28929,     0.29029,     0.29129,     0.29229,     0.29329,     0.29429,      0.2953,      0.2963,      0.2973,      0.2983,      0.2993,      0.3003,      0.3013,      0.3023,      0.3033,      0.3043,     0.30531,     0.30631,     0.30731,     0.30831,     0.30931,     0.31031,     0.31131,\n",
              "           0.31231,     0.31331,     0.31431,     0.31532,     0.31632,     0.31732,     0.31832,     0.31932,     0.32032,     0.32132,     0.32232,     0.32332,     0.32432,     0.32533,     0.32633,     0.32733,     0.32833,     0.32933,     0.33033,     0.33133,     0.33233,     0.33333,     0.33433,     0.33534,\n",
              "           0.33634,     0.33734,     0.33834,     0.33934,     0.34034,     0.34134,     0.34234,     0.34334,     0.34434,     0.34535,     0.34635,     0.34735,     0.34835,     0.34935,     0.35035,     0.35135,     0.35235,     0.35335,     0.35435,     0.35536,     0.35636,     0.35736,     0.35836,     0.35936,\n",
              "           0.36036,     0.36136,     0.36236,     0.36336,     0.36436,     0.36537,     0.36637,     0.36737,     0.36837,     0.36937,     0.37037,     0.37137,     0.37237,     0.37337,     0.37437,     0.37538,     0.37638,     0.37738,     0.37838,     0.37938,     0.38038,     0.38138,     0.38238,     0.38338,\n",
              "           0.38438,     0.38539,     0.38639,     0.38739,     0.38839,     0.38939,     0.39039,     0.39139,     0.39239,     0.39339,     0.39439,      0.3954,      0.3964,      0.3974,      0.3984,      0.3994,      0.4004,      0.4014,      0.4024,      0.4034,      0.4044,     0.40541,     0.40641,     0.40741,\n",
              "           0.40841,     0.40941,     0.41041,     0.41141,     0.41241,     0.41341,     0.41441,     0.41542,     0.41642,     0.41742,     0.41842,     0.41942,     0.42042,     0.42142,     0.42242,     0.42342,     0.42442,     0.42543,     0.42643,     0.42743,     0.42843,     0.42943,     0.43043,     0.43143,\n",
              "           0.43243,     0.43343,     0.43443,     0.43544,     0.43644,     0.43744,     0.43844,     0.43944,     0.44044,     0.44144,     0.44244,     0.44344,     0.44444,     0.44545,     0.44645,     0.44745,     0.44845,     0.44945,     0.45045,     0.45145,     0.45245,     0.45345,     0.45445,     0.45546,\n",
              "           0.45646,     0.45746,     0.45846,     0.45946,     0.46046,     0.46146,     0.46246,     0.46346,     0.46446,     0.46547,     0.46647,     0.46747,     0.46847,     0.46947,     0.47047,     0.47147,     0.47247,     0.47347,     0.47447,     0.47548,     0.47648,     0.47748,     0.47848,     0.47948,\n",
              "           0.48048,     0.48148,     0.48248,     0.48348,     0.48448,     0.48549,     0.48649,     0.48749,     0.48849,     0.48949,     0.49049,     0.49149,     0.49249,     0.49349,     0.49449,      0.4955,      0.4965,      0.4975,      0.4985,      0.4995,      0.5005,      0.5015,      0.5025,      0.5035,\n",
              "            0.5045,     0.50551,     0.50651,     0.50751,     0.50851,     0.50951,     0.51051,     0.51151,     0.51251,     0.51351,     0.51451,     0.51552,     0.51652,     0.51752,     0.51852,     0.51952,     0.52052,     0.52152,     0.52252,     0.52352,     0.52452,     0.52553,     0.52653,     0.52753,\n",
              "           0.52853,     0.52953,     0.53053,     0.53153,     0.53253,     0.53353,     0.53453,     0.53554,     0.53654,     0.53754,     0.53854,     0.53954,     0.54054,     0.54154,     0.54254,     0.54354,     0.54454,     0.54555,     0.54655,     0.54755,     0.54855,     0.54955,     0.55055,     0.55155,\n",
              "           0.55255,     0.55355,     0.55455,     0.55556,     0.55656,     0.55756,     0.55856,     0.55956,     0.56056,     0.56156,     0.56256,     0.56356,     0.56456,     0.56557,     0.56657,     0.56757,     0.56857,     0.56957,     0.57057,     0.57157,     0.57257,     0.57357,     0.57457,     0.57558,\n",
              "           0.57658,     0.57758,     0.57858,     0.57958,     0.58058,     0.58158,     0.58258,     0.58358,     0.58458,     0.58559,     0.58659,     0.58759,     0.58859,     0.58959,     0.59059,     0.59159,     0.59259,     0.59359,     0.59459,      0.5956,      0.5966,      0.5976,      0.5986,      0.5996,\n",
              "            0.6006,      0.6016,      0.6026,      0.6036,      0.6046,     0.60561,     0.60661,     0.60761,     0.60861,     0.60961,     0.61061,     0.61161,     0.61261,     0.61361,     0.61461,     0.61562,     0.61662,     0.61762,     0.61862,     0.61962,     0.62062,     0.62162,     0.62262,     0.62362,\n",
              "           0.62462,     0.62563,     0.62663,     0.62763,     0.62863,     0.62963,     0.63063,     0.63163,     0.63263,     0.63363,     0.63463,     0.63564,     0.63664,     0.63764,     0.63864,     0.63964,     0.64064,     0.64164,     0.64264,     0.64364,     0.64464,     0.64565,     0.64665,     0.64765,\n",
              "           0.64865,     0.64965,     0.65065,     0.65165,     0.65265,     0.65365,     0.65465,     0.65566,     0.65666,     0.65766,     0.65866,     0.65966,     0.66066,     0.66166,     0.66266,     0.66366,     0.66466,     0.66567,     0.66667,     0.66767,     0.66867,     0.66967,     0.67067,     0.67167,\n",
              "           0.67267,     0.67367,     0.67467,     0.67568,     0.67668,     0.67768,     0.67868,     0.67968,     0.68068,     0.68168,     0.68268,     0.68368,     0.68468,     0.68569,     0.68669,     0.68769,     0.68869,     0.68969,     0.69069,     0.69169,     0.69269,     0.69369,     0.69469,      0.6957,\n",
              "            0.6967,      0.6977,      0.6987,      0.6997,      0.7007,      0.7017,      0.7027,      0.7037,      0.7047,     0.70571,     0.70671,     0.70771,     0.70871,     0.70971,     0.71071,     0.71171,     0.71271,     0.71371,     0.71471,     0.71572,     0.71672,     0.71772,     0.71872,     0.71972,\n",
              "           0.72072,     0.72172,     0.72272,     0.72372,     0.72472,     0.72573,     0.72673,     0.72773,     0.72873,     0.72973,     0.73073,     0.73173,     0.73273,     0.73373,     0.73473,     0.73574,     0.73674,     0.73774,     0.73874,     0.73974,     0.74074,     0.74174,     0.74274,     0.74374,\n",
              "           0.74474,     0.74575,     0.74675,     0.74775,     0.74875,     0.74975,     0.75075,     0.75175,     0.75275,     0.75375,     0.75475,     0.75576,     0.75676,     0.75776,     0.75876,     0.75976,     0.76076,     0.76176,     0.76276,     0.76376,     0.76476,     0.76577,     0.76677,     0.76777,\n",
              "           0.76877,     0.76977,     0.77077,     0.77177,     0.77277,     0.77377,     0.77477,     0.77578,     0.77678,     0.77778,     0.77878,     0.77978,     0.78078,     0.78178,     0.78278,     0.78378,     0.78478,     0.78579,     0.78679,     0.78779,     0.78879,     0.78979,     0.79079,     0.79179,\n",
              "           0.79279,     0.79379,     0.79479,      0.7958,      0.7968,      0.7978,      0.7988,      0.7998,      0.8008,      0.8018,      0.8028,      0.8038,      0.8048,     0.80581,     0.80681,     0.80781,     0.80881,     0.80981,     0.81081,     0.81181,     0.81281,     0.81381,     0.81481,     0.81582,\n",
              "           0.81682,     0.81782,     0.81882,     0.81982,     0.82082,     0.82182,     0.82282,     0.82382,     0.82482,     0.82583,     0.82683,     0.82783,     0.82883,     0.82983,     0.83083,     0.83183,     0.83283,     0.83383,     0.83483,     0.83584,     0.83684,     0.83784,     0.83884,     0.83984,\n",
              "           0.84084,     0.84184,     0.84284,     0.84384,     0.84484,     0.84585,     0.84685,     0.84785,     0.84885,     0.84985,     0.85085,     0.85185,     0.85285,     0.85385,     0.85485,     0.85586,     0.85686,     0.85786,     0.85886,     0.85986,     0.86086,     0.86186,     0.86286,     0.86386,\n",
              "           0.86486,     0.86587,     0.86687,     0.86787,     0.86887,     0.86987,     0.87087,     0.87187,     0.87287,     0.87387,     0.87487,     0.87588,     0.87688,     0.87788,     0.87888,     0.87988,     0.88088,     0.88188,     0.88288,     0.88388,     0.88488,     0.88589,     0.88689,     0.88789,\n",
              "           0.88889,     0.88989,     0.89089,     0.89189,     0.89289,     0.89389,     0.89489,      0.8959,      0.8969,      0.8979,      0.8989,      0.8999,      0.9009,      0.9019,      0.9029,      0.9039,      0.9049,     0.90591,     0.90691,     0.90791,     0.90891,     0.90991,     0.91091,     0.91191,\n",
              "           0.91291,     0.91391,     0.91491,     0.91592,     0.91692,     0.91792,     0.91892,     0.91992,     0.92092,     0.92192,     0.92292,     0.92392,     0.92492,     0.92593,     0.92693,     0.92793,     0.92893,     0.92993,     0.93093,     0.93193,     0.93293,     0.93393,     0.93493,     0.93594,\n",
              "           0.93694,     0.93794,     0.93894,     0.93994,     0.94094,     0.94194,     0.94294,     0.94394,     0.94494,     0.94595,     0.94695,     0.94795,     0.94895,     0.94995,     0.95095,     0.95195,     0.95295,     0.95395,     0.95495,     0.95596,     0.95696,     0.95796,     0.95896,     0.95996,\n",
              "           0.96096,     0.96196,     0.96296,     0.96396,     0.96496,     0.96597,     0.96697,     0.96797,     0.96897,     0.96997,     0.97097,     0.97197,     0.97297,     0.97397,     0.97497,     0.97598,     0.97698,     0.97798,     0.97898,     0.97998,     0.98098,     0.98198,     0.98298,     0.98398,\n",
              "           0.98498,     0.98599,     0.98699,     0.98799,     0.98899,     0.98999,     0.99099,     0.99199,     0.99299,     0.99399,     0.99499,       0.996,       0.997,       0.998,       0.999,           1]), array([[      0.277,       0.277,     0.35554,     0.39513,     0.41666,     0.43139,     0.44236,      0.4501,     0.45729,     0.46368,     0.46839,      0.4735,     0.47695,     0.48116,     0.48576,     0.48966,     0.49189,     0.49408,     0.49693,     0.49914,       0.501,      0.5024,     0.50476,\n",
              "            0.50599,     0.50735,     0.50863,     0.50983,     0.51108,      0.5128,     0.51381,     0.51536,     0.51692,     0.51808,     0.51908,     0.52019,     0.52121,     0.52171,     0.52248,     0.52289,     0.52358,     0.52472,     0.52536,     0.52586,      0.5265,     0.52718,     0.52777,\n",
              "             0.5286,     0.52918,     0.52991,     0.53094,     0.53159,      0.5324,     0.53294,     0.53352,     0.53358,     0.53445,      0.5353,     0.53549,     0.53595,      0.5368,     0.53737,     0.53782,     0.53867,     0.53878,     0.53909,     0.53962,        0.54,     0.54054,     0.54111,\n",
              "            0.54184,     0.54233,     0.54276,     0.54299,      0.5434,     0.54397,     0.54436,     0.54443,     0.54513,     0.54539,      0.5458,     0.54607,     0.54648,     0.54703,     0.54731,     0.54781,     0.54811,     0.54831,     0.54856,     0.54858,     0.54913,     0.54964,     0.54993,\n",
              "            0.55022,     0.55055,     0.55073,     0.55084,     0.55122,     0.55162,     0.55219,     0.55267,      0.5529,     0.55312,     0.55356,     0.55395,     0.55426,      0.5544,     0.55443,     0.55505,     0.55527,     0.55532,     0.55556,       0.556,     0.55627,      0.5568,     0.55693,\n",
              "            0.55705,     0.55759,     0.55785,     0.55794,     0.55846,     0.55873,     0.55892,     0.55944,     0.56008,      0.5601,     0.56045,      0.5605,     0.56071,     0.56077,     0.56101,     0.56127,     0.56145,     0.56185,     0.56188,     0.56196,     0.56257,     0.56288,     0.56298,\n",
              "            0.56314,     0.56325,     0.56356,     0.56369,     0.56385,     0.56402,     0.56417,     0.56461,     0.56483,     0.56515,     0.56528,     0.56533,     0.56555,     0.56573,     0.56601,     0.56608,     0.56654,     0.56675,     0.56685,       0.567,     0.56708,     0.56726,     0.56759,\n",
              "            0.56789,     0.56795,     0.56802,     0.56806,     0.56792,     0.56807,     0.56814,     0.56848,     0.56864,     0.56884,     0.56907,     0.56912,     0.56909,     0.56936,      0.5695,     0.56955,     0.56974,      0.5699,     0.57005,      0.5703,      0.5704,     0.57053,     0.57086,\n",
              "              0.571,     0.57109,     0.57113,     0.57118,     0.57127,     0.57159,     0.57177,     0.57184,     0.57201,     0.57206,     0.57211,     0.57233,     0.57248,     0.57259,     0.57263,     0.57273,     0.57288,     0.57292,     0.57296,     0.57324,     0.57343,     0.57346,      0.5735,\n",
              "            0.57363,     0.57386,     0.57389,     0.57393,      0.5739,     0.57426,     0.57436,     0.57454,     0.57454,     0.57449,     0.57457,     0.57477,     0.57484,      0.5749,     0.57498,     0.57503,     0.57502,     0.57523,     0.57521,     0.57525,     0.57534,     0.57554,      0.5755,\n",
              "            0.57566,     0.57568,     0.57571,     0.57573,     0.57575,     0.57581,     0.57607,     0.57614,     0.57618,     0.57622,     0.57654,     0.57665,     0.57674,     0.57684,      0.5769,     0.57695,     0.57699,     0.57704,      0.5771,     0.57713,     0.57717,     0.57721,     0.57725,\n",
              "            0.57734,     0.57732,     0.57754,     0.57759,     0.57763,     0.57778,     0.57785,     0.57798,     0.57838,     0.57855,     0.57851,     0.57856,      0.5787,     0.57873,     0.57876,     0.57873,     0.57877,     0.57881,     0.57868,     0.57871,     0.57873,     0.57875,     0.57878,\n",
              "            0.57884,     0.57898,     0.57902,     0.57901,      0.5791,     0.57915,     0.57926,     0.57932,      0.5794,     0.57941,     0.57948,      0.5796,     0.57966,      0.5797,     0.57974,     0.58005,     0.58018,     0.58014,     0.58019,     0.58025,      0.5803,     0.58043,     0.58047,\n",
              "            0.58053,     0.58064,     0.58075,     0.58085,     0.58101,     0.58109,     0.58114,     0.58112,      0.5811,     0.58109,     0.58111,     0.58114,     0.58117,     0.58124,     0.58119,     0.58123,     0.58126,     0.58129,     0.58132,     0.58141,     0.58162,     0.58172,     0.58186,\n",
              "            0.58184,     0.58182,      0.5819,     0.58186,     0.58185,     0.58191,      0.5819,     0.58186,     0.58189,     0.58191,     0.58194,     0.58198,     0.58204,     0.58213,      0.5821,     0.58206,     0.58202,     0.58199,     0.58197,     0.58194,     0.58188,      0.5818,     0.58174,\n",
              "             0.5818,     0.58167,     0.58168,     0.58179,     0.58188,       0.582,     0.58219,     0.58216,     0.58214,     0.58214,     0.58219,     0.58228,     0.58233,     0.58236,      0.5824,     0.58249,     0.58251,     0.58253,     0.58255,     0.58256,     0.58258,     0.58274,     0.58281,\n",
              "            0.58286,      0.5828,     0.58302,     0.58306,     0.58306,     0.58306,     0.58311,     0.58311,     0.58308,     0.58315,     0.58338,     0.58341,     0.58344,     0.58333,     0.58343,     0.58353,      0.5835,     0.58344,      0.5834,     0.58351,     0.58356,     0.58374,     0.58404,\n",
              "            0.58407,     0.58412,     0.58417,     0.58426,     0.58432,     0.58433,     0.58458,     0.58461,     0.58465,     0.58474,     0.58472,     0.58469,     0.58486,     0.58486,     0.58484,     0.58481,     0.58479,     0.58485,     0.58481,     0.58477,     0.58482,     0.58487,     0.58492,\n",
              "            0.58499,     0.58507,     0.58512,     0.58517,     0.58522,     0.58512,     0.58513,     0.58518,     0.58522,     0.58526,     0.58528,     0.58517,     0.58525,     0.58528,     0.58532,     0.58545,      0.5855,     0.58555,     0.58559,     0.58569,     0.58578,     0.58589,     0.58597,\n",
              "            0.58602,     0.58607,     0.58612,      0.5862,     0.58616,     0.58623,     0.58633,     0.58641,     0.58638,     0.58646,     0.58656,     0.58659,     0.58669,     0.58683,     0.58688,     0.58684,     0.58681,     0.58669,     0.58681,       0.587,     0.58718,     0.58722,     0.58723,\n",
              "             0.5872,     0.58716,     0.58713,     0.58714,     0.58719,     0.58727,     0.58734,     0.58739,     0.58757,     0.58754,      0.5876,      0.5877,     0.58785,      0.5879,     0.58785,     0.58776,     0.58773,     0.58771,     0.58783,     0.58787,       0.588,     0.58796,     0.58792,\n",
              "            0.58787,     0.58791,     0.58806,     0.58808,     0.58811,     0.58813,     0.58816,     0.58821,     0.58821,     0.58846,     0.58844,     0.58843,     0.58841,     0.58844,     0.58854,     0.58858,     0.58854,     0.58859,     0.58854,     0.58853,     0.58851,     0.58849,     0.58844,\n",
              "            0.58858,     0.58856,     0.58852,     0.58848,      0.5885,     0.58853,     0.58857,     0.58849,     0.58846,     0.58844,     0.58853,      0.5886,     0.58856,     0.58859,     0.58861,     0.58864,     0.58866,     0.58862,     0.58859,     0.58861,     0.58863,     0.58865,     0.58867,\n",
              "            0.58867,     0.58865,     0.58874,     0.58873,     0.58872,     0.58871,      0.5887,     0.58869,     0.58869,     0.58873,     0.58876,     0.58877,     0.58876,     0.58875,     0.58874,     0.58873,     0.58872,     0.58871,     0.58871,     0.58881,     0.58888,       0.589,     0.58905,\n",
              "              0.589,     0.58896,     0.58901,      0.5891,     0.58907,     0.58906,      0.5891,     0.58913,     0.58916,     0.58919,     0.58923,     0.58913,     0.58914,     0.58919,     0.58918,     0.58915,     0.58909,     0.58924,     0.58928,      0.5893,     0.58932,     0.58934,     0.58936,\n",
              "             0.5895,     0.58955,     0.58942,     0.58947,     0.58951,     0.58945,     0.58939,     0.58969,     0.58972,     0.58976,     0.58976,     0.58969,      0.5897,     0.58975,     0.58971,     0.58964,     0.58979,     0.58976,      0.5897,      0.5897,     0.58967,     0.58962,     0.58962,\n",
              "            0.58972,     0.58982,     0.58992,     0.58998,     0.58999,     0.59001,     0.59002,     0.59004,     0.59005,     0.59006,     0.59004,     0.59002,     0.58998,     0.58984,     0.58957,     0.58965,     0.58975,     0.58979,     0.58993,     0.59004,     0.58998,     0.59005,     0.59003,\n",
              "             0.5901,      0.5899,     0.58999,     0.58992,     0.58988,     0.59003,        0.59,     0.59006,        0.59,     0.58998,     0.58995,     0.58997,     0.59002,     0.59001,     0.59011,     0.59014,     0.59004,     0.58996,     0.58994,     0.58992,     0.58989,     0.58982,     0.58979,\n",
              "            0.58977,     0.58971,     0.58964,     0.58965,      0.5897,     0.58966,     0.58971,     0.58966,     0.58959,     0.58954,     0.58951,     0.58969,     0.58968,     0.58973,     0.58988,     0.58994,     0.58998,     0.59001,     0.59003,     0.58992,     0.58997,     0.58987,     0.58989,\n",
              "            0.58979,     0.58975,      0.5897,     0.58968,     0.58973,     0.58974,     0.58976,     0.58978,     0.58975,     0.58973,     0.58979,      0.5898,     0.58988,     0.58992,     0.58996,     0.59001,     0.59007,     0.59015,     0.59035,     0.59045,     0.59052,     0.59057,     0.59058,\n",
              "            0.59058,     0.59063,     0.59072,      0.5908,     0.59081,     0.59078,     0.59067,     0.59063,     0.59069,     0.59074,     0.59071,     0.59089,     0.59098,     0.59108,     0.59107,     0.59103,       0.591,     0.59104,     0.59117,     0.59137,     0.59131,     0.59118,     0.59113,\n",
              "            0.59107,       0.591,     0.59089,     0.59079,     0.59084,      0.5909,     0.59091,     0.59083,     0.59066,     0.59061,     0.59075,     0.59075,     0.59061,     0.59056,      0.5905,     0.59049,     0.59062,     0.59045,     0.59052,     0.59058,     0.59058,      0.5905,     0.59051,\n",
              "            0.59068,     0.59075,     0.59105,     0.59089,     0.59088,     0.59095,     0.59097,     0.59101,     0.59098,     0.59105,     0.59096,     0.59135,     0.59142,     0.59139,     0.59129,     0.59124,     0.59131,     0.59089,     0.59085,     0.59078,     0.59078,     0.59073,     0.59084,\n",
              "            0.59093,       0.591,     0.59098,     0.59102,     0.59104,     0.59113,      0.5912,     0.59122,      0.5911,     0.59106,     0.59123,     0.59126,     0.59127,      0.5912,     0.59122,     0.59103,     0.59093,     0.59114,     0.59109,     0.59113,     0.59118,     0.59139,     0.59165,\n",
              "             0.5921,     0.59215,     0.59218,     0.59201,     0.59223,     0.59247,     0.59256,     0.59251,      0.5924,     0.59247,     0.59247,     0.59254,     0.59273,     0.59285,     0.59312,     0.59312,     0.59309,     0.59307,     0.59309,     0.59326,     0.59324,     0.59321,     0.59326,\n",
              "            0.59325,     0.59329,     0.59315,     0.59309,     0.59325,     0.59315,     0.59336,     0.59343,     0.59324,      0.5933,     0.59355,      0.5934,     0.59341,     0.59333,     0.59318,      0.5931,     0.59305,     0.59305,     0.59273,     0.59266,     0.59253,      0.5926,     0.59271,\n",
              "            0.59272,     0.59286,     0.59273,     0.59295,     0.59291,     0.59295,     0.59302,     0.59315,     0.59312,     0.59326,     0.59342,     0.59332,     0.59345,     0.59376,     0.59381,     0.59417,     0.59437,     0.59455,     0.59461,     0.59457,     0.59468,     0.59493,     0.59515,\n",
              "             0.5954,     0.59526,     0.59529,     0.59537,     0.59519,     0.59531,     0.59563,     0.59577,     0.59592,     0.59609,     0.59594,     0.59587,     0.59596,     0.59611,     0.59606,     0.59594,     0.59608,     0.59607,      0.5959,     0.59634,      0.5962,     0.59656,     0.59643,\n",
              "            0.59654,     0.59631,      0.5961,     0.59612,     0.59617,     0.59619,     0.59552,     0.59484,     0.59494,     0.59478,     0.59526,     0.59531,     0.59507,      0.5951,     0.59546,     0.59574,     0.59599,     0.59592,     0.59569,     0.59562,     0.59568,     0.59567,     0.59597,\n",
              "             0.5956,     0.59574,     0.59585,     0.59538,     0.59575,     0.59577,     0.59621,     0.59681,     0.59724,     0.59691,     0.59712,     0.59716,     0.59835,      0.5979,     0.59805,      0.5981,      0.5981,     0.59795,     0.59786,     0.59792,     0.59764,     0.59747,     0.59801,\n",
              "            0.59812,     0.59801,      0.5985,       0.598,     0.59877,     0.59811,      0.5993,     0.60001,     0.59933,     0.60006,     0.59837,     0.59539,     0.59491,     0.59353,     0.59229,     0.59231,     0.59237,     0.59076,     0.59129,     0.59391,     0.59706,     0.60193,     0.60887,\n",
              "            0.62161,     0.63666,     0.66521,     0.67611,     0.69822,     0.71268,     0.72373,     0.72998,     0.73422,     0.73398,     0.74194,     0.75291,     0.75537,     0.76208,     0.76885,     0.75129,     0.75632,     0.77428,      0.7487,     0.74382,     0.76839,     0.75579,     0.72999,\n",
              "            0.71309,     0.70108,     0.71451,     0.70524,     0.69817,     0.71824,     0.76092,      0.9333,           1,           1,           1,           1,           1,           1,           1,           1,           1,           1,           1,           1,           1,           1,           1,\n",
              "                  1,           1,           1,           1,           1,           1,           1,           1,           1,           1,           1]]), 'Confidence', 'Precision'], [array([          0,    0.001001,    0.002002,    0.003003,    0.004004,    0.005005,    0.006006,    0.007007,    0.008008,    0.009009,     0.01001,    0.011011,    0.012012,    0.013013,    0.014014,    0.015015,    0.016016,    0.017017,    0.018018,    0.019019,     0.02002,    0.021021,    0.022022,    0.023023,\n",
              "          0.024024,    0.025025,    0.026026,    0.027027,    0.028028,    0.029029,     0.03003,    0.031031,    0.032032,    0.033033,    0.034034,    0.035035,    0.036036,    0.037037,    0.038038,    0.039039,     0.04004,    0.041041,    0.042042,    0.043043,    0.044044,    0.045045,    0.046046,    0.047047,\n",
              "          0.048048,    0.049049,     0.05005,    0.051051,    0.052052,    0.053053,    0.054054,    0.055055,    0.056056,    0.057057,    0.058058,    0.059059,     0.06006,    0.061061,    0.062062,    0.063063,    0.064064,    0.065065,    0.066066,    0.067067,    0.068068,    0.069069,     0.07007,    0.071071,\n",
              "          0.072072,    0.073073,    0.074074,    0.075075,    0.076076,    0.077077,    0.078078,    0.079079,     0.08008,    0.081081,    0.082082,    0.083083,    0.084084,    0.085085,    0.086086,    0.087087,    0.088088,    0.089089,     0.09009,    0.091091,    0.092092,    0.093093,    0.094094,    0.095095,\n",
              "          0.096096,    0.097097,    0.098098,    0.099099,      0.1001,      0.1011,      0.1021,      0.1031,      0.1041,     0.10511,     0.10611,     0.10711,     0.10811,     0.10911,     0.11011,     0.11111,     0.11211,     0.11311,     0.11411,     0.11512,     0.11612,     0.11712,     0.11812,     0.11912,\n",
              "           0.12012,     0.12112,     0.12212,     0.12312,     0.12412,     0.12513,     0.12613,     0.12713,     0.12813,     0.12913,     0.13013,     0.13113,     0.13213,     0.13313,     0.13413,     0.13514,     0.13614,     0.13714,     0.13814,     0.13914,     0.14014,     0.14114,     0.14214,     0.14314,\n",
              "           0.14414,     0.14515,     0.14615,     0.14715,     0.14815,     0.14915,     0.15015,     0.15115,     0.15215,     0.15315,     0.15415,     0.15516,     0.15616,     0.15716,     0.15816,     0.15916,     0.16016,     0.16116,     0.16216,     0.16316,     0.16416,     0.16517,     0.16617,     0.16717,\n",
              "           0.16817,     0.16917,     0.17017,     0.17117,     0.17217,     0.17317,     0.17417,     0.17518,     0.17618,     0.17718,     0.17818,     0.17918,     0.18018,     0.18118,     0.18218,     0.18318,     0.18418,     0.18519,     0.18619,     0.18719,     0.18819,     0.18919,     0.19019,     0.19119,\n",
              "           0.19219,     0.19319,     0.19419,      0.1952,      0.1962,      0.1972,      0.1982,      0.1992,      0.2002,      0.2012,      0.2022,      0.2032,      0.2042,     0.20521,     0.20621,     0.20721,     0.20821,     0.20921,     0.21021,     0.21121,     0.21221,     0.21321,     0.21421,     0.21522,\n",
              "           0.21622,     0.21722,     0.21822,     0.21922,     0.22022,     0.22122,     0.22222,     0.22322,     0.22422,     0.22523,     0.22623,     0.22723,     0.22823,     0.22923,     0.23023,     0.23123,     0.23223,     0.23323,     0.23423,     0.23524,     0.23624,     0.23724,     0.23824,     0.23924,\n",
              "           0.24024,     0.24124,     0.24224,     0.24324,     0.24424,     0.24525,     0.24625,     0.24725,     0.24825,     0.24925,     0.25025,     0.25125,     0.25225,     0.25325,     0.25425,     0.25526,     0.25626,     0.25726,     0.25826,     0.25926,     0.26026,     0.26126,     0.26226,     0.26326,\n",
              "           0.26426,     0.26527,     0.26627,     0.26727,     0.26827,     0.26927,     0.27027,     0.27127,     0.27227,     0.27327,     0.27427,     0.27528,     0.27628,     0.27728,     0.27828,     0.27928,     0.28028,     0.28128,     0.28228,     0.28328,     0.28428,     0.28529,     0.28629,     0.28729,\n",
              "           0.28829,     0.28929,     0.29029,     0.29129,     0.29229,     0.29329,     0.29429,      0.2953,      0.2963,      0.2973,      0.2983,      0.2993,      0.3003,      0.3013,      0.3023,      0.3033,      0.3043,     0.30531,     0.30631,     0.30731,     0.30831,     0.30931,     0.31031,     0.31131,\n",
              "           0.31231,     0.31331,     0.31431,     0.31532,     0.31632,     0.31732,     0.31832,     0.31932,     0.32032,     0.32132,     0.32232,     0.32332,     0.32432,     0.32533,     0.32633,     0.32733,     0.32833,     0.32933,     0.33033,     0.33133,     0.33233,     0.33333,     0.33433,     0.33534,\n",
              "           0.33634,     0.33734,     0.33834,     0.33934,     0.34034,     0.34134,     0.34234,     0.34334,     0.34434,     0.34535,     0.34635,     0.34735,     0.34835,     0.34935,     0.35035,     0.35135,     0.35235,     0.35335,     0.35435,     0.35536,     0.35636,     0.35736,     0.35836,     0.35936,\n",
              "           0.36036,     0.36136,     0.36236,     0.36336,     0.36436,     0.36537,     0.36637,     0.36737,     0.36837,     0.36937,     0.37037,     0.37137,     0.37237,     0.37337,     0.37437,     0.37538,     0.37638,     0.37738,     0.37838,     0.37938,     0.38038,     0.38138,     0.38238,     0.38338,\n",
              "           0.38438,     0.38539,     0.38639,     0.38739,     0.38839,     0.38939,     0.39039,     0.39139,     0.39239,     0.39339,     0.39439,      0.3954,      0.3964,      0.3974,      0.3984,      0.3994,      0.4004,      0.4014,      0.4024,      0.4034,      0.4044,     0.40541,     0.40641,     0.40741,\n",
              "           0.40841,     0.40941,     0.41041,     0.41141,     0.41241,     0.41341,     0.41441,     0.41542,     0.41642,     0.41742,     0.41842,     0.41942,     0.42042,     0.42142,     0.42242,     0.42342,     0.42442,     0.42543,     0.42643,     0.42743,     0.42843,     0.42943,     0.43043,     0.43143,\n",
              "           0.43243,     0.43343,     0.43443,     0.43544,     0.43644,     0.43744,     0.43844,     0.43944,     0.44044,     0.44144,     0.44244,     0.44344,     0.44444,     0.44545,     0.44645,     0.44745,     0.44845,     0.44945,     0.45045,     0.45145,     0.45245,     0.45345,     0.45445,     0.45546,\n",
              "           0.45646,     0.45746,     0.45846,     0.45946,     0.46046,     0.46146,     0.46246,     0.46346,     0.46446,     0.46547,     0.46647,     0.46747,     0.46847,     0.46947,     0.47047,     0.47147,     0.47247,     0.47347,     0.47447,     0.47548,     0.47648,     0.47748,     0.47848,     0.47948,\n",
              "           0.48048,     0.48148,     0.48248,     0.48348,     0.48448,     0.48549,     0.48649,     0.48749,     0.48849,     0.48949,     0.49049,     0.49149,     0.49249,     0.49349,     0.49449,      0.4955,      0.4965,      0.4975,      0.4985,      0.4995,      0.5005,      0.5015,      0.5025,      0.5035,\n",
              "            0.5045,     0.50551,     0.50651,     0.50751,     0.50851,     0.50951,     0.51051,     0.51151,     0.51251,     0.51351,     0.51451,     0.51552,     0.51652,     0.51752,     0.51852,     0.51952,     0.52052,     0.52152,     0.52252,     0.52352,     0.52452,     0.52553,     0.52653,     0.52753,\n",
              "           0.52853,     0.52953,     0.53053,     0.53153,     0.53253,     0.53353,     0.53453,     0.53554,     0.53654,     0.53754,     0.53854,     0.53954,     0.54054,     0.54154,     0.54254,     0.54354,     0.54454,     0.54555,     0.54655,     0.54755,     0.54855,     0.54955,     0.55055,     0.55155,\n",
              "           0.55255,     0.55355,     0.55455,     0.55556,     0.55656,     0.55756,     0.55856,     0.55956,     0.56056,     0.56156,     0.56256,     0.56356,     0.56456,     0.56557,     0.56657,     0.56757,     0.56857,     0.56957,     0.57057,     0.57157,     0.57257,     0.57357,     0.57457,     0.57558,\n",
              "           0.57658,     0.57758,     0.57858,     0.57958,     0.58058,     0.58158,     0.58258,     0.58358,     0.58458,     0.58559,     0.58659,     0.58759,     0.58859,     0.58959,     0.59059,     0.59159,     0.59259,     0.59359,     0.59459,      0.5956,      0.5966,      0.5976,      0.5986,      0.5996,\n",
              "            0.6006,      0.6016,      0.6026,      0.6036,      0.6046,     0.60561,     0.60661,     0.60761,     0.60861,     0.60961,     0.61061,     0.61161,     0.61261,     0.61361,     0.61461,     0.61562,     0.61662,     0.61762,     0.61862,     0.61962,     0.62062,     0.62162,     0.62262,     0.62362,\n",
              "           0.62462,     0.62563,     0.62663,     0.62763,     0.62863,     0.62963,     0.63063,     0.63163,     0.63263,     0.63363,     0.63463,     0.63564,     0.63664,     0.63764,     0.63864,     0.63964,     0.64064,     0.64164,     0.64264,     0.64364,     0.64464,     0.64565,     0.64665,     0.64765,\n",
              "           0.64865,     0.64965,     0.65065,     0.65165,     0.65265,     0.65365,     0.65465,     0.65566,     0.65666,     0.65766,     0.65866,     0.65966,     0.66066,     0.66166,     0.66266,     0.66366,     0.66466,     0.66567,     0.66667,     0.66767,     0.66867,     0.66967,     0.67067,     0.67167,\n",
              "           0.67267,     0.67367,     0.67467,     0.67568,     0.67668,     0.67768,     0.67868,     0.67968,     0.68068,     0.68168,     0.68268,     0.68368,     0.68468,     0.68569,     0.68669,     0.68769,     0.68869,     0.68969,     0.69069,     0.69169,     0.69269,     0.69369,     0.69469,      0.6957,\n",
              "            0.6967,      0.6977,      0.6987,      0.6997,      0.7007,      0.7017,      0.7027,      0.7037,      0.7047,     0.70571,     0.70671,     0.70771,     0.70871,     0.70971,     0.71071,     0.71171,     0.71271,     0.71371,     0.71471,     0.71572,     0.71672,     0.71772,     0.71872,     0.71972,\n",
              "           0.72072,     0.72172,     0.72272,     0.72372,     0.72472,     0.72573,     0.72673,     0.72773,     0.72873,     0.72973,     0.73073,     0.73173,     0.73273,     0.73373,     0.73473,     0.73574,     0.73674,     0.73774,     0.73874,     0.73974,     0.74074,     0.74174,     0.74274,     0.74374,\n",
              "           0.74474,     0.74575,     0.74675,     0.74775,     0.74875,     0.74975,     0.75075,     0.75175,     0.75275,     0.75375,     0.75475,     0.75576,     0.75676,     0.75776,     0.75876,     0.75976,     0.76076,     0.76176,     0.76276,     0.76376,     0.76476,     0.76577,     0.76677,     0.76777,\n",
              "           0.76877,     0.76977,     0.77077,     0.77177,     0.77277,     0.77377,     0.77477,     0.77578,     0.77678,     0.77778,     0.77878,     0.77978,     0.78078,     0.78178,     0.78278,     0.78378,     0.78478,     0.78579,     0.78679,     0.78779,     0.78879,     0.78979,     0.79079,     0.79179,\n",
              "           0.79279,     0.79379,     0.79479,      0.7958,      0.7968,      0.7978,      0.7988,      0.7998,      0.8008,      0.8018,      0.8028,      0.8038,      0.8048,     0.80581,     0.80681,     0.80781,     0.80881,     0.80981,     0.81081,     0.81181,     0.81281,     0.81381,     0.81481,     0.81582,\n",
              "           0.81682,     0.81782,     0.81882,     0.81982,     0.82082,     0.82182,     0.82282,     0.82382,     0.82482,     0.82583,     0.82683,     0.82783,     0.82883,     0.82983,     0.83083,     0.83183,     0.83283,     0.83383,     0.83483,     0.83584,     0.83684,     0.83784,     0.83884,     0.83984,\n",
              "           0.84084,     0.84184,     0.84284,     0.84384,     0.84484,     0.84585,     0.84685,     0.84785,     0.84885,     0.84985,     0.85085,     0.85185,     0.85285,     0.85385,     0.85485,     0.85586,     0.85686,     0.85786,     0.85886,     0.85986,     0.86086,     0.86186,     0.86286,     0.86386,\n",
              "           0.86486,     0.86587,     0.86687,     0.86787,     0.86887,     0.86987,     0.87087,     0.87187,     0.87287,     0.87387,     0.87487,     0.87588,     0.87688,     0.87788,     0.87888,     0.87988,     0.88088,     0.88188,     0.88288,     0.88388,     0.88488,     0.88589,     0.88689,     0.88789,\n",
              "           0.88889,     0.88989,     0.89089,     0.89189,     0.89289,     0.89389,     0.89489,      0.8959,      0.8969,      0.8979,      0.8989,      0.8999,      0.9009,      0.9019,      0.9029,      0.9039,      0.9049,     0.90591,     0.90691,     0.90791,     0.90891,     0.90991,     0.91091,     0.91191,\n",
              "           0.91291,     0.91391,     0.91491,     0.91592,     0.91692,     0.91792,     0.91892,     0.91992,     0.92092,     0.92192,     0.92292,     0.92392,     0.92492,     0.92593,     0.92693,     0.92793,     0.92893,     0.92993,     0.93093,     0.93193,     0.93293,     0.93393,     0.93493,     0.93594,\n",
              "           0.93694,     0.93794,     0.93894,     0.93994,     0.94094,     0.94194,     0.94294,     0.94394,     0.94494,     0.94595,     0.94695,     0.94795,     0.94895,     0.94995,     0.95095,     0.95195,     0.95295,     0.95395,     0.95495,     0.95596,     0.95696,     0.95796,     0.95896,     0.95996,\n",
              "           0.96096,     0.96196,     0.96296,     0.96396,     0.96496,     0.96597,     0.96697,     0.96797,     0.96897,     0.96997,     0.97097,     0.97197,     0.97297,     0.97397,     0.97497,     0.97598,     0.97698,     0.97798,     0.97898,     0.97998,     0.98098,     0.98198,     0.98298,     0.98398,\n",
              "           0.98498,     0.98599,     0.98699,     0.98799,     0.98899,     0.98999,     0.99099,     0.99199,     0.99299,     0.99399,     0.99499,       0.996,       0.997,       0.998,       0.999,           1]), array([[    0.95279,     0.95279,     0.94563,      0.9434,     0.94167,     0.93846,     0.93697,     0.93549,     0.93524,      0.9345,     0.93376,     0.93302,     0.93302,     0.93154,     0.93104,     0.93055,      0.9303,     0.92981,     0.92956,     0.92931,     0.92832,     0.92832,     0.92808,\n",
              "            0.92783,     0.92783,     0.92734,     0.92709,     0.92659,     0.92635,     0.92635,     0.92585,     0.92585,     0.92585,     0.92561,     0.92497,     0.92486,     0.92486,     0.92462,     0.92437,     0.92437,     0.92412,     0.92388,     0.92377,     0.92363,     0.92338,     0.92313,\n",
              "            0.92313,     0.92289,     0.92289,     0.92264,     0.92264,     0.92264,     0.92264,     0.92264,     0.92264,     0.92264,     0.92264,     0.92239,     0.92239,     0.92231,     0.92215,     0.92215,     0.92215,      0.9219,      0.9219,      0.9219,     0.92147,     0.92091,     0.92091,\n",
              "            0.92091,     0.92091,     0.92091,     0.92091,     0.92091,     0.92091,     0.92066,     0.92066,      0.9203,     0.91992,     0.91992,     0.91992,     0.91992,     0.91992,     0.91967,     0.91943,     0.91943,     0.91893,     0.91893,     0.91849,     0.91844,     0.91819,     0.91819,\n",
              "            0.91819,     0.91819,     0.91819,     0.91794,     0.91794,     0.91794,     0.91794,     0.91794,     0.91794,      0.9177,      0.9177,      0.9177,      0.9177,      0.9177,     0.91745,     0.91745,      0.9172,     0.91702,     0.91696,     0.91696,     0.91696,     0.91696,     0.91696,\n",
              "            0.91671,     0.91671,     0.91671,     0.91671,     0.91671,     0.91664,     0.91646,     0.91646,     0.91646,     0.91577,     0.91572,     0.91572,      0.9155,     0.91547,     0.91547,     0.91547,     0.91547,     0.91522,     0.91522,     0.91522,     0.91522,     0.91522,     0.91522,\n",
              "            0.91522,     0.91498,     0.91498,     0.91498,     0.91498,     0.91478,     0.91473,     0.91473,     0.91473,     0.91448,     0.91399,     0.91399,     0.91399,     0.91399,     0.91399,      0.9138,     0.91349,     0.91349,     0.91349,     0.91325,       0.913,       0.913,       0.913,\n",
              "              0.913,       0.913,     0.91251,     0.91242,     0.91187,     0.91176,     0.91176,     0.91176,     0.91176,     0.91152,     0.91152,     0.91115,     0.91078,     0.91053,     0.91053,     0.91053,     0.91053,     0.91053,     0.91053,     0.91053,     0.91032,     0.91028,     0.91028,\n",
              "            0.91028,     0.91028,     0.91003,     0.91003,     0.91003,     0.91003,     0.90979,     0.90979,     0.90979,     0.90979,     0.90979,     0.90979,     0.90979,     0.90979,     0.90979,     0.90954,     0.90929,     0.90929,     0.90929,     0.90929,     0.90929,     0.90929,     0.90929,\n",
              "            0.90929,     0.90929,     0.90929,     0.90929,     0.90913,     0.90905,     0.90905,     0.90905,     0.90885,     0.90855,      0.9083,      0.9083,      0.9083,     0.90806,     0.90806,     0.90806,     0.90795,     0.90773,     0.90756,     0.90756,     0.90756,     0.90755,     0.90736,\n",
              "            0.90732,     0.90732,     0.90732,     0.90732,     0.90732,     0.90732,     0.90732,     0.90707,     0.90707,     0.90707,     0.90682,     0.90682,     0.90657,     0.90657,     0.90657,     0.90633,     0.90619,     0.90608,     0.90583,     0.90583,     0.90583,     0.90583,     0.90583,\n",
              "            0.90581,     0.90559,     0.90559,     0.90559,     0.90559,     0.90559,     0.90559,     0.90559,     0.90559,     0.90558,     0.90541,     0.90534,     0.90509,     0.90509,     0.90509,     0.90484,     0.90484,     0.90484,     0.90435,     0.90435,     0.90435,     0.90435,     0.90435,\n",
              "            0.90435,     0.90435,     0.90435,      0.9041,      0.9041,      0.9041,      0.9041,      0.9041,      0.9041,     0.90386,     0.90386,     0.90386,     0.90386,     0.90386,     0.90386,     0.90386,     0.90386,     0.90365,     0.90361,     0.90361,     0.90361,     0.90361,     0.90361,\n",
              "            0.90361,     0.90361,     0.90361,     0.90361,     0.90361,     0.90361,     0.90358,      0.9035,     0.90342,     0.90336,     0.90336,     0.90336,     0.90336,     0.90325,     0.90309,     0.90287,     0.90287,     0.90287,     0.90287,     0.90287,     0.90287,     0.90287,     0.90283,\n",
              "            0.90276,     0.90268,      0.9026,     0.90246,     0.90237,     0.90237,     0.90227,     0.90213,     0.90213,     0.90213,     0.90213,     0.90213,     0.90213,     0.90213,       0.902,     0.90185,     0.90171,     0.90159,      0.9015,      0.9014,     0.90118,     0.90087,     0.90064,\n",
              "            0.90064,     0.90005,      0.8999,      0.8999,      0.8999,      0.8999,      0.8999,     0.89981,     0.89971,     0.89965,     0.89965,     0.89965,     0.89965,     0.89965,     0.89965,     0.89965,     0.89965,     0.89965,     0.89965,     0.89965,     0.89965,     0.89965,     0.89965,\n",
              "            0.89965,     0.89941,     0.89941,     0.89941,     0.89933,     0.89891,     0.89891,     0.89883,     0.89871,     0.89867,     0.89867,     0.89867,     0.89866,     0.89817,     0.89817,     0.89817,     0.89783,     0.89762,     0.89748,     0.89743,     0.89743,     0.89743,     0.89743,\n",
              "            0.89718,     0.89718,     0.89718,     0.89718,     0.89718,     0.89708,     0.89694,     0.89694,     0.89694,     0.89689,      0.8968,     0.89671,     0.89669,     0.89662,     0.89653,     0.89645,     0.89595,     0.89589,     0.89539,     0.89521,     0.89521,     0.89521,     0.89521,\n",
              "            0.89521,     0.89521,     0.89521,     0.89521,     0.89521,     0.89478,     0.89471,     0.89471,     0.89471,     0.89471,     0.89468,     0.89422,     0.89422,     0.89422,     0.89422,     0.89422,     0.89422,     0.89422,     0.89422,     0.89397,     0.89397,     0.89397,     0.89397,\n",
              "            0.89397,     0.89397,     0.89397,     0.89388,     0.89375,     0.89372,     0.89372,     0.89362,     0.89349,     0.89348,     0.89348,     0.89323,     0.89323,     0.89323,     0.89322,      0.8931,     0.89296,     0.89249,     0.89249,     0.89249,     0.89249,     0.89249,     0.89243,\n",
              "             0.8923,     0.89217,     0.89205,     0.89199,     0.89199,     0.89199,     0.89199,     0.89199,     0.89199,     0.89181,     0.89174,     0.89174,     0.89174,     0.89174,     0.89153,     0.89118,     0.89109,     0.89101,       0.891,       0.891,       0.891,     0.89088,     0.89074,\n",
              "            0.89051,     0.89051,     0.89051,     0.89051,     0.89051,     0.89051,     0.89051,     0.89051,     0.89026,     0.89024,     0.89018,     0.89012,     0.89005,     0.89001,     0.89001,     0.88996,     0.88983,     0.88964,     0.88949,     0.88942,     0.88936,      0.8893,     0.88912,\n",
              "            0.88903,     0.88886,     0.88869,     0.88856,     0.88853,     0.88853,     0.88853,     0.88822,     0.88813,     0.88805,     0.88804,     0.88792,     0.88779,     0.88779,     0.88779,     0.88779,     0.88778,     0.88766,     0.88754,     0.88754,     0.88754,     0.88754,     0.88754,\n",
              "            0.88748,      0.8873,     0.88704,     0.88699,     0.88695,     0.88691,     0.88687,     0.88683,      0.8868,      0.8868,      0.8868,     0.88678,     0.88675,     0.88671,     0.88668,     0.88664,      0.8866,     0.88657,     0.88631,     0.88631,     0.88612,     0.88606,     0.88606,\n",
              "            0.88586,     0.88557,     0.88557,     0.88557,     0.88542,     0.88532,     0.88532,     0.88532,     0.88532,     0.88532,     0.88532,     0.88493,     0.88482,     0.88482,     0.88474,     0.88462,      0.8844,     0.88433,     0.88433,     0.88433,     0.88433,     0.88433,     0.88433,\n",
              "            0.88433,     0.88433,     0.88385,     0.88384,     0.88384,     0.88359,     0.88334,     0.88334,     0.88334,     0.88334,     0.88309,     0.88268,      0.8826,      0.8826,     0.88242,     0.88216,     0.88201,     0.88188,     0.88165,     0.88136,     0.88122,     0.88101,     0.88087,\n",
              "            0.88087,     0.88087,     0.88087,     0.88087,     0.88087,     0.88087,     0.88087,     0.88087,     0.88087,     0.88085,     0.88077,     0.88069,     0.88056,     0.88006,     0.87906,     0.87889,     0.87889,      0.8788,     0.87865,     0.87865,     0.87841,     0.87832,     0.87823,\n",
              "            0.87814,     0.87741,     0.87739,     0.87714,     0.87697,     0.87683,     0.87671,     0.87667,     0.87636,     0.87628,     0.87619,     0.87543,     0.87535,     0.87519,     0.87519,     0.87508,     0.87472,     0.87445,     0.87436,     0.87428,     0.87419,     0.87394,     0.87384,\n",
              "            0.87374,     0.87354,     0.87329,     0.87321,     0.87321,     0.87296,     0.87296,     0.87264,     0.87239,     0.87197,     0.87176,     0.87173,     0.87148,     0.87148,     0.87148,     0.87148,     0.87148,     0.87148,     0.87114,     0.87074,     0.87074,     0.87021,     0.86991,\n",
              "            0.86958,     0.86908,     0.86888,     0.86876,     0.86876,     0.86868,     0.86851,     0.86844,     0.86836,     0.86827,     0.86826,     0.86802,     0.86802,     0.86802,     0.86802,     0.86802,     0.86802,     0.86777,     0.86777,     0.86766,     0.86752,     0.86752,      0.8674,\n",
              "            0.86728,     0.86728,     0.86728,     0.86728,     0.86719,     0.86678,     0.86631,     0.86581,     0.86568,      0.8655,      0.8654,      0.8653,     0.86527,     0.86505,      0.8649,     0.86405,     0.86392,     0.86372,     0.86357,     0.86345,     0.86326,     0.86278,     0.86261,\n",
              "            0.86237,     0.86212,     0.86174,      0.8611,     0.86086,     0.86085,     0.86073,     0.86048,     0.85985,     0.85969,     0.85961,     0.85946,      0.8586,     0.85843,     0.85821,     0.85783,     0.85758,      0.8569,      0.8569,      0.8569,     0.85673,     0.85643,     0.85615,\n",
              "            0.85591,     0.85591,     0.85591,     0.85533,     0.85492,     0.85492,     0.85467,     0.85433,     0.85418,     0.85411,     0.85376,     0.85368,     0.85368,      0.8535,     0.85314,     0.85298,     0.85294,      0.8514,     0.85123,     0.85099,     0.85072,     0.85048,     0.84998,\n",
              "            0.84998,     0.84998,     0.84948,     0.84948,     0.84943,     0.84899,     0.84892,     0.84874,     0.84821,     0.84804,     0.84794,      0.8475,     0.84737,     0.84701,     0.84684,     0.84618,     0.84553,     0.84553,     0.84529,     0.84528,     0.84528,     0.84528,     0.84528,\n",
              "            0.84478,     0.84478,     0.84448,     0.84388,      0.8438,      0.8438,     0.84327,      0.8431,     0.84237,     0.84231,     0.84182,     0.84182,     0.84182,     0.84182,     0.84132,     0.84055,     0.84046,     0.84038,     0.84034,     0.84033,     0.83984,     0.83935,     0.83925,\n",
              "             0.8391,     0.83899,     0.83851,     0.83811,     0.83786,     0.83743,     0.83663,     0.83663,     0.83593,     0.83564,     0.83554,     0.83504,      0.8349,     0.83442,     0.83391,     0.83292,     0.83275,     0.83239,     0.83129,     0.83104,     0.83045,     0.83012,     0.82941,\n",
              "             0.8291,     0.82885,     0.82823,     0.82808,      0.8276,     0.82748,     0.82699,     0.82699,     0.82579,     0.82575,     0.82575,     0.82501,     0.82402,       0.824,     0.82304,     0.82279,     0.82248,     0.82229,     0.82221,      0.8217,     0.82081,     0.82056,     0.82056,\n",
              "            0.82017,     0.81908,     0.81809,     0.81751,     0.81691,     0.81661,     0.81661,     0.81636,     0.81574,     0.81487,     0.81436,     0.81375,      0.8129,     0.81239,     0.81222,     0.81167,     0.81083,     0.80933,     0.80821,     0.80821,     0.80672,     0.80598,     0.80507,\n",
              "            0.80431,     0.80282,     0.80032,     0.79931,     0.79833,     0.79733,      0.7951,     0.79286,      0.7921,     0.79115,     0.78942,     0.78787,     0.78637,     0.78522,     0.78437,     0.78398,     0.78318,     0.78201,     0.78111,     0.78003,      0.7796,     0.77884,     0.77805,\n",
              "            0.77536,     0.77436,      0.7736,     0.77064,     0.76963,     0.76788,     0.76565,      0.7639,     0.76149,     0.76017,     0.75779,     0.75606,     0.75371,     0.74988,     0.74726,     0.74642,     0.74419,     0.74178,     0.74004,      0.7384,     0.73606,     0.73333,     0.72986,\n",
              "             0.7254,     0.72244,     0.71873,     0.71399,     0.71002,     0.70539,      0.7016,     0.69575,     0.68784,     0.68216,     0.67164,     0.65843,     0.64731,     0.63626,     0.62438,     0.61518,     0.60557,     0.58873,     0.57464,     0.54943,     0.52297,      0.5064,     0.48665,\n",
              "            0.45304,     0.43222,     0.39273,     0.36373,     0.32229,     0.29338,     0.25445,     0.22651,     0.18571,     0.15299,     0.13025,     0.11598,     0.10608,     0.09025,     0.07736,    0.066485,    0.059071,    0.049173,    0.039027,    0.030858,     0.02788,    0.022183,     0.01871,\n",
              "           0.014743,    0.012754,    0.010517,   0.0082802,   0.0062905,   0.0050424,   0.0042017,   0.0039545,   0.0027808,   0.0020021,    0.001026,  0.00075397,           0,           0,           0,           0,           0,           0,           0,           0,           0,           0,           0,\n",
              "                  0,           0,           0,           0,           0,           0,           0,           0,           0,           0,           0]]), 'Confidence', 'Recall'], [array([          0,    0.001001,    0.002002,    0.003003,    0.004004,    0.005005,    0.006006,    0.007007,    0.008008,    0.009009,     0.01001,    0.011011,    0.012012,    0.013013,    0.014014,    0.015015,    0.016016,    0.017017,    0.018018,    0.019019,     0.02002,    0.021021,    0.022022,    0.023023,\n",
              "          0.024024,    0.025025,    0.026026,    0.027027,    0.028028,    0.029029,     0.03003,    0.031031,    0.032032,    0.033033,    0.034034,    0.035035,    0.036036,    0.037037,    0.038038,    0.039039,     0.04004,    0.041041,    0.042042,    0.043043,    0.044044,    0.045045,    0.046046,    0.047047,\n",
              "          0.048048,    0.049049,     0.05005,    0.051051,    0.052052,    0.053053,    0.054054,    0.055055,    0.056056,    0.057057,    0.058058,    0.059059,     0.06006,    0.061061,    0.062062,    0.063063,    0.064064,    0.065065,    0.066066,    0.067067,    0.068068,    0.069069,     0.07007,    0.071071,\n",
              "          0.072072,    0.073073,    0.074074,    0.075075,    0.076076,    0.077077,    0.078078,    0.079079,     0.08008,    0.081081,    0.082082,    0.083083,    0.084084,    0.085085,    0.086086,    0.087087,    0.088088,    0.089089,     0.09009,    0.091091,    0.092092,    0.093093,    0.094094,    0.095095,\n",
              "          0.096096,    0.097097,    0.098098,    0.099099,      0.1001,      0.1011,      0.1021,      0.1031,      0.1041,     0.10511,     0.10611,     0.10711,     0.10811,     0.10911,     0.11011,     0.11111,     0.11211,     0.11311,     0.11411,     0.11512,     0.11612,     0.11712,     0.11812,     0.11912,\n",
              "           0.12012,     0.12112,     0.12212,     0.12312,     0.12412,     0.12513,     0.12613,     0.12713,     0.12813,     0.12913,     0.13013,     0.13113,     0.13213,     0.13313,     0.13413,     0.13514,     0.13614,     0.13714,     0.13814,     0.13914,     0.14014,     0.14114,     0.14214,     0.14314,\n",
              "           0.14414,     0.14515,     0.14615,     0.14715,     0.14815,     0.14915,     0.15015,     0.15115,     0.15215,     0.15315,     0.15415,     0.15516,     0.15616,     0.15716,     0.15816,     0.15916,     0.16016,     0.16116,     0.16216,     0.16316,     0.16416,     0.16517,     0.16617,     0.16717,\n",
              "           0.16817,     0.16917,     0.17017,     0.17117,     0.17217,     0.17317,     0.17417,     0.17518,     0.17618,     0.17718,     0.17818,     0.17918,     0.18018,     0.18118,     0.18218,     0.18318,     0.18418,     0.18519,     0.18619,     0.18719,     0.18819,     0.18919,     0.19019,     0.19119,\n",
              "           0.19219,     0.19319,     0.19419,      0.1952,      0.1962,      0.1972,      0.1982,      0.1992,      0.2002,      0.2012,      0.2022,      0.2032,      0.2042,     0.20521,     0.20621,     0.20721,     0.20821,     0.20921,     0.21021,     0.21121,     0.21221,     0.21321,     0.21421,     0.21522,\n",
              "           0.21622,     0.21722,     0.21822,     0.21922,     0.22022,     0.22122,     0.22222,     0.22322,     0.22422,     0.22523,     0.22623,     0.22723,     0.22823,     0.22923,     0.23023,     0.23123,     0.23223,     0.23323,     0.23423,     0.23524,     0.23624,     0.23724,     0.23824,     0.23924,\n",
              "           0.24024,     0.24124,     0.24224,     0.24324,     0.24424,     0.24525,     0.24625,     0.24725,     0.24825,     0.24925,     0.25025,     0.25125,     0.25225,     0.25325,     0.25425,     0.25526,     0.25626,     0.25726,     0.25826,     0.25926,     0.26026,     0.26126,     0.26226,     0.26326,\n",
              "           0.26426,     0.26527,     0.26627,     0.26727,     0.26827,     0.26927,     0.27027,     0.27127,     0.27227,     0.27327,     0.27427,     0.27528,     0.27628,     0.27728,     0.27828,     0.27928,     0.28028,     0.28128,     0.28228,     0.28328,     0.28428,     0.28529,     0.28629,     0.28729,\n",
              "           0.28829,     0.28929,     0.29029,     0.29129,     0.29229,     0.29329,     0.29429,      0.2953,      0.2963,      0.2973,      0.2983,      0.2993,      0.3003,      0.3013,      0.3023,      0.3033,      0.3043,     0.30531,     0.30631,     0.30731,     0.30831,     0.30931,     0.31031,     0.31131,\n",
              "           0.31231,     0.31331,     0.31431,     0.31532,     0.31632,     0.31732,     0.31832,     0.31932,     0.32032,     0.32132,     0.32232,     0.32332,     0.32432,     0.32533,     0.32633,     0.32733,     0.32833,     0.32933,     0.33033,     0.33133,     0.33233,     0.33333,     0.33433,     0.33534,\n",
              "           0.33634,     0.33734,     0.33834,     0.33934,     0.34034,     0.34134,     0.34234,     0.34334,     0.34434,     0.34535,     0.34635,     0.34735,     0.34835,     0.34935,     0.35035,     0.35135,     0.35235,     0.35335,     0.35435,     0.35536,     0.35636,     0.35736,     0.35836,     0.35936,\n",
              "           0.36036,     0.36136,     0.36236,     0.36336,     0.36436,     0.36537,     0.36637,     0.36737,     0.36837,     0.36937,     0.37037,     0.37137,     0.37237,     0.37337,     0.37437,     0.37538,     0.37638,     0.37738,     0.37838,     0.37938,     0.38038,     0.38138,     0.38238,     0.38338,\n",
              "           0.38438,     0.38539,     0.38639,     0.38739,     0.38839,     0.38939,     0.39039,     0.39139,     0.39239,     0.39339,     0.39439,      0.3954,      0.3964,      0.3974,      0.3984,      0.3994,      0.4004,      0.4014,      0.4024,      0.4034,      0.4044,     0.40541,     0.40641,     0.40741,\n",
              "           0.40841,     0.40941,     0.41041,     0.41141,     0.41241,     0.41341,     0.41441,     0.41542,     0.41642,     0.41742,     0.41842,     0.41942,     0.42042,     0.42142,     0.42242,     0.42342,     0.42442,     0.42543,     0.42643,     0.42743,     0.42843,     0.42943,     0.43043,     0.43143,\n",
              "           0.43243,     0.43343,     0.43443,     0.43544,     0.43644,     0.43744,     0.43844,     0.43944,     0.44044,     0.44144,     0.44244,     0.44344,     0.44444,     0.44545,     0.44645,     0.44745,     0.44845,     0.44945,     0.45045,     0.45145,     0.45245,     0.45345,     0.45445,     0.45546,\n",
              "           0.45646,     0.45746,     0.45846,     0.45946,     0.46046,     0.46146,     0.46246,     0.46346,     0.46446,     0.46547,     0.46647,     0.46747,     0.46847,     0.46947,     0.47047,     0.47147,     0.47247,     0.47347,     0.47447,     0.47548,     0.47648,     0.47748,     0.47848,     0.47948,\n",
              "           0.48048,     0.48148,     0.48248,     0.48348,     0.48448,     0.48549,     0.48649,     0.48749,     0.48849,     0.48949,     0.49049,     0.49149,     0.49249,     0.49349,     0.49449,      0.4955,      0.4965,      0.4975,      0.4985,      0.4995,      0.5005,      0.5015,      0.5025,      0.5035,\n",
              "            0.5045,     0.50551,     0.50651,     0.50751,     0.50851,     0.50951,     0.51051,     0.51151,     0.51251,     0.51351,     0.51451,     0.51552,     0.51652,     0.51752,     0.51852,     0.51952,     0.52052,     0.52152,     0.52252,     0.52352,     0.52452,     0.52553,     0.52653,     0.52753,\n",
              "           0.52853,     0.52953,     0.53053,     0.53153,     0.53253,     0.53353,     0.53453,     0.53554,     0.53654,     0.53754,     0.53854,     0.53954,     0.54054,     0.54154,     0.54254,     0.54354,     0.54454,     0.54555,     0.54655,     0.54755,     0.54855,     0.54955,     0.55055,     0.55155,\n",
              "           0.55255,     0.55355,     0.55455,     0.55556,     0.55656,     0.55756,     0.55856,     0.55956,     0.56056,     0.56156,     0.56256,     0.56356,     0.56456,     0.56557,     0.56657,     0.56757,     0.56857,     0.56957,     0.57057,     0.57157,     0.57257,     0.57357,     0.57457,     0.57558,\n",
              "           0.57658,     0.57758,     0.57858,     0.57958,     0.58058,     0.58158,     0.58258,     0.58358,     0.58458,     0.58559,     0.58659,     0.58759,     0.58859,     0.58959,     0.59059,     0.59159,     0.59259,     0.59359,     0.59459,      0.5956,      0.5966,      0.5976,      0.5986,      0.5996,\n",
              "            0.6006,      0.6016,      0.6026,      0.6036,      0.6046,     0.60561,     0.60661,     0.60761,     0.60861,     0.60961,     0.61061,     0.61161,     0.61261,     0.61361,     0.61461,     0.61562,     0.61662,     0.61762,     0.61862,     0.61962,     0.62062,     0.62162,     0.62262,     0.62362,\n",
              "           0.62462,     0.62563,     0.62663,     0.62763,     0.62863,     0.62963,     0.63063,     0.63163,     0.63263,     0.63363,     0.63463,     0.63564,     0.63664,     0.63764,     0.63864,     0.63964,     0.64064,     0.64164,     0.64264,     0.64364,     0.64464,     0.64565,     0.64665,     0.64765,\n",
              "           0.64865,     0.64965,     0.65065,     0.65165,     0.65265,     0.65365,     0.65465,     0.65566,     0.65666,     0.65766,     0.65866,     0.65966,     0.66066,     0.66166,     0.66266,     0.66366,     0.66466,     0.66567,     0.66667,     0.66767,     0.66867,     0.66967,     0.67067,     0.67167,\n",
              "           0.67267,     0.67367,     0.67467,     0.67568,     0.67668,     0.67768,     0.67868,     0.67968,     0.68068,     0.68168,     0.68268,     0.68368,     0.68468,     0.68569,     0.68669,     0.68769,     0.68869,     0.68969,     0.69069,     0.69169,     0.69269,     0.69369,     0.69469,      0.6957,\n",
              "            0.6967,      0.6977,      0.6987,      0.6997,      0.7007,      0.7017,      0.7027,      0.7037,      0.7047,     0.70571,     0.70671,     0.70771,     0.70871,     0.70971,     0.71071,     0.71171,     0.71271,     0.71371,     0.71471,     0.71572,     0.71672,     0.71772,     0.71872,     0.71972,\n",
              "           0.72072,     0.72172,     0.72272,     0.72372,     0.72472,     0.72573,     0.72673,     0.72773,     0.72873,     0.72973,     0.73073,     0.73173,     0.73273,     0.73373,     0.73473,     0.73574,     0.73674,     0.73774,     0.73874,     0.73974,     0.74074,     0.74174,     0.74274,     0.74374,\n",
              "           0.74474,     0.74575,     0.74675,     0.74775,     0.74875,     0.74975,     0.75075,     0.75175,     0.75275,     0.75375,     0.75475,     0.75576,     0.75676,     0.75776,     0.75876,     0.75976,     0.76076,     0.76176,     0.76276,     0.76376,     0.76476,     0.76577,     0.76677,     0.76777,\n",
              "           0.76877,     0.76977,     0.77077,     0.77177,     0.77277,     0.77377,     0.77477,     0.77578,     0.77678,     0.77778,     0.77878,     0.77978,     0.78078,     0.78178,     0.78278,     0.78378,     0.78478,     0.78579,     0.78679,     0.78779,     0.78879,     0.78979,     0.79079,     0.79179,\n",
              "           0.79279,     0.79379,     0.79479,      0.7958,      0.7968,      0.7978,      0.7988,      0.7998,      0.8008,      0.8018,      0.8028,      0.8038,      0.8048,     0.80581,     0.80681,     0.80781,     0.80881,     0.80981,     0.81081,     0.81181,     0.81281,     0.81381,     0.81481,     0.81582,\n",
              "           0.81682,     0.81782,     0.81882,     0.81982,     0.82082,     0.82182,     0.82282,     0.82382,     0.82482,     0.82583,     0.82683,     0.82783,     0.82883,     0.82983,     0.83083,     0.83183,     0.83283,     0.83383,     0.83483,     0.83584,     0.83684,     0.83784,     0.83884,     0.83984,\n",
              "           0.84084,     0.84184,     0.84284,     0.84384,     0.84484,     0.84585,     0.84685,     0.84785,     0.84885,     0.84985,     0.85085,     0.85185,     0.85285,     0.85385,     0.85485,     0.85586,     0.85686,     0.85786,     0.85886,     0.85986,     0.86086,     0.86186,     0.86286,     0.86386,\n",
              "           0.86486,     0.86587,     0.86687,     0.86787,     0.86887,     0.86987,     0.87087,     0.87187,     0.87287,     0.87387,     0.87487,     0.87588,     0.87688,     0.87788,     0.87888,     0.87988,     0.88088,     0.88188,     0.88288,     0.88388,     0.88488,     0.88589,     0.88689,     0.88789,\n",
              "           0.88889,     0.88989,     0.89089,     0.89189,     0.89289,     0.89389,     0.89489,      0.8959,      0.8969,      0.8979,      0.8989,      0.8999,      0.9009,      0.9019,      0.9029,      0.9039,      0.9049,     0.90591,     0.90691,     0.90791,     0.90891,     0.90991,     0.91091,     0.91191,\n",
              "           0.91291,     0.91391,     0.91491,     0.91592,     0.91692,     0.91792,     0.91892,     0.91992,     0.92092,     0.92192,     0.92292,     0.92392,     0.92492,     0.92593,     0.92693,     0.92793,     0.92893,     0.92993,     0.93093,     0.93193,     0.93293,     0.93393,     0.93493,     0.93594,\n",
              "           0.93694,     0.93794,     0.93894,     0.93994,     0.94094,     0.94194,     0.94294,     0.94394,     0.94494,     0.94595,     0.94695,     0.94795,     0.94895,     0.94995,     0.95095,     0.95195,     0.95295,     0.95395,     0.95495,     0.95596,     0.95696,     0.95796,     0.95896,     0.95996,\n",
              "           0.96096,     0.96196,     0.96296,     0.96396,     0.96496,     0.96597,     0.96697,     0.96797,     0.96897,     0.96997,     0.97097,     0.97197,     0.97297,     0.97397,     0.97497,     0.97598,     0.97698,     0.97798,     0.97898,     0.97998,     0.98098,     0.98198,     0.98298,     0.98398,\n",
              "           0.98498,     0.98599,     0.98699,     0.98799,     0.98899,     0.98999,     0.99099,     0.99199,     0.99299,     0.99399,     0.99499,       0.996,       0.997,       0.998,       0.999,           1]), array([[          1,           1,           1,           1,      0.7782,      0.7782,      0.7782,      0.7782,      0.7782,      0.7782,      0.7782,      0.7782,      0.7782,      0.7782,      0.7782,      0.7782,      0.7782,      0.7782,      0.7782,      0.7782,      0.7782,      0.7782,      0.7782,\n",
              "             0.7782,      0.7782,      0.7782,      0.7782,      0.7782,      0.7782,      0.7782,      0.7782,      0.7782,      0.7782,      0.7782,      0.7782,      0.7782,      0.7782,      0.7782,      0.7782,      0.7782,      0.7782,      0.7782,      0.7782,      0.7782,      0.7782,      0.7782,\n",
              "             0.7782,      0.7782,      0.7782,      0.7782,      0.7782,      0.7782,     0.77656,     0.77094,     0.77094,     0.77094,     0.77094,     0.77094,     0.77094,     0.77094,     0.77094,     0.77094,     0.77094,     0.77094,     0.77094,     0.77094,     0.77094,     0.77094,     0.77094,\n",
              "            0.77094,     0.77094,     0.77094,     0.77094,     0.77094,     0.77094,     0.77094,     0.77094,     0.77094,     0.76923,     0.76923,     0.76923,     0.76923,     0.76923,     0.76923,     0.76923,     0.76923,     0.76923,     0.76709,     0.76709,     0.76695,     0.76471,     0.76471,\n",
              "            0.76471,     0.76471,     0.76459,     0.76459,     0.76459,     0.76459,     0.76326,     0.76326,     0.76119,     0.75966,     0.75966,     0.75966,     0.75966,     0.75966,     0.75966,     0.75966,     0.75966,     0.75966,     0.75966,     0.75966,      0.7592,     0.75698,     0.75325,\n",
              "            0.75321,     0.75321,     0.74769,     0.74769,     0.74769,     0.74581,      0.7445,      0.7445,      0.7445,      0.7445,      0.7445,      0.7445,      0.7445,      0.7445,      0.7445,      0.7445,      0.7445,      0.7445,      0.7445,      0.7445,      0.7445,      0.7445,      0.7445,\n",
              "             0.7445,      0.7445,      0.7445,      0.7445,      0.7445,      0.7445,      0.7445,      0.7445,      0.7445,      0.7445,      0.7445,      0.7445,      0.7445,     0.74303,     0.74217,     0.73913,     0.73913,     0.73913,     0.73913,     0.73913,     0.73913,     0.73913,     0.73913,\n",
              "            0.73913,     0.73913,     0.73913,     0.73913,     0.73913,     0.73913,     0.73913,     0.73913,     0.73913,     0.73913,     0.73913,     0.73913,     0.73913,     0.73913,     0.73913,     0.73913,     0.73913,     0.73913,     0.73913,     0.73913,     0.73913,     0.73913,     0.73913,\n",
              "            0.73913,     0.73913,     0.73913,     0.73913,     0.73913,     0.73913,     0.73913,     0.73913,     0.73913,     0.73913,     0.73913,     0.73913,     0.73913,     0.73913,     0.73913,     0.73913,     0.73913,     0.73913,     0.73913,     0.73913,     0.73913,     0.73913,     0.73913,\n",
              "            0.73913,     0.73913,     0.73913,     0.73868,     0.73868,     0.73868,     0.73868,     0.73537,     0.73389,     0.73389,     0.73333,     0.73207,     0.73207,     0.73137,     0.73133,     0.73133,      0.7301,      0.7301,      0.7301,      0.7301,     0.72969,     0.72969,     0.72969,\n",
              "            0.72969,     0.72965,     0.72965,     0.72965,     0.72965,     0.72956,     0.72903,     0.72903,     0.72903,     0.72903,     0.72903,     0.72903,     0.72903,     0.72821,     0.72786,     0.72786,     0.72786,     0.72786,     0.72786,     0.72786,     0.72786,     0.72786,     0.72773,\n",
              "            0.72404,     0.72404,     0.72404,     0.72404,     0.72299,     0.72218,     0.72192,     0.72192,     0.72051,     0.72051,     0.72051,     0.72051,     0.72051,     0.72048,     0.71974,     0.71974,     0.71974,     0.71974,     0.71912,     0.71912,     0.71912,     0.71815,     0.71815,\n",
              "            0.71757,     0.71757,      0.7171,     0.71465,     0.71394,     0.71394,     0.71394,     0.71394,     0.71394,     0.71394,     0.71394,     0.71394,     0.71394,     0.71394,     0.71394,     0.71394,     0.71394,     0.71334,     0.71232,      0.7119,     0.71157,     0.71057,     0.70992,\n",
              "            0.70928,     0.70921,     0.70848,     0.70826,     0.70795,     0.70733,     0.70686,     0.70642,     0.70642,     0.70621,     0.70552,     0.70539,     0.70539,     0.70539,     0.70539,     0.70488,     0.70488,     0.70488,     0.70488,      0.7046,      0.7032,     0.70135,     0.70135,\n",
              "             0.6984,     0.69565,      0.6954,     0.69494,     0.69215,     0.69215,     0.69215,     0.69064,     0.68827,     0.68645,     0.68622,      0.6856,     0.68511,     0.68511,     0.68511,     0.68488,     0.68488,     0.68488,     0.68488,     0.68488,     0.68488,     0.68488,     0.68465,\n",
              "            0.68429,     0.68334,     0.68334,     0.68269,     0.68269,     0.68269,     0.68251,     0.68251,     0.68251,     0.68251,     0.68216,     0.68051,     0.68011,     0.68011,     0.67912,     0.67857,     0.67857,     0.67757,     0.67757,     0.67757,     0.67757,     0.67757,     0.67757,\n",
              "            0.67757,     0.67616,     0.67537,     0.67353,      0.6717,      0.6717,     0.67109,     0.67064,     0.67004,     0.67003,     0.67002,     0.66913,     0.66898,     0.66839,     0.66839,     0.66809,     0.66809,     0.66809,     0.66809,      0.6678,     0.66667,     0.66667,     0.66667,\n",
              "            0.66583,     0.66541,       0.665,       0.665,      0.6646,      0.6646,     0.66446,     0.66338,     0.66202,     0.65895,     0.65743,     0.65743,     0.65743,     0.65743,     0.65672,     0.65672,     0.65672,     0.65479,     0.65442,     0.65291,     0.65166,     0.65144,     0.65039,\n",
              "            0.65039,     0.64744,     0.64697,     0.64468,     0.64449,     0.64421,     0.64421,     0.64313,     0.64313,     0.64238,     0.64238,     0.64238,     0.64238,     0.64196,     0.64175,     0.64018,     0.63916,     0.63699,     0.63686,      0.6361,     0.63541,     0.63541,     0.63434,\n",
              "            0.63418,      0.6338,     0.63297,     0.63039,     0.62818,     0.62818,     0.62818,     0.62818,     0.62726,     0.62691,     0.62599,     0.62491,     0.62444,     0.62444,     0.62203,     0.62178,     0.62056,     0.61995,      0.6195,     0.61666,     0.61666,     0.61666,     0.61623,\n",
              "             0.6162,     0.61589,     0.61579,     0.61553,     0.61553,     0.61553,     0.61553,     0.61553,     0.61538,     0.61528,     0.61459,     0.61459,     0.61459,     0.61306,     0.61306,     0.61306,     0.61297,     0.61297,     0.61297,     0.61199,     0.61104,     0.60994,     0.60994,\n",
              "            0.60994,     0.60994,     0.60942,     0.60903,     0.60751,     0.60732,     0.60732,     0.60732,     0.60732,     0.60718,     0.60718,     0.60655,     0.60598,     0.60549,     0.60541,     0.60255,     0.60255,     0.60255,     0.60255,     0.60255,     0.60254,     0.60254,     0.60135,\n",
              "            0.59942,     0.59902,     0.59902,     0.59902,     0.59902,     0.59902,     0.59873,     0.59856,     0.59707,       0.597,       0.597,       0.597,       0.597,       0.597,       0.597,       0.597,     0.59669,     0.59669,     0.59669,     0.59669,     0.59659,     0.59637,     0.59624,\n",
              "            0.59624,     0.59624,     0.59624,     0.59624,     0.59624,      0.5962,       0.596,       0.596,     0.59587,     0.59587,     0.59587,     0.59587,     0.59587,     0.59569,     0.59569,     0.59569,     0.59569,     0.59569,     0.59569,     0.59569,     0.59569,     0.59569,     0.59569,\n",
              "            0.59569,     0.59569,     0.59569,     0.59569,     0.59569,     0.59569,     0.59569,     0.59569,     0.59569,     0.59569,     0.59569,     0.59569,     0.59569,     0.59569,     0.59569,     0.59569,     0.59569,     0.59569,     0.59569,     0.59569,     0.59569,     0.59569,     0.59569,\n",
              "            0.59569,     0.59569,     0.59569,     0.59569,     0.59569,     0.59569,     0.59569,     0.59569,     0.59569,     0.59569,     0.59569,     0.59569,     0.59569,     0.59569,     0.59569,     0.59569,     0.59569,     0.59569,     0.59569,     0.59569,     0.59569,     0.59569,     0.59569,\n",
              "            0.59569,     0.59569,     0.59569,     0.59569,     0.59569,     0.59569,     0.59569,     0.59569,     0.59569,     0.59569,     0.59569,     0.59569,     0.59569,     0.59569,     0.59569,     0.59569,     0.59569,     0.59569,     0.59569,     0.59569,     0.59569,     0.59569,     0.59569,\n",
              "            0.59569,     0.59569,     0.59569,     0.59569,     0.59569,     0.59569,     0.59569,     0.59569,     0.59569,     0.59569,     0.59569,     0.59569,     0.59569,     0.59569,     0.59569,     0.59569,     0.59569,     0.59569,     0.59569,     0.59569,     0.59569,     0.59569,     0.59569,\n",
              "            0.59569,     0.59569,     0.59569,     0.59569,     0.59569,     0.59569,     0.59569,     0.59569,     0.59569,     0.59569,     0.59569,     0.59569,     0.59569,     0.59569,     0.59569,     0.59569,     0.59569,     0.59569,     0.59569,     0.59569,     0.59569,     0.59569,     0.59569,\n",
              "            0.59569,     0.59569,     0.59569,     0.59569,     0.59569,     0.59569,     0.59569,     0.59569,     0.59569,     0.59569,     0.59564,     0.59564,     0.59564,     0.59564,     0.59564,     0.59564,     0.59564,     0.59564,     0.59564,     0.59564,     0.59564,     0.59564,      0.5956,\n",
              "            0.59549,     0.59549,     0.59542,     0.59542,     0.59488,     0.59451,     0.59382,     0.59382,     0.59379,     0.59379,     0.59379,     0.59379,     0.59379,     0.59379,     0.59355,     0.59345,     0.59345,     0.59345,     0.59345,     0.59345,     0.59345,     0.59345,     0.59326,\n",
              "            0.59316,     0.59316,     0.59316,     0.59304,     0.59304,     0.59304,     0.59304,     0.59301,     0.59277,     0.59277,     0.59277,     0.59277,     0.59277,     0.59277,     0.59277,     0.59277,     0.59277,     0.59277,     0.59277,     0.59277,     0.59277,     0.59277,     0.59277,\n",
              "            0.59277,     0.59277,     0.59277,     0.59277,     0.59277,     0.59277,     0.59277,     0.59277,     0.59277,     0.59277,      0.5926,      0.5926,      0.5917,      0.5917,      0.5917,      0.5917,      0.5917,      0.5917,     0.59167,     0.59134,     0.59131,     0.59098,     0.59098,\n",
              "            0.59098,     0.59098,     0.59098,     0.59098,     0.59098,     0.59098,     0.59098,     0.59098,     0.59098,     0.59098,     0.59098,     0.59098,     0.59098,     0.59098,     0.59098,     0.59098,     0.59098,     0.59098,     0.59098,     0.59098,     0.59098,     0.59098,     0.59098,\n",
              "            0.59098,     0.59098,     0.59098,     0.59098,     0.59098,     0.59098,     0.59098,     0.59098,     0.59098,     0.59098,     0.59098,     0.59098,     0.59098,     0.59098,     0.59093,     0.59093,     0.59086,     0.59063,     0.59063,     0.59063,     0.59063,      0.5905,     0.59046,\n",
              "            0.59037,     0.59035,     0.59025,      0.5897,      0.5897,      0.5897,      0.5897,     0.58879,     0.58877,     0.58781,     0.58761,     0.58761,     0.58761,     0.58761,     0.58761,     0.58761,     0.58761,     0.58761,     0.58761,     0.58761,     0.58761,     0.58761,     0.58731,\n",
              "            0.58724,     0.58724,     0.58724,     0.58724,     0.58701,     0.58649,     0.58646,     0.58614,     0.58527,     0.58527,     0.58527,     0.58506,     0.58499,     0.58499,     0.58499,     0.58496,     0.58479,      0.5844,     0.58417,     0.58417,     0.58417,     0.58417,     0.58415,\n",
              "            0.58411,     0.58363,     0.58352,     0.58301,     0.58192,     0.58136,     0.58135,     0.58101,      0.5809,     0.58069,     0.58069,     0.58069,     0.58063,     0.58009,     0.57946,     0.57928,     0.57906,     0.57821,     0.57809,     0.57667,     0.57544,      0.5718,     0.56977,\n",
              "            0.56804,     0.56684,     0.56603,     0.56462,     0.56221,      0.5601,     0.55703,      0.5535,     0.54995,     0.54761,     0.54613,     0.53684,     0.53029,     0.52893,     0.52542,     0.51672,     0.50947,     0.50532,     0.49629,     0.48401,     0.48216,     0.47188,     0.44348,\n",
              "            0.42407,     0.41068,      0.3988,     0.33321,     0.28148,     0.26019,      0.2575,     0.25482,     0.25214,     0.24946,     0.24677,     0.24409,     0.24141,     0.23873,     0.23605,     0.23336,     0.23068,       0.228,     0.22532,     0.22263,     0.21995,     0.21727,     0.21459,\n",
              "             0.2119,     0.20922,     0.20654,     0.20386,     0.20117,     0.19849,     0.19581,     0.19313,     0.19045,     0.18776,     0.18508,      0.1824,     0.17972,     0.17703,     0.17435,     0.17167,     0.16899,      0.1663,     0.16362,     0.16094,     0.15826,     0.15558,     0.15289,\n",
              "            0.15021,     0.14753,     0.14485,     0.14216,     0.13948,      0.1368,     0.13412,     0.13143,     0.12875,     0.12607,     0.12339,      0.1207,     0.11802,     0.11534,     0.11266,     0.10998,     0.10729,     0.10461,     0.10193,    0.099246,    0.096564,    0.093882,    0.091199,\n",
              "           0.088517,    0.085835,    0.083152,     0.08047,    0.077788,    0.075105,    0.072423,    0.069741,    0.067058,    0.064376,    0.061694,    0.059011,    0.056329,    0.053647,    0.050964,    0.048282,      0.0456,    0.042917,    0.040235,    0.037553,     0.03487,    0.032188,    0.029506,\n",
              "           0.026823,    0.024141,    0.021459,    0.018776,    0.016094,    0.013412,    0.010729,    0.008047,   0.0053647,   0.0026823,           0]]), 'Recall', 'Precision'], [array([          0,    0.001001,    0.002002,    0.003003,    0.004004,    0.005005,    0.006006,    0.007007,    0.008008,    0.009009,     0.01001,    0.011011,    0.012012,    0.013013,    0.014014,    0.015015,    0.016016,    0.017017,    0.018018,    0.019019,     0.02002,    0.021021,    0.022022,    0.023023,\n",
              "          0.024024,    0.025025,    0.026026,    0.027027,    0.028028,    0.029029,     0.03003,    0.031031,    0.032032,    0.033033,    0.034034,    0.035035,    0.036036,    0.037037,    0.038038,    0.039039,     0.04004,    0.041041,    0.042042,    0.043043,    0.044044,    0.045045,    0.046046,    0.047047,\n",
              "          0.048048,    0.049049,     0.05005,    0.051051,    0.052052,    0.053053,    0.054054,    0.055055,    0.056056,    0.057057,    0.058058,    0.059059,     0.06006,    0.061061,    0.062062,    0.063063,    0.064064,    0.065065,    0.066066,    0.067067,    0.068068,    0.069069,     0.07007,    0.071071,\n",
              "          0.072072,    0.073073,    0.074074,    0.075075,    0.076076,    0.077077,    0.078078,    0.079079,     0.08008,    0.081081,    0.082082,    0.083083,    0.084084,    0.085085,    0.086086,    0.087087,    0.088088,    0.089089,     0.09009,    0.091091,    0.092092,    0.093093,    0.094094,    0.095095,\n",
              "          0.096096,    0.097097,    0.098098,    0.099099,      0.1001,      0.1011,      0.1021,      0.1031,      0.1041,     0.10511,     0.10611,     0.10711,     0.10811,     0.10911,     0.11011,     0.11111,     0.11211,     0.11311,     0.11411,     0.11512,     0.11612,     0.11712,     0.11812,     0.11912,\n",
              "           0.12012,     0.12112,     0.12212,     0.12312,     0.12412,     0.12513,     0.12613,     0.12713,     0.12813,     0.12913,     0.13013,     0.13113,     0.13213,     0.13313,     0.13413,     0.13514,     0.13614,     0.13714,     0.13814,     0.13914,     0.14014,     0.14114,     0.14214,     0.14314,\n",
              "           0.14414,     0.14515,     0.14615,     0.14715,     0.14815,     0.14915,     0.15015,     0.15115,     0.15215,     0.15315,     0.15415,     0.15516,     0.15616,     0.15716,     0.15816,     0.15916,     0.16016,     0.16116,     0.16216,     0.16316,     0.16416,     0.16517,     0.16617,     0.16717,\n",
              "           0.16817,     0.16917,     0.17017,     0.17117,     0.17217,     0.17317,     0.17417,     0.17518,     0.17618,     0.17718,     0.17818,     0.17918,     0.18018,     0.18118,     0.18218,     0.18318,     0.18418,     0.18519,     0.18619,     0.18719,     0.18819,     0.18919,     0.19019,     0.19119,\n",
              "           0.19219,     0.19319,     0.19419,      0.1952,      0.1962,      0.1972,      0.1982,      0.1992,      0.2002,      0.2012,      0.2022,      0.2032,      0.2042,     0.20521,     0.20621,     0.20721,     0.20821,     0.20921,     0.21021,     0.21121,     0.21221,     0.21321,     0.21421,     0.21522,\n",
              "           0.21622,     0.21722,     0.21822,     0.21922,     0.22022,     0.22122,     0.22222,     0.22322,     0.22422,     0.22523,     0.22623,     0.22723,     0.22823,     0.22923,     0.23023,     0.23123,     0.23223,     0.23323,     0.23423,     0.23524,     0.23624,     0.23724,     0.23824,     0.23924,\n",
              "           0.24024,     0.24124,     0.24224,     0.24324,     0.24424,     0.24525,     0.24625,     0.24725,     0.24825,     0.24925,     0.25025,     0.25125,     0.25225,     0.25325,     0.25425,     0.25526,     0.25626,     0.25726,     0.25826,     0.25926,     0.26026,     0.26126,     0.26226,     0.26326,\n",
              "           0.26426,     0.26527,     0.26627,     0.26727,     0.26827,     0.26927,     0.27027,     0.27127,     0.27227,     0.27327,     0.27427,     0.27528,     0.27628,     0.27728,     0.27828,     0.27928,     0.28028,     0.28128,     0.28228,     0.28328,     0.28428,     0.28529,     0.28629,     0.28729,\n",
              "           0.28829,     0.28929,     0.29029,     0.29129,     0.29229,     0.29329,     0.29429,      0.2953,      0.2963,      0.2973,      0.2983,      0.2993,      0.3003,      0.3013,      0.3023,      0.3033,      0.3043,     0.30531,     0.30631,     0.30731,     0.30831,     0.30931,     0.31031,     0.31131,\n",
              "           0.31231,     0.31331,     0.31431,     0.31532,     0.31632,     0.31732,     0.31832,     0.31932,     0.32032,     0.32132,     0.32232,     0.32332,     0.32432,     0.32533,     0.32633,     0.32733,     0.32833,     0.32933,     0.33033,     0.33133,     0.33233,     0.33333,     0.33433,     0.33534,\n",
              "           0.33634,     0.33734,     0.33834,     0.33934,     0.34034,     0.34134,     0.34234,     0.34334,     0.34434,     0.34535,     0.34635,     0.34735,     0.34835,     0.34935,     0.35035,     0.35135,     0.35235,     0.35335,     0.35435,     0.35536,     0.35636,     0.35736,     0.35836,     0.35936,\n",
              "           0.36036,     0.36136,     0.36236,     0.36336,     0.36436,     0.36537,     0.36637,     0.36737,     0.36837,     0.36937,     0.37037,     0.37137,     0.37237,     0.37337,     0.37437,     0.37538,     0.37638,     0.37738,     0.37838,     0.37938,     0.38038,     0.38138,     0.38238,     0.38338,\n",
              "           0.38438,     0.38539,     0.38639,     0.38739,     0.38839,     0.38939,     0.39039,     0.39139,     0.39239,     0.39339,     0.39439,      0.3954,      0.3964,      0.3974,      0.3984,      0.3994,      0.4004,      0.4014,      0.4024,      0.4034,      0.4044,     0.40541,     0.40641,     0.40741,\n",
              "           0.40841,     0.40941,     0.41041,     0.41141,     0.41241,     0.41341,     0.41441,     0.41542,     0.41642,     0.41742,     0.41842,     0.41942,     0.42042,     0.42142,     0.42242,     0.42342,     0.42442,     0.42543,     0.42643,     0.42743,     0.42843,     0.42943,     0.43043,     0.43143,\n",
              "           0.43243,     0.43343,     0.43443,     0.43544,     0.43644,     0.43744,     0.43844,     0.43944,     0.44044,     0.44144,     0.44244,     0.44344,     0.44444,     0.44545,     0.44645,     0.44745,     0.44845,     0.44945,     0.45045,     0.45145,     0.45245,     0.45345,     0.45445,     0.45546,\n",
              "           0.45646,     0.45746,     0.45846,     0.45946,     0.46046,     0.46146,     0.46246,     0.46346,     0.46446,     0.46547,     0.46647,     0.46747,     0.46847,     0.46947,     0.47047,     0.47147,     0.47247,     0.47347,     0.47447,     0.47548,     0.47648,     0.47748,     0.47848,     0.47948,\n",
              "           0.48048,     0.48148,     0.48248,     0.48348,     0.48448,     0.48549,     0.48649,     0.48749,     0.48849,     0.48949,     0.49049,     0.49149,     0.49249,     0.49349,     0.49449,      0.4955,      0.4965,      0.4975,      0.4985,      0.4995,      0.5005,      0.5015,      0.5025,      0.5035,\n",
              "            0.5045,     0.50551,     0.50651,     0.50751,     0.50851,     0.50951,     0.51051,     0.51151,     0.51251,     0.51351,     0.51451,     0.51552,     0.51652,     0.51752,     0.51852,     0.51952,     0.52052,     0.52152,     0.52252,     0.52352,     0.52452,     0.52553,     0.52653,     0.52753,\n",
              "           0.52853,     0.52953,     0.53053,     0.53153,     0.53253,     0.53353,     0.53453,     0.53554,     0.53654,     0.53754,     0.53854,     0.53954,     0.54054,     0.54154,     0.54254,     0.54354,     0.54454,     0.54555,     0.54655,     0.54755,     0.54855,     0.54955,     0.55055,     0.55155,\n",
              "           0.55255,     0.55355,     0.55455,     0.55556,     0.55656,     0.55756,     0.55856,     0.55956,     0.56056,     0.56156,     0.56256,     0.56356,     0.56456,     0.56557,     0.56657,     0.56757,     0.56857,     0.56957,     0.57057,     0.57157,     0.57257,     0.57357,     0.57457,     0.57558,\n",
              "           0.57658,     0.57758,     0.57858,     0.57958,     0.58058,     0.58158,     0.58258,     0.58358,     0.58458,     0.58559,     0.58659,     0.58759,     0.58859,     0.58959,     0.59059,     0.59159,     0.59259,     0.59359,     0.59459,      0.5956,      0.5966,      0.5976,      0.5986,      0.5996,\n",
              "            0.6006,      0.6016,      0.6026,      0.6036,      0.6046,     0.60561,     0.60661,     0.60761,     0.60861,     0.60961,     0.61061,     0.61161,     0.61261,     0.61361,     0.61461,     0.61562,     0.61662,     0.61762,     0.61862,     0.61962,     0.62062,     0.62162,     0.62262,     0.62362,\n",
              "           0.62462,     0.62563,     0.62663,     0.62763,     0.62863,     0.62963,     0.63063,     0.63163,     0.63263,     0.63363,     0.63463,     0.63564,     0.63664,     0.63764,     0.63864,     0.63964,     0.64064,     0.64164,     0.64264,     0.64364,     0.64464,     0.64565,     0.64665,     0.64765,\n",
              "           0.64865,     0.64965,     0.65065,     0.65165,     0.65265,     0.65365,     0.65465,     0.65566,     0.65666,     0.65766,     0.65866,     0.65966,     0.66066,     0.66166,     0.66266,     0.66366,     0.66466,     0.66567,     0.66667,     0.66767,     0.66867,     0.66967,     0.67067,     0.67167,\n",
              "           0.67267,     0.67367,     0.67467,     0.67568,     0.67668,     0.67768,     0.67868,     0.67968,     0.68068,     0.68168,     0.68268,     0.68368,     0.68468,     0.68569,     0.68669,     0.68769,     0.68869,     0.68969,     0.69069,     0.69169,     0.69269,     0.69369,     0.69469,      0.6957,\n",
              "            0.6967,      0.6977,      0.6987,      0.6997,      0.7007,      0.7017,      0.7027,      0.7037,      0.7047,     0.70571,     0.70671,     0.70771,     0.70871,     0.70971,     0.71071,     0.71171,     0.71271,     0.71371,     0.71471,     0.71572,     0.71672,     0.71772,     0.71872,     0.71972,\n",
              "           0.72072,     0.72172,     0.72272,     0.72372,     0.72472,     0.72573,     0.72673,     0.72773,     0.72873,     0.72973,     0.73073,     0.73173,     0.73273,     0.73373,     0.73473,     0.73574,     0.73674,     0.73774,     0.73874,     0.73974,     0.74074,     0.74174,     0.74274,     0.74374,\n",
              "           0.74474,     0.74575,     0.74675,     0.74775,     0.74875,     0.74975,     0.75075,     0.75175,     0.75275,     0.75375,     0.75475,     0.75576,     0.75676,     0.75776,     0.75876,     0.75976,     0.76076,     0.76176,     0.76276,     0.76376,     0.76476,     0.76577,     0.76677,     0.76777,\n",
              "           0.76877,     0.76977,     0.77077,     0.77177,     0.77277,     0.77377,     0.77477,     0.77578,     0.77678,     0.77778,     0.77878,     0.77978,     0.78078,     0.78178,     0.78278,     0.78378,     0.78478,     0.78579,     0.78679,     0.78779,     0.78879,     0.78979,     0.79079,     0.79179,\n",
              "           0.79279,     0.79379,     0.79479,      0.7958,      0.7968,      0.7978,      0.7988,      0.7998,      0.8008,      0.8018,      0.8028,      0.8038,      0.8048,     0.80581,     0.80681,     0.80781,     0.80881,     0.80981,     0.81081,     0.81181,     0.81281,     0.81381,     0.81481,     0.81582,\n",
              "           0.81682,     0.81782,     0.81882,     0.81982,     0.82082,     0.82182,     0.82282,     0.82382,     0.82482,     0.82583,     0.82683,     0.82783,     0.82883,     0.82983,     0.83083,     0.83183,     0.83283,     0.83383,     0.83483,     0.83584,     0.83684,     0.83784,     0.83884,     0.83984,\n",
              "           0.84084,     0.84184,     0.84284,     0.84384,     0.84484,     0.84585,     0.84685,     0.84785,     0.84885,     0.84985,     0.85085,     0.85185,     0.85285,     0.85385,     0.85485,     0.85586,     0.85686,     0.85786,     0.85886,     0.85986,     0.86086,     0.86186,     0.86286,     0.86386,\n",
              "           0.86486,     0.86587,     0.86687,     0.86787,     0.86887,     0.86987,     0.87087,     0.87187,     0.87287,     0.87387,     0.87487,     0.87588,     0.87688,     0.87788,     0.87888,     0.87988,     0.88088,     0.88188,     0.88288,     0.88388,     0.88488,     0.88589,     0.88689,     0.88789,\n",
              "           0.88889,     0.88989,     0.89089,     0.89189,     0.89289,     0.89389,     0.89489,      0.8959,      0.8969,      0.8979,      0.8989,      0.8999,      0.9009,      0.9019,      0.9029,      0.9039,      0.9049,     0.90591,     0.90691,     0.90791,     0.90891,     0.90991,     0.91091,     0.91191,\n",
              "           0.91291,     0.91391,     0.91491,     0.91592,     0.91692,     0.91792,     0.91892,     0.91992,     0.92092,     0.92192,     0.92292,     0.92392,     0.92492,     0.92593,     0.92693,     0.92793,     0.92893,     0.92993,     0.93093,     0.93193,     0.93293,     0.93393,     0.93493,     0.93594,\n",
              "           0.93694,     0.93794,     0.93894,     0.93994,     0.94094,     0.94194,     0.94294,     0.94394,     0.94494,     0.94595,     0.94695,     0.94795,     0.94895,     0.94995,     0.95095,     0.95195,     0.95295,     0.95395,     0.95495,     0.95596,     0.95696,     0.95796,     0.95896,     0.95996,\n",
              "           0.96096,     0.96196,     0.96296,     0.96396,     0.96496,     0.96597,     0.96697,     0.96797,     0.96897,     0.96997,     0.97097,     0.97197,     0.97297,     0.97397,     0.97497,     0.97598,     0.97698,     0.97798,     0.97898,     0.97998,     0.98098,     0.98198,     0.98298,     0.98398,\n",
              "           0.98498,     0.98599,     0.98699,     0.98799,     0.98899,     0.98999,     0.99099,     0.99199,     0.99299,     0.99399,     0.99499,       0.996,       0.997,       0.998,       0.999,           1]), array([[    0.40639,     0.40639,     0.49233,     0.53159,     0.55208,     0.56586,     0.57594,     0.58305,     0.58925,     0.59474,     0.59875,     0.60341,     0.60631,     0.61048,     0.61436,     0.61781,     0.61959,      0.6216,     0.62405,     0.62597,      0.6267,     0.62783,     0.62951,\n",
              "            0.63061,     0.63171,     0.63295,     0.63402,     0.63507,     0.63656,     0.63736,     0.63846,      0.6397,     0.64062,     0.64152,     0.64232,     0.64318,     0.64358,     0.64429,     0.64455,     0.64509,     0.64592,     0.64617,     0.64661,     0.64717,     0.64764,     0.64821,\n",
              "            0.64868,     0.64906,     0.64963,     0.65036,     0.65074,     0.65132,     0.65174,     0.65218,     0.65223,      0.6529,     0.65356,     0.65381,     0.65399,     0.65463,     0.65501,     0.65518,     0.65565,     0.65584,     0.65609,     0.65649,     0.65697,     0.65764,     0.65807,\n",
              "            0.65864,     0.65901,     0.65934,     0.65951,     0.65983,     0.66027,     0.66049,     0.66054,     0.66106,     0.66142,     0.66174,     0.66176,     0.66207,     0.66249,     0.66262,     0.66294,     0.66316,     0.66335,     0.66354,     0.66343,     0.66365,     0.66414,     0.66435,\n",
              "            0.66457,     0.66483,     0.66496,     0.66497,     0.66503,     0.66519,     0.66562,     0.66598,     0.66615,     0.66643,     0.66676,     0.66705,     0.66728,     0.66739,     0.66752,     0.66799,     0.66827,     0.66839,     0.66859,     0.66855,     0.66876,     0.66915,     0.66925,\n",
              "            0.66945,     0.66986,     0.67005,     0.67012,     0.67051,     0.67074,     0.67096,     0.67135,     0.67182,     0.67216,     0.67244,     0.67248,     0.67273,     0.67279,     0.67286,     0.67297,     0.67311,     0.67351,     0.67354,      0.6736,     0.67405,     0.67428,     0.67436,\n",
              "            0.67448,     0.67467,     0.67489,     0.67499,     0.67511,     0.67517,     0.67528,     0.67541,     0.67557,     0.67574,     0.67567,     0.67572,     0.67588,     0.67601,     0.67622,     0.67621,     0.67665,      0.6768,     0.67687,      0.6769,     0.67689,     0.67702,     0.67726,\n",
              "            0.67749,     0.67753,     0.67762,     0.67769,     0.67773,      0.6778,     0.67786,      0.6781,     0.67822,     0.67849,     0.67865,     0.67867,     0.67882,     0.67894,     0.67904,     0.67908,     0.67922,     0.67933,     0.67944,     0.67963,     0.67963,     0.67972,     0.67996,\n",
              "            0.68007,     0.68013,     0.68008,     0.68012,     0.68018,     0.68042,     0.68045,     0.68035,     0.68045,     0.68049,     0.68053,     0.68069,      0.6808,     0.68088,     0.68091,     0.68109,     0.68132,     0.68135,     0.68137,     0.68158,     0.68172,     0.68174,     0.68177,\n",
              "            0.68187,     0.68203,     0.68206,     0.68208,     0.68201,     0.68225,     0.68232,     0.68245,     0.68255,     0.68245,     0.68243,     0.68258,     0.68263,     0.68272,     0.68265,     0.68269,     0.68273,     0.68293,     0.68285,     0.68289,     0.68295,      0.6831,     0.68315,\n",
              "             0.6833,     0.68331,     0.68333,     0.68334,     0.68336,      0.6834,     0.68359,     0.68376,     0.68379,     0.68382,     0.68416,     0.68424,     0.68423,      0.6843,     0.68435,     0.68446,     0.68439,     0.68448,     0.68445,     0.68447,     0.68449,     0.68452,     0.68455,\n",
              "            0.68461,     0.68453,     0.68469,     0.68472,     0.68475,     0.68486,     0.68491,     0.68501,     0.68529,     0.68542,     0.68547,     0.68554,     0.68556,     0.68559,     0.68561,      0.6857,     0.68572,     0.68575,     0.68551,     0.68552,     0.68554,     0.68556,     0.68558,\n",
              "            0.68562,     0.68572,     0.68575,     0.68566,     0.68573,     0.68577,     0.68584,     0.68589,     0.68595,     0.68607,     0.68612,      0.6862,     0.68625,     0.68628,     0.68631,     0.68653,     0.68662,     0.68669,     0.68674,     0.68678,     0.68682,     0.68673,     0.68675,\n",
              "             0.6868,     0.68688,     0.68695,     0.68703,     0.68714,      0.6872,     0.68723,     0.68719,     0.68714,     0.68712,     0.68714,     0.68716,     0.68718,     0.68728,      0.6873,     0.68726,     0.68728,      0.6873,     0.68732,     0.68738,     0.68753,     0.68761,     0.68773,\n",
              "            0.68775,     0.68777,     0.68784,     0.68777,     0.68774,     0.68778,     0.68782,     0.68786,     0.68788,      0.6879,     0.68792,     0.68795,     0.68799,     0.68805,     0.68799,     0.68792,     0.68784,     0.68781,     0.68784,     0.68786,     0.68792,     0.68799,     0.68788,\n",
              "            0.68792,     0.68791,     0.68799,     0.68806,     0.68813,     0.68822,     0.68835,      0.6883,     0.68825,      0.6882,     0.68812,     0.68814,     0.68818,      0.6882,     0.68823,      0.6883,     0.68831,     0.68832,     0.68833,     0.68835,     0.68836,     0.68828,     0.68833,\n",
              "            0.68837,     0.68824,      0.6884,     0.68842,     0.68846,     0.68846,      0.6885,     0.68854,     0.68857,     0.68864,      0.6888,     0.68883,     0.68885,     0.68881,     0.68888,     0.68895,     0.68901,     0.68894,     0.68898,     0.68909,     0.68912,     0.68925,     0.68947,\n",
              "            0.68941,     0.68944,     0.68948,     0.68955,     0.68958,     0.68956,     0.68969,     0.68971,     0.68974,     0.68979,     0.68975,      0.6897,     0.68981,     0.68984,     0.68987,     0.68989,     0.68971,     0.68978,     0.68979,     0.68985,     0.68989,     0.68992,     0.68996,\n",
              "            0.69001,     0.69007,      0.6901,     0.69014,     0.69017,      0.6903,     0.69034,     0.69038,      0.6904,     0.69043,     0.69046,     0.69059,     0.69066,     0.69068,      0.6907,      0.6908,     0.69083,     0.69087,      0.6909,     0.69089,     0.69095,     0.69103,     0.69109,\n",
              "            0.69112,     0.69116,     0.69119,     0.69129,     0.69133,     0.69139,     0.69146,     0.69157,      0.6916,     0.69167,     0.69174,     0.69188,     0.69194,     0.69205,     0.69208,     0.69212,     0.69216,      0.6923,     0.69238,     0.69252,     0.69264,     0.69267,     0.69266,\n",
              "             0.6926,     0.69258,     0.69262,     0.69265,     0.69269,     0.69274,     0.69279,     0.69283,     0.69295,     0.69288,      0.6929,     0.69297,     0.69308,     0.69311,     0.69317,     0.69321,     0.69317,     0.69313,     0.69321,     0.69324,     0.69333,     0.69326,     0.69319,\n",
              "            0.69307,     0.69311,     0.69321,     0.69323,     0.69324,     0.69326,     0.69328,     0.69332,     0.69323,     0.69341,     0.69338,     0.69334,     0.69331,     0.69332,     0.69339,     0.69344,     0.69348,      0.6936,     0.69364,     0.69366,     0.69368,     0.69369,     0.69374,\n",
              "            0.69388,     0.69382,      0.6938,     0.69384,     0.69386,     0.69389,     0.69391,       0.694,     0.69402,     0.69405,     0.69411,     0.69422,     0.69425,     0.69427,     0.69429,     0.69431,     0.69432,     0.69425,      0.6942,     0.69421,     0.69422,     0.69424,     0.69425,\n",
              "            0.69428,     0.69435,     0.69453,     0.69451,     0.69449,     0.69447,     0.69444,     0.69442,     0.69442,     0.69444,     0.69447,     0.69448,     0.69449,      0.6945,     0.69451,     0.69452,     0.69453,     0.69454,     0.69446,     0.69453,     0.69453,     0.69459,     0.69462,\n",
              "            0.69453,     0.69432,     0.69425,     0.69431,     0.69423,     0.69419,     0.69422,     0.69424,     0.69426,     0.69429,     0.69431,     0.69443,     0.69448,     0.69451,     0.69448,     0.69442,     0.69431,     0.69439,     0.69439,     0.69436,     0.69433,     0.69431,     0.69428,\n",
              "            0.69438,     0.69441,     0.69455,     0.69458,     0.69462,     0.69469,     0.69457,     0.69474,      0.6947,     0.69465,     0.69455,     0.69436,     0.69434,     0.69438,     0.69429,     0.69416,     0.69429,     0.69433,     0.69423,     0.69433,     0.69427,     0.69424,     0.69431,\n",
              "            0.69438,     0.69445,     0.69452,     0.69456,     0.69457,     0.69458,      0.6946,     0.69461,     0.69462,     0.69463,     0.69465,     0.69468,     0.69466,      0.6946,     0.69427,     0.69428,     0.69435,     0.69434,     0.69439,     0.69447,     0.69454,     0.69456,     0.69452,\n",
              "            0.69454,     0.69436,     0.69441,     0.69429,      0.6942,     0.69406,       0.694,     0.69402,     0.69388,     0.69384,     0.69379,     0.69355,     0.69356,     0.69342,     0.69337,     0.69344,     0.69336,     0.69342,     0.69338,     0.69333,     0.69328,     0.69316,     0.69319,\n",
              "            0.69322,     0.69327,     0.69334,     0.69339,     0.69342,     0.69331,     0.69335,     0.69321,     0.69307,      0.6931,     0.69301,     0.69312,     0.69303,     0.69307,     0.69317,     0.69322,     0.69324,     0.69326,     0.69316,     0.69296,     0.69299,     0.69294,     0.69286,\n",
              "            0.69268,     0.69248,     0.69238,     0.69232,     0.69236,     0.69234,      0.6923,     0.69234,     0.69237,     0.69239,     0.69244,     0.69256,     0.69261,     0.69264,     0.69267,     0.69271,     0.69275,     0.69272,     0.69286,      0.6929,      0.6929,     0.69294,      0.6929,\n",
              "            0.69286,     0.69289,     0.69296,     0.69301,     0.69299,     0.69303,     0.69318,       0.693,      0.6931,     0.69318,     0.69312,     0.69321,     0.69326,     0.69326,     0.69321,     0.69309,     0.69303,     0.69299,     0.69303,     0.69322,     0.69322,     0.69301,     0.69306,\n",
              "            0.69312,     0.69302,     0.69282,     0.69254,     0.69268,     0.69273,     0.69269,     0.69256,     0.69243,     0.69234,     0.69241,     0.69236,     0.69197,     0.69188,     0.69176,     0.69163,     0.69163,     0.69128,     0.69133,     0.69138,     0.69132,     0.69116,     0.69107,\n",
              "            0.69111,     0.69116,     0.69137,     0.69113,     0.69111,     0.69116,     0.69129,     0.69121,     0.69113,     0.69116,     0.69097,     0.69102,     0.69107,     0.69098,     0.69099,      0.6909,     0.69094,     0.69017,     0.69022,     0.69011,     0.69002,     0.68991,     0.68981,\n",
              "            0.68987,     0.68992,     0.68973,     0.68976,     0.68976,     0.68967,     0.68969,     0.68965,     0.68939,      0.6893,     0.68938,     0.68945,     0.68942,     0.68924,      0.6892,     0.68884,     0.68855,      0.6887,     0.68858,      0.6886,     0.68864,     0.68878,     0.68896,\n",
              "            0.68909,     0.68913,     0.68905,     0.68873,     0.68884,     0.68901,     0.68888,     0.68879,     0.68847,     0.68849,     0.68833,     0.68837,      0.6885,     0.68858,     0.68859,     0.68832,     0.68828,     0.68823,     0.68823,     0.68834,     0.68816,     0.68797,     0.68797,\n",
              "            0.68791,      0.6879,     0.68764,     0.68745,     0.68748,     0.68726,     0.68712,     0.68717,      0.6868,     0.68694,     0.68707,      0.6868,     0.68675,     0.68653,     0.68625,     0.68585,     0.68576,     0.68543,     0.68483,     0.68469,      0.6846,     0.68453,     0.68436,\n",
              "            0.68426,     0.68426,     0.68396,     0.68405,     0.68385,     0.68384,     0.68371,      0.6838,     0.68336,     0.68344,     0.68354,     0.68321,     0.68295,     0.68315,     0.68284,     0.68299,     0.68307,     0.68327,     0.68328,     0.68308,     0.68283,     0.68291,     0.68305,\n",
              "            0.68329,     0.68267,     0.68226,      0.6821,     0.68193,     0.68195,     0.68216,     0.68216,     0.68204,     0.68184,     0.68176,     0.68149,     0.68125,     0.68116,     0.68107,     0.68078,     0.68057,     0.68002,      0.6795,     0.67958,     0.67915,     0.67912,      0.6787,\n",
              "            0.67849,     0.67779,     0.67674,     0.67637,     0.67604,     0.67569,     0.67463,     0.67336,     0.67315,     0.67269,     0.67235,      0.6718,     0.67109,     0.67067,     0.67059,     0.67061,     0.67047,     0.66999,      0.6695,     0.66905,     0.66892,     0.66879,     0.66873,\n",
              "            0.66747,     0.66718,     0.66695,     0.66552,     0.66536,      0.6647,     0.66411,     0.66381,     0.66314,     0.66241,     0.66161,     0.66095,     0.66076,     0.65896,     0.65801,      0.6577,     0.65681,     0.65575,     0.65521,     0.65481,     0.65369,     0.65247,     0.65138,\n",
              "            0.64983,     0.64876,     0.64751,     0.64523,     0.64424,     0.64189,     0.64096,     0.63931,     0.63571,     0.63362,      0.6294,     0.62344,     0.61835,     0.61248,     0.60647,     0.60207,     0.59744,     0.58826,     0.58134,     0.56978,     0.55704,     0.54951,     0.54095,\n",
              "             0.5241,     0.51489,     0.49388,       0.473,     0.44102,     0.41565,     0.37652,     0.34574,     0.29645,      0.2532,      0.2216,       0.201,     0.18604,     0.16139,     0.14058,     0.12216,     0.10958,    0.092472,    0.074186,    0.059258,    0.053807,    0.043101,    0.036485,\n",
              "           0.028889,    0.025052,    0.020729,    0.016368,    0.012469,    0.010014,   0.0083572,   0.0078757,   0.0055462,   0.0039963,   0.0020499,   0.0015068,           0,           0,           0,           0,           0,           0,           0,           0,           0,           0,           0,\n",
              "                  0,           0,           0,           0,           0,           0,           0,           0,           0,           0,           0]]), 'Confidence', 'F1'], [array([          0,    0.001001,    0.002002,    0.003003,    0.004004,    0.005005,    0.006006,    0.007007,    0.008008,    0.009009,     0.01001,    0.011011,    0.012012,    0.013013,    0.014014,    0.015015,    0.016016,    0.017017,    0.018018,    0.019019,     0.02002,    0.021021,    0.022022,    0.023023,\n",
              "          0.024024,    0.025025,    0.026026,    0.027027,    0.028028,    0.029029,     0.03003,    0.031031,    0.032032,    0.033033,    0.034034,    0.035035,    0.036036,    0.037037,    0.038038,    0.039039,     0.04004,    0.041041,    0.042042,    0.043043,    0.044044,    0.045045,    0.046046,    0.047047,\n",
              "          0.048048,    0.049049,     0.05005,    0.051051,    0.052052,    0.053053,    0.054054,    0.055055,    0.056056,    0.057057,    0.058058,    0.059059,     0.06006,    0.061061,    0.062062,    0.063063,    0.064064,    0.065065,    0.066066,    0.067067,    0.068068,    0.069069,     0.07007,    0.071071,\n",
              "          0.072072,    0.073073,    0.074074,    0.075075,    0.076076,    0.077077,    0.078078,    0.079079,     0.08008,    0.081081,    0.082082,    0.083083,    0.084084,    0.085085,    0.086086,    0.087087,    0.088088,    0.089089,     0.09009,    0.091091,    0.092092,    0.093093,    0.094094,    0.095095,\n",
              "          0.096096,    0.097097,    0.098098,    0.099099,      0.1001,      0.1011,      0.1021,      0.1031,      0.1041,     0.10511,     0.10611,     0.10711,     0.10811,     0.10911,     0.11011,     0.11111,     0.11211,     0.11311,     0.11411,     0.11512,     0.11612,     0.11712,     0.11812,     0.11912,\n",
              "           0.12012,     0.12112,     0.12212,     0.12312,     0.12412,     0.12513,     0.12613,     0.12713,     0.12813,     0.12913,     0.13013,     0.13113,     0.13213,     0.13313,     0.13413,     0.13514,     0.13614,     0.13714,     0.13814,     0.13914,     0.14014,     0.14114,     0.14214,     0.14314,\n",
              "           0.14414,     0.14515,     0.14615,     0.14715,     0.14815,     0.14915,     0.15015,     0.15115,     0.15215,     0.15315,     0.15415,     0.15516,     0.15616,     0.15716,     0.15816,     0.15916,     0.16016,     0.16116,     0.16216,     0.16316,     0.16416,     0.16517,     0.16617,     0.16717,\n",
              "           0.16817,     0.16917,     0.17017,     0.17117,     0.17217,     0.17317,     0.17417,     0.17518,     0.17618,     0.17718,     0.17818,     0.17918,     0.18018,     0.18118,     0.18218,     0.18318,     0.18418,     0.18519,     0.18619,     0.18719,     0.18819,     0.18919,     0.19019,     0.19119,\n",
              "           0.19219,     0.19319,     0.19419,      0.1952,      0.1962,      0.1972,      0.1982,      0.1992,      0.2002,      0.2012,      0.2022,      0.2032,      0.2042,     0.20521,     0.20621,     0.20721,     0.20821,     0.20921,     0.21021,     0.21121,     0.21221,     0.21321,     0.21421,     0.21522,\n",
              "           0.21622,     0.21722,     0.21822,     0.21922,     0.22022,     0.22122,     0.22222,     0.22322,     0.22422,     0.22523,     0.22623,     0.22723,     0.22823,     0.22923,     0.23023,     0.23123,     0.23223,     0.23323,     0.23423,     0.23524,     0.23624,     0.23724,     0.23824,     0.23924,\n",
              "           0.24024,     0.24124,     0.24224,     0.24324,     0.24424,     0.24525,     0.24625,     0.24725,     0.24825,     0.24925,     0.25025,     0.25125,     0.25225,     0.25325,     0.25425,     0.25526,     0.25626,     0.25726,     0.25826,     0.25926,     0.26026,     0.26126,     0.26226,     0.26326,\n",
              "           0.26426,     0.26527,     0.26627,     0.26727,     0.26827,     0.26927,     0.27027,     0.27127,     0.27227,     0.27327,     0.27427,     0.27528,     0.27628,     0.27728,     0.27828,     0.27928,     0.28028,     0.28128,     0.28228,     0.28328,     0.28428,     0.28529,     0.28629,     0.28729,\n",
              "           0.28829,     0.28929,     0.29029,     0.29129,     0.29229,     0.29329,     0.29429,      0.2953,      0.2963,      0.2973,      0.2983,      0.2993,      0.3003,      0.3013,      0.3023,      0.3033,      0.3043,     0.30531,     0.30631,     0.30731,     0.30831,     0.30931,     0.31031,     0.31131,\n",
              "           0.31231,     0.31331,     0.31431,     0.31532,     0.31632,     0.31732,     0.31832,     0.31932,     0.32032,     0.32132,     0.32232,     0.32332,     0.32432,     0.32533,     0.32633,     0.32733,     0.32833,     0.32933,     0.33033,     0.33133,     0.33233,     0.33333,     0.33433,     0.33534,\n",
              "           0.33634,     0.33734,     0.33834,     0.33934,     0.34034,     0.34134,     0.34234,     0.34334,     0.34434,     0.34535,     0.34635,     0.34735,     0.34835,     0.34935,     0.35035,     0.35135,     0.35235,     0.35335,     0.35435,     0.35536,     0.35636,     0.35736,     0.35836,     0.35936,\n",
              "           0.36036,     0.36136,     0.36236,     0.36336,     0.36436,     0.36537,     0.36637,     0.36737,     0.36837,     0.36937,     0.37037,     0.37137,     0.37237,     0.37337,     0.37437,     0.37538,     0.37638,     0.37738,     0.37838,     0.37938,     0.38038,     0.38138,     0.38238,     0.38338,\n",
              "           0.38438,     0.38539,     0.38639,     0.38739,     0.38839,     0.38939,     0.39039,     0.39139,     0.39239,     0.39339,     0.39439,      0.3954,      0.3964,      0.3974,      0.3984,      0.3994,      0.4004,      0.4014,      0.4024,      0.4034,      0.4044,     0.40541,     0.40641,     0.40741,\n",
              "           0.40841,     0.40941,     0.41041,     0.41141,     0.41241,     0.41341,     0.41441,     0.41542,     0.41642,     0.41742,     0.41842,     0.41942,     0.42042,     0.42142,     0.42242,     0.42342,     0.42442,     0.42543,     0.42643,     0.42743,     0.42843,     0.42943,     0.43043,     0.43143,\n",
              "           0.43243,     0.43343,     0.43443,     0.43544,     0.43644,     0.43744,     0.43844,     0.43944,     0.44044,     0.44144,     0.44244,     0.44344,     0.44444,     0.44545,     0.44645,     0.44745,     0.44845,     0.44945,     0.45045,     0.45145,     0.45245,     0.45345,     0.45445,     0.45546,\n",
              "           0.45646,     0.45746,     0.45846,     0.45946,     0.46046,     0.46146,     0.46246,     0.46346,     0.46446,     0.46547,     0.46647,     0.46747,     0.46847,     0.46947,     0.47047,     0.47147,     0.47247,     0.47347,     0.47447,     0.47548,     0.47648,     0.47748,     0.47848,     0.47948,\n",
              "           0.48048,     0.48148,     0.48248,     0.48348,     0.48448,     0.48549,     0.48649,     0.48749,     0.48849,     0.48949,     0.49049,     0.49149,     0.49249,     0.49349,     0.49449,      0.4955,      0.4965,      0.4975,      0.4985,      0.4995,      0.5005,      0.5015,      0.5025,      0.5035,\n",
              "            0.5045,     0.50551,     0.50651,     0.50751,     0.50851,     0.50951,     0.51051,     0.51151,     0.51251,     0.51351,     0.51451,     0.51552,     0.51652,     0.51752,     0.51852,     0.51952,     0.52052,     0.52152,     0.52252,     0.52352,     0.52452,     0.52553,     0.52653,     0.52753,\n",
              "           0.52853,     0.52953,     0.53053,     0.53153,     0.53253,     0.53353,     0.53453,     0.53554,     0.53654,     0.53754,     0.53854,     0.53954,     0.54054,     0.54154,     0.54254,     0.54354,     0.54454,     0.54555,     0.54655,     0.54755,     0.54855,     0.54955,     0.55055,     0.55155,\n",
              "           0.55255,     0.55355,     0.55455,     0.55556,     0.55656,     0.55756,     0.55856,     0.55956,     0.56056,     0.56156,     0.56256,     0.56356,     0.56456,     0.56557,     0.56657,     0.56757,     0.56857,     0.56957,     0.57057,     0.57157,     0.57257,     0.57357,     0.57457,     0.57558,\n",
              "           0.57658,     0.57758,     0.57858,     0.57958,     0.58058,     0.58158,     0.58258,     0.58358,     0.58458,     0.58559,     0.58659,     0.58759,     0.58859,     0.58959,     0.59059,     0.59159,     0.59259,     0.59359,     0.59459,      0.5956,      0.5966,      0.5976,      0.5986,      0.5996,\n",
              "            0.6006,      0.6016,      0.6026,      0.6036,      0.6046,     0.60561,     0.60661,     0.60761,     0.60861,     0.60961,     0.61061,     0.61161,     0.61261,     0.61361,     0.61461,     0.61562,     0.61662,     0.61762,     0.61862,     0.61962,     0.62062,     0.62162,     0.62262,     0.62362,\n",
              "           0.62462,     0.62563,     0.62663,     0.62763,     0.62863,     0.62963,     0.63063,     0.63163,     0.63263,     0.63363,     0.63463,     0.63564,     0.63664,     0.63764,     0.63864,     0.63964,     0.64064,     0.64164,     0.64264,     0.64364,     0.64464,     0.64565,     0.64665,     0.64765,\n",
              "           0.64865,     0.64965,     0.65065,     0.65165,     0.65265,     0.65365,     0.65465,     0.65566,     0.65666,     0.65766,     0.65866,     0.65966,     0.66066,     0.66166,     0.66266,     0.66366,     0.66466,     0.66567,     0.66667,     0.66767,     0.66867,     0.66967,     0.67067,     0.67167,\n",
              "           0.67267,     0.67367,     0.67467,     0.67568,     0.67668,     0.67768,     0.67868,     0.67968,     0.68068,     0.68168,     0.68268,     0.68368,     0.68468,     0.68569,     0.68669,     0.68769,     0.68869,     0.68969,     0.69069,     0.69169,     0.69269,     0.69369,     0.69469,      0.6957,\n",
              "            0.6967,      0.6977,      0.6987,      0.6997,      0.7007,      0.7017,      0.7027,      0.7037,      0.7047,     0.70571,     0.70671,     0.70771,     0.70871,     0.70971,     0.71071,     0.71171,     0.71271,     0.71371,     0.71471,     0.71572,     0.71672,     0.71772,     0.71872,     0.71972,\n",
              "           0.72072,     0.72172,     0.72272,     0.72372,     0.72472,     0.72573,     0.72673,     0.72773,     0.72873,     0.72973,     0.73073,     0.73173,     0.73273,     0.73373,     0.73473,     0.73574,     0.73674,     0.73774,     0.73874,     0.73974,     0.74074,     0.74174,     0.74274,     0.74374,\n",
              "           0.74474,     0.74575,     0.74675,     0.74775,     0.74875,     0.74975,     0.75075,     0.75175,     0.75275,     0.75375,     0.75475,     0.75576,     0.75676,     0.75776,     0.75876,     0.75976,     0.76076,     0.76176,     0.76276,     0.76376,     0.76476,     0.76577,     0.76677,     0.76777,\n",
              "           0.76877,     0.76977,     0.77077,     0.77177,     0.77277,     0.77377,     0.77477,     0.77578,     0.77678,     0.77778,     0.77878,     0.77978,     0.78078,     0.78178,     0.78278,     0.78378,     0.78478,     0.78579,     0.78679,     0.78779,     0.78879,     0.78979,     0.79079,     0.79179,\n",
              "           0.79279,     0.79379,     0.79479,      0.7958,      0.7968,      0.7978,      0.7988,      0.7998,      0.8008,      0.8018,      0.8028,      0.8038,      0.8048,     0.80581,     0.80681,     0.80781,     0.80881,     0.80981,     0.81081,     0.81181,     0.81281,     0.81381,     0.81481,     0.81582,\n",
              "           0.81682,     0.81782,     0.81882,     0.81982,     0.82082,     0.82182,     0.82282,     0.82382,     0.82482,     0.82583,     0.82683,     0.82783,     0.82883,     0.82983,     0.83083,     0.83183,     0.83283,     0.83383,     0.83483,     0.83584,     0.83684,     0.83784,     0.83884,     0.83984,\n",
              "           0.84084,     0.84184,     0.84284,     0.84384,     0.84484,     0.84585,     0.84685,     0.84785,     0.84885,     0.84985,     0.85085,     0.85185,     0.85285,     0.85385,     0.85485,     0.85586,     0.85686,     0.85786,     0.85886,     0.85986,     0.86086,     0.86186,     0.86286,     0.86386,\n",
              "           0.86486,     0.86587,     0.86687,     0.86787,     0.86887,     0.86987,     0.87087,     0.87187,     0.87287,     0.87387,     0.87487,     0.87588,     0.87688,     0.87788,     0.87888,     0.87988,     0.88088,     0.88188,     0.88288,     0.88388,     0.88488,     0.88589,     0.88689,     0.88789,\n",
              "           0.88889,     0.88989,     0.89089,     0.89189,     0.89289,     0.89389,     0.89489,      0.8959,      0.8969,      0.8979,      0.8989,      0.8999,      0.9009,      0.9019,      0.9029,      0.9039,      0.9049,     0.90591,     0.90691,     0.90791,     0.90891,     0.90991,     0.91091,     0.91191,\n",
              "           0.91291,     0.91391,     0.91491,     0.91592,     0.91692,     0.91792,     0.91892,     0.91992,     0.92092,     0.92192,     0.92292,     0.92392,     0.92492,     0.92593,     0.92693,     0.92793,     0.92893,     0.92993,     0.93093,     0.93193,     0.93293,     0.93393,     0.93493,     0.93594,\n",
              "           0.93694,     0.93794,     0.93894,     0.93994,     0.94094,     0.94194,     0.94294,     0.94394,     0.94494,     0.94595,     0.94695,     0.94795,     0.94895,     0.94995,     0.95095,     0.95195,     0.95295,     0.95395,     0.95495,     0.95596,     0.95696,     0.95796,     0.95896,     0.95996,\n",
              "           0.96096,     0.96196,     0.96296,     0.96396,     0.96496,     0.96597,     0.96697,     0.96797,     0.96897,     0.96997,     0.97097,     0.97197,     0.97297,     0.97397,     0.97497,     0.97598,     0.97698,     0.97798,     0.97898,     0.97998,     0.98098,     0.98198,     0.98298,     0.98398,\n",
              "           0.98498,     0.98599,     0.98699,     0.98799,     0.98899,     0.98999,     0.99099,     0.99199,     0.99299,     0.99399,     0.99499,       0.996,       0.997,       0.998,       0.999,           1]), array([[    0.26227,     0.26227,     0.33872,     0.37712,     0.39818,     0.41298,     0.42392,     0.43179,     0.43868,     0.44492,     0.44954,     0.45482,     0.45812,      0.4629,     0.46745,     0.47145,      0.4736,     0.47595,     0.47882,     0.48109,     0.48246,     0.48381,     0.48594,\n",
              "            0.48726,     0.48857,     0.49006,     0.49135,     0.49268,     0.49447,     0.49544,     0.49692,     0.49842,     0.49954,     0.50064,     0.50178,     0.50282,     0.50331,     0.50418,     0.50458,     0.50524,     0.50634,     0.50681,     0.50735,     0.50804,     0.50869,      0.5094,\n",
              "            0.51006,     0.51061,     0.51132,      0.5123,     0.51284,     0.51358,      0.5141,     0.51465,     0.51471,     0.51555,     0.51637,     0.51669,     0.51699,     0.51781,     0.51835,     0.51865,     0.51932,     0.51957,     0.51987,     0.52038,     0.52098,     0.52183,     0.52237,\n",
              "            0.52308,     0.52356,     0.52397,     0.52419,     0.52458,     0.52514,      0.5255,     0.52557,     0.52631,     0.52678,     0.52718,     0.52729,     0.52769,     0.52822,     0.52848,     0.52896,     0.52925,     0.52958,     0.52982,     0.52984,     0.53023,     0.53085,     0.53113,\n",
              "            0.53141,     0.53173,      0.5319,       0.532,     0.53219,     0.53246,     0.53301,     0.53348,     0.53369,     0.53405,     0.53447,     0.53485,     0.53515,     0.53529,     0.53546,     0.53606,     0.53642,     0.53657,     0.53684,     0.53697,     0.53723,     0.53774,     0.53786,\n",
              "            0.53812,     0.53865,      0.5389,     0.53899,     0.53949,     0.53979,     0.54008,     0.54058,     0.54119,     0.54163,       0.542,     0.54205,     0.54238,     0.54246,     0.54259,     0.54278,     0.54296,     0.54349,     0.54352,      0.5436,     0.54419,     0.54449,     0.54459,\n",
              "            0.54474,     0.54499,     0.54529,     0.54542,     0.54557,     0.54573,     0.54588,     0.54615,     0.54636,     0.54667,     0.54678,     0.54684,     0.54705,     0.54722,     0.54749,     0.54756,     0.54815,     0.54835,     0.54844,     0.54858,     0.54866,     0.54883,     0.54915,\n",
              "            0.54944,      0.5495,     0.54971,     0.54981,     0.54991,     0.55005,     0.55013,     0.55045,      0.5506,     0.55095,     0.55117,     0.55129,     0.55148,     0.55174,     0.55188,     0.55193,     0.55211,     0.55226,     0.55241,     0.55265,     0.55274,     0.55287,     0.55319,\n",
              "            0.55333,     0.55341,     0.55345,      0.5535,     0.55358,      0.5539,     0.55405,     0.55399,     0.55413,     0.55419,     0.55424,     0.55445,     0.55459,      0.5547,     0.55474,     0.55499,     0.55529,     0.55532,     0.55536,     0.55564,     0.55581,     0.55585,     0.55588,\n",
              "            0.55601,     0.55623,     0.55627,      0.5563,     0.55627,     0.55662,     0.55671,     0.55688,     0.55701,     0.55698,     0.55706,     0.55725,     0.55732,     0.55748,     0.55746,      0.5575,     0.55756,     0.55785,     0.55782,     0.55786,     0.55795,     0.55816,     0.55822,\n",
              "            0.55841,     0.55843,     0.55846,     0.55848,      0.5585,     0.55855,     0.55881,     0.55903,     0.55907,     0.55911,     0.55957,     0.55967,     0.55976,     0.55986,     0.55992,     0.56009,     0.56008,      0.5602,     0.56025,     0.56029,     0.56032,     0.56036,      0.5604,\n",
              "            0.56048,     0.56046,     0.56067,     0.56072,     0.56076,     0.56091,     0.56098,      0.5611,     0.56149,     0.56166,     0.56173,     0.56182,     0.56195,     0.56198,     0.56201,     0.56213,     0.56217,      0.5622,     0.56208,      0.5621,     0.56212,     0.56214,     0.56217,\n",
              "            0.56223,     0.56237,      0.5624,     0.56239,     0.56248,     0.56253,     0.56263,     0.56269,     0.56277,     0.56293,       0.563,     0.56311,     0.56318,     0.56322,     0.56325,     0.56355,     0.56368,     0.56377,     0.56384,      0.5639,     0.56395,     0.56392,     0.56396,\n",
              "            0.56402,     0.56412,     0.56423,     0.56433,     0.56449,     0.56456,     0.56461,     0.56459,     0.56456,     0.56455,     0.56458,      0.5646,     0.56463,     0.56477,     0.56481,     0.56485,     0.56487,      0.5649,     0.56493,     0.56501,     0.56522,     0.56532,     0.56548,\n",
              "            0.56551,     0.56553,     0.56564,      0.5656,      0.5656,     0.56565,      0.5657,     0.56576,     0.56578,     0.56581,     0.56584,     0.56588,     0.56593,     0.56602,     0.56599,     0.56595,     0.56591,     0.56591,     0.56594,     0.56597,     0.56605,     0.56616,      0.5661,\n",
              "            0.56615,     0.56624,     0.56635,     0.56645,     0.56654,     0.56666,     0.56684,     0.56681,     0.56678,     0.56675,     0.56671,     0.56676,     0.56681,     0.56685,     0.56688,     0.56697,     0.56699,       0.567,     0.56702,     0.56704,     0.56706,     0.56705,     0.56712,\n",
              "            0.56717,     0.56711,     0.56732,     0.56735,     0.56741,     0.56751,     0.56756,     0.56761,     0.56766,     0.56775,     0.56797,     0.56801,     0.56804,     0.56808,     0.56818,     0.56827,      0.5684,     0.56837,     0.56843,     0.56857,     0.56861,     0.56879,     0.56908,\n",
              "            0.56911,     0.56916,     0.56921,      0.5693,     0.56935,     0.56935,      0.5696,     0.56963,     0.56966,     0.56976,     0.56973,     0.56971,     0.56987,     0.56991,     0.56994,     0.56997,     0.56995,     0.57004,     0.57016,     0.57024,     0.57029,     0.57034,     0.57038,\n",
              "            0.57046,     0.57053,     0.57058,     0.57063,     0.57068,     0.57085,     0.57091,     0.57096,     0.57099,     0.57103,     0.57107,     0.57126,     0.57134,     0.57137,      0.5714,     0.57153,     0.57158,     0.57163,     0.57167,     0.57176,     0.57186,     0.57196,     0.57204,\n",
              "            0.57209,     0.57213,     0.57218,     0.57232,     0.57237,     0.57245,     0.57255,      0.5727,     0.57274,     0.57283,     0.57293,     0.57312,     0.57321,     0.57335,      0.5734,     0.57345,      0.5735,     0.57369,     0.57381,       0.574,     0.57417,     0.57421,     0.57422,\n",
              "            0.57419,      0.5742,     0.57424,     0.57429,     0.57434,     0.57442,     0.57448,     0.57453,      0.5747,     0.57468,     0.57473,     0.57483,     0.57498,     0.57503,     0.57512,      0.5752,     0.57518,     0.57516,     0.57528,     0.57531,     0.57544,      0.5754,     0.57536,\n",
              "             0.5753,     0.57535,     0.57549,     0.57551,     0.57554,     0.57556,     0.57559,     0.57564,     0.57563,     0.57588,     0.57586,     0.57585,     0.57583,     0.57586,     0.57595,     0.57603,     0.57608,     0.57624,      0.5763,     0.57632,     0.57635,     0.57637,     0.57644,\n",
              "            0.57663,     0.57662,     0.57663,     0.57668,     0.57671,     0.57675,     0.57678,     0.57691,     0.57694,     0.57697,     0.57706,     0.57721,     0.57726,     0.57728,      0.5773,     0.57733,     0.57735,     0.57731,     0.57728,      0.5773,     0.57732,     0.57734,     0.57736,\n",
              "             0.5774,      0.5775,     0.57775,     0.57774,     0.57773,     0.57772,     0.57771,     0.57769,      0.5777,     0.57773,     0.57777,     0.57779,      0.5778,     0.57782,     0.57783,     0.57784,     0.57786,     0.57787,     0.57787,     0.57797,     0.57804,     0.57815,      0.5782,\n",
              "            0.57816,     0.57804,     0.57801,     0.57809,     0.57806,     0.57804,     0.57808,     0.57811,     0.57814,     0.57817,     0.57821,     0.57837,     0.57844,     0.57849,     0.57848,     0.57845,     0.57839,     0.57853,     0.57855,     0.57853,     0.57852,      0.5785,     0.57849,\n",
              "            0.57863,     0.57867,     0.57886,     0.57892,     0.57896,     0.57906,       0.579,     0.57926,     0.57924,     0.57922,      0.5792,     0.57912,     0.57913,     0.57918,     0.57914,     0.57907,     0.57928,     0.57933,     0.57928,     0.57945,     0.57942,     0.57943,     0.57953,\n",
              "            0.57963,     0.57973,     0.57982,     0.57988,     0.57989,     0.57991,     0.57992,     0.57994,     0.57995,     0.57997,     0.58001,     0.58004,     0.58004,     0.58007,     0.57995,     0.58004,     0.58013,     0.58017,      0.5803,     0.58041,     0.58051,     0.58058,     0.58056,\n",
              "            0.58063,      0.5806,     0.58068,     0.58061,     0.58057,     0.58055,     0.58052,     0.58057,     0.58052,     0.58049,     0.58047,     0.58048,     0.58052,     0.58045,     0.58044,     0.58054,     0.58054,     0.58062,      0.5806,     0.58058,     0.58055,     0.58049,     0.58053,\n",
              "            0.58057,     0.58064,     0.58074,     0.58081,     0.58086,     0.58081,     0.58086,     0.58081,     0.58074,     0.58085,     0.58082,       0.581,     0.58098,     0.58103,     0.58118,     0.58124,     0.58128,     0.58131,     0.58133,     0.58122,     0.58127,     0.58133,     0.58134,\n",
              "            0.58125,      0.5812,     0.58115,     0.58112,     0.58117,     0.58119,      0.5812,     0.58126,      0.5813,     0.58133,     0.58139,     0.58157,     0.58165,     0.58169,     0.58173,     0.58178,     0.58184,     0.58191,     0.58211,     0.58221,     0.58228,     0.58233,     0.58233,\n",
              "            0.58233,     0.58238,     0.58247,     0.58255,     0.58256,     0.58269,      0.5829,     0.58287,     0.58301,     0.58315,     0.58312,      0.5833,     0.58338,     0.58348,     0.58347,      0.5836,     0.58356,      0.5836,     0.58373,       0.584,     0.58403,     0.58393,       0.584,\n",
              "            0.58409,     0.58405,     0.58394,     0.58384,     0.58405,     0.58412,     0.58412,     0.58405,     0.58404,     0.58399,     0.58413,     0.58412,     0.58398,     0.58393,     0.58387,     0.58386,     0.58398,     0.58381,     0.58387,     0.58394,     0.58394,     0.58385,     0.58386,\n",
              "            0.58403,      0.5841,      0.5844,     0.58429,     0.58439,     0.58446,     0.58464,     0.58469,     0.58466,     0.58472,     0.58463,     0.58484,     0.58491,     0.58488,     0.58495,      0.5849,     0.58497,     0.58459,     0.58465,      0.5846,      0.5846,     0.58455,     0.58465,\n",
              "            0.58474,     0.58481,     0.58479,     0.58483,     0.58485,     0.58494,     0.58501,     0.58502,      0.5849,     0.58485,     0.58502,     0.58523,     0.58524,     0.58516,     0.58518,     0.58499,     0.58488,      0.5851,     0.58504,     0.58508,     0.58513,     0.58534,     0.58559,\n",
              "            0.58603,     0.58608,     0.58612,     0.58595,     0.58616,      0.5864,     0.58648,     0.58643,     0.58632,     0.58638,     0.58638,     0.58645,     0.58664,     0.58676,     0.58702,     0.58701,     0.58699,     0.58696,     0.58699,     0.58715,     0.58713,     0.58709,     0.58715,\n",
              "            0.58713,     0.58718,     0.58703,     0.58696,     0.58713,     0.58703,     0.58722,     0.58729,      0.5871,     0.58733,     0.58758,     0.58743,     0.58743,     0.58735,      0.5872,     0.58712,     0.58707,     0.58689,     0.58656,     0.58649,     0.58654,      0.5866,      0.5867,\n",
              "            0.58672,     0.58685,     0.58672,     0.58693,     0.58689,     0.58693,       0.587,     0.58712,     0.58709,     0.58723,     0.58738,     0.58727,      0.5874,      0.5877,     0.58775,      0.5881,     0.58834,     0.58865,     0.58871,     0.58867,     0.58877,     0.58901,     0.58923,\n",
              "            0.58966,     0.58939,     0.58936,     0.58943,     0.58939,     0.58954,     0.58986,        0.59,     0.59014,     0.59031,     0.59033,     0.59026,     0.59035,     0.59049,     0.59044,     0.59031,     0.59045,     0.59043,     0.59025,      0.5905,     0.59053,     0.59089,     0.59076,\n",
              "            0.59085,     0.59062,      0.5904,      0.5904,     0.59044,     0.59046,     0.58996,     0.58928,     0.58937,     0.58921,     0.58967,     0.58971,     0.58946,     0.58948,     0.58983,      0.5901,     0.59035,     0.59027,     0.59004,     0.58996,     0.59001,     0.59015,     0.59048,\n",
              "             0.5901,     0.59023,     0.59033,     0.58985,      0.5902,     0.59021,     0.59063,     0.59121,     0.59162,     0.59128,     0.59148,      0.5915,     0.59266,     0.59218,     0.59232,     0.59235,     0.59234,     0.59217,     0.59227,     0.59252,     0.59222,     0.59203,     0.59255,\n",
              "            0.59282,     0.59289,     0.59335,     0.59282,     0.59377,     0.59308,     0.59423,     0.59532,      0.5948,      0.5955,     0.59506,      0.5936,     0.59332,     0.59191,     0.59088,     0.59088,     0.59092,     0.58927,     0.58977,     0.59284,      0.5965,     0.60134,     0.60887,\n",
              "            0.62161,     0.63666,     0.66521,     0.67611,     0.69822,     0.71268,     0.72373,     0.72998,     0.73422,     0.73398,     0.74194,     0.75291,     0.75537,     0.76208,     0.76885,     0.75129,     0.75632,     0.77428,      0.7487,     0.74382,     0.76839,     0.75579,     0.72999,\n",
              "            0.71309,     0.70108,     0.71451,     0.70524,     0.69817,     0.71824,     0.76092,      0.9333,           1,           1,           1,           1,           1,           1,           1,           1,           1,           1,           1,           1,           1,           1,           1,\n",
              "                  1,           1,           1,           1,           1,           1,           1,           1,           1,           1,           1]]), 'Confidence', 'Precision'], [array([          0,    0.001001,    0.002002,    0.003003,    0.004004,    0.005005,    0.006006,    0.007007,    0.008008,    0.009009,     0.01001,    0.011011,    0.012012,    0.013013,    0.014014,    0.015015,    0.016016,    0.017017,    0.018018,    0.019019,     0.02002,    0.021021,    0.022022,    0.023023,\n",
              "          0.024024,    0.025025,    0.026026,    0.027027,    0.028028,    0.029029,     0.03003,    0.031031,    0.032032,    0.033033,    0.034034,    0.035035,    0.036036,    0.037037,    0.038038,    0.039039,     0.04004,    0.041041,    0.042042,    0.043043,    0.044044,    0.045045,    0.046046,    0.047047,\n",
              "          0.048048,    0.049049,     0.05005,    0.051051,    0.052052,    0.053053,    0.054054,    0.055055,    0.056056,    0.057057,    0.058058,    0.059059,     0.06006,    0.061061,    0.062062,    0.063063,    0.064064,    0.065065,    0.066066,    0.067067,    0.068068,    0.069069,     0.07007,    0.071071,\n",
              "          0.072072,    0.073073,    0.074074,    0.075075,    0.076076,    0.077077,    0.078078,    0.079079,     0.08008,    0.081081,    0.082082,    0.083083,    0.084084,    0.085085,    0.086086,    0.087087,    0.088088,    0.089089,     0.09009,    0.091091,    0.092092,    0.093093,    0.094094,    0.095095,\n",
              "          0.096096,    0.097097,    0.098098,    0.099099,      0.1001,      0.1011,      0.1021,      0.1031,      0.1041,     0.10511,     0.10611,     0.10711,     0.10811,     0.10911,     0.11011,     0.11111,     0.11211,     0.11311,     0.11411,     0.11512,     0.11612,     0.11712,     0.11812,     0.11912,\n",
              "           0.12012,     0.12112,     0.12212,     0.12312,     0.12412,     0.12513,     0.12613,     0.12713,     0.12813,     0.12913,     0.13013,     0.13113,     0.13213,     0.13313,     0.13413,     0.13514,     0.13614,     0.13714,     0.13814,     0.13914,     0.14014,     0.14114,     0.14214,     0.14314,\n",
              "           0.14414,     0.14515,     0.14615,     0.14715,     0.14815,     0.14915,     0.15015,     0.15115,     0.15215,     0.15315,     0.15415,     0.15516,     0.15616,     0.15716,     0.15816,     0.15916,     0.16016,     0.16116,     0.16216,     0.16316,     0.16416,     0.16517,     0.16617,     0.16717,\n",
              "           0.16817,     0.16917,     0.17017,     0.17117,     0.17217,     0.17317,     0.17417,     0.17518,     0.17618,     0.17718,     0.17818,     0.17918,     0.18018,     0.18118,     0.18218,     0.18318,     0.18418,     0.18519,     0.18619,     0.18719,     0.18819,     0.18919,     0.19019,     0.19119,\n",
              "           0.19219,     0.19319,     0.19419,      0.1952,      0.1962,      0.1972,      0.1982,      0.1992,      0.2002,      0.2012,      0.2022,      0.2032,      0.2042,     0.20521,     0.20621,     0.20721,     0.20821,     0.20921,     0.21021,     0.21121,     0.21221,     0.21321,     0.21421,     0.21522,\n",
              "           0.21622,     0.21722,     0.21822,     0.21922,     0.22022,     0.22122,     0.22222,     0.22322,     0.22422,     0.22523,     0.22623,     0.22723,     0.22823,     0.22923,     0.23023,     0.23123,     0.23223,     0.23323,     0.23423,     0.23524,     0.23624,     0.23724,     0.23824,     0.23924,\n",
              "           0.24024,     0.24124,     0.24224,     0.24324,     0.24424,     0.24525,     0.24625,     0.24725,     0.24825,     0.24925,     0.25025,     0.25125,     0.25225,     0.25325,     0.25425,     0.25526,     0.25626,     0.25726,     0.25826,     0.25926,     0.26026,     0.26126,     0.26226,     0.26326,\n",
              "           0.26426,     0.26527,     0.26627,     0.26727,     0.26827,     0.26927,     0.27027,     0.27127,     0.27227,     0.27327,     0.27427,     0.27528,     0.27628,     0.27728,     0.27828,     0.27928,     0.28028,     0.28128,     0.28228,     0.28328,     0.28428,     0.28529,     0.28629,     0.28729,\n",
              "           0.28829,     0.28929,     0.29029,     0.29129,     0.29229,     0.29329,     0.29429,      0.2953,      0.2963,      0.2973,      0.2983,      0.2993,      0.3003,      0.3013,      0.3023,      0.3033,      0.3043,     0.30531,     0.30631,     0.30731,     0.30831,     0.30931,     0.31031,     0.31131,\n",
              "           0.31231,     0.31331,     0.31431,     0.31532,     0.31632,     0.31732,     0.31832,     0.31932,     0.32032,     0.32132,     0.32232,     0.32332,     0.32432,     0.32533,     0.32633,     0.32733,     0.32833,     0.32933,     0.33033,     0.33133,     0.33233,     0.33333,     0.33433,     0.33534,\n",
              "           0.33634,     0.33734,     0.33834,     0.33934,     0.34034,     0.34134,     0.34234,     0.34334,     0.34434,     0.34535,     0.34635,     0.34735,     0.34835,     0.34935,     0.35035,     0.35135,     0.35235,     0.35335,     0.35435,     0.35536,     0.35636,     0.35736,     0.35836,     0.35936,\n",
              "           0.36036,     0.36136,     0.36236,     0.36336,     0.36436,     0.36537,     0.36637,     0.36737,     0.36837,     0.36937,     0.37037,     0.37137,     0.37237,     0.37337,     0.37437,     0.37538,     0.37638,     0.37738,     0.37838,     0.37938,     0.38038,     0.38138,     0.38238,     0.38338,\n",
              "           0.38438,     0.38539,     0.38639,     0.38739,     0.38839,     0.38939,     0.39039,     0.39139,     0.39239,     0.39339,     0.39439,      0.3954,      0.3964,      0.3974,      0.3984,      0.3994,      0.4004,      0.4014,      0.4024,      0.4034,      0.4044,     0.40541,     0.40641,     0.40741,\n",
              "           0.40841,     0.40941,     0.41041,     0.41141,     0.41241,     0.41341,     0.41441,     0.41542,     0.41642,     0.41742,     0.41842,     0.41942,     0.42042,     0.42142,     0.42242,     0.42342,     0.42442,     0.42543,     0.42643,     0.42743,     0.42843,     0.42943,     0.43043,     0.43143,\n",
              "           0.43243,     0.43343,     0.43443,     0.43544,     0.43644,     0.43744,     0.43844,     0.43944,     0.44044,     0.44144,     0.44244,     0.44344,     0.44444,     0.44545,     0.44645,     0.44745,     0.44845,     0.44945,     0.45045,     0.45145,     0.45245,     0.45345,     0.45445,     0.45546,\n",
              "           0.45646,     0.45746,     0.45846,     0.45946,     0.46046,     0.46146,     0.46246,     0.46346,     0.46446,     0.46547,     0.46647,     0.46747,     0.46847,     0.46947,     0.47047,     0.47147,     0.47247,     0.47347,     0.47447,     0.47548,     0.47648,     0.47748,     0.47848,     0.47948,\n",
              "           0.48048,     0.48148,     0.48248,     0.48348,     0.48448,     0.48549,     0.48649,     0.48749,     0.48849,     0.48949,     0.49049,     0.49149,     0.49249,     0.49349,     0.49449,      0.4955,      0.4965,      0.4975,      0.4985,      0.4995,      0.5005,      0.5015,      0.5025,      0.5035,\n",
              "            0.5045,     0.50551,     0.50651,     0.50751,     0.50851,     0.50951,     0.51051,     0.51151,     0.51251,     0.51351,     0.51451,     0.51552,     0.51652,     0.51752,     0.51852,     0.51952,     0.52052,     0.52152,     0.52252,     0.52352,     0.52452,     0.52553,     0.52653,     0.52753,\n",
              "           0.52853,     0.52953,     0.53053,     0.53153,     0.53253,     0.53353,     0.53453,     0.53554,     0.53654,     0.53754,     0.53854,     0.53954,     0.54054,     0.54154,     0.54254,     0.54354,     0.54454,     0.54555,     0.54655,     0.54755,     0.54855,     0.54955,     0.55055,     0.55155,\n",
              "           0.55255,     0.55355,     0.55455,     0.55556,     0.55656,     0.55756,     0.55856,     0.55956,     0.56056,     0.56156,     0.56256,     0.56356,     0.56456,     0.56557,     0.56657,     0.56757,     0.56857,     0.56957,     0.57057,     0.57157,     0.57257,     0.57357,     0.57457,     0.57558,\n",
              "           0.57658,     0.57758,     0.57858,     0.57958,     0.58058,     0.58158,     0.58258,     0.58358,     0.58458,     0.58559,     0.58659,     0.58759,     0.58859,     0.58959,     0.59059,     0.59159,     0.59259,     0.59359,     0.59459,      0.5956,      0.5966,      0.5976,      0.5986,      0.5996,\n",
              "            0.6006,      0.6016,      0.6026,      0.6036,      0.6046,     0.60561,     0.60661,     0.60761,     0.60861,     0.60961,     0.61061,     0.61161,     0.61261,     0.61361,     0.61461,     0.61562,     0.61662,     0.61762,     0.61862,     0.61962,     0.62062,     0.62162,     0.62262,     0.62362,\n",
              "           0.62462,     0.62563,     0.62663,     0.62763,     0.62863,     0.62963,     0.63063,     0.63163,     0.63263,     0.63363,     0.63463,     0.63564,     0.63664,     0.63764,     0.63864,     0.63964,     0.64064,     0.64164,     0.64264,     0.64364,     0.64464,     0.64565,     0.64665,     0.64765,\n",
              "           0.64865,     0.64965,     0.65065,     0.65165,     0.65265,     0.65365,     0.65465,     0.65566,     0.65666,     0.65766,     0.65866,     0.65966,     0.66066,     0.66166,     0.66266,     0.66366,     0.66466,     0.66567,     0.66667,     0.66767,     0.66867,     0.66967,     0.67067,     0.67167,\n",
              "           0.67267,     0.67367,     0.67467,     0.67568,     0.67668,     0.67768,     0.67868,     0.67968,     0.68068,     0.68168,     0.68268,     0.68368,     0.68468,     0.68569,     0.68669,     0.68769,     0.68869,     0.68969,     0.69069,     0.69169,     0.69269,     0.69369,     0.69469,      0.6957,\n",
              "            0.6967,      0.6977,      0.6987,      0.6997,      0.7007,      0.7017,      0.7027,      0.7037,      0.7047,     0.70571,     0.70671,     0.70771,     0.70871,     0.70971,     0.71071,     0.71171,     0.71271,     0.71371,     0.71471,     0.71572,     0.71672,     0.71772,     0.71872,     0.71972,\n",
              "           0.72072,     0.72172,     0.72272,     0.72372,     0.72472,     0.72573,     0.72673,     0.72773,     0.72873,     0.72973,     0.73073,     0.73173,     0.73273,     0.73373,     0.73473,     0.73574,     0.73674,     0.73774,     0.73874,     0.73974,     0.74074,     0.74174,     0.74274,     0.74374,\n",
              "           0.74474,     0.74575,     0.74675,     0.74775,     0.74875,     0.74975,     0.75075,     0.75175,     0.75275,     0.75375,     0.75475,     0.75576,     0.75676,     0.75776,     0.75876,     0.75976,     0.76076,     0.76176,     0.76276,     0.76376,     0.76476,     0.76577,     0.76677,     0.76777,\n",
              "           0.76877,     0.76977,     0.77077,     0.77177,     0.77277,     0.77377,     0.77477,     0.77578,     0.77678,     0.77778,     0.77878,     0.77978,     0.78078,     0.78178,     0.78278,     0.78378,     0.78478,     0.78579,     0.78679,     0.78779,     0.78879,     0.78979,     0.79079,     0.79179,\n",
              "           0.79279,     0.79379,     0.79479,      0.7958,      0.7968,      0.7978,      0.7988,      0.7998,      0.8008,      0.8018,      0.8028,      0.8038,      0.8048,     0.80581,     0.80681,     0.80781,     0.80881,     0.80981,     0.81081,     0.81181,     0.81281,     0.81381,     0.81481,     0.81582,\n",
              "           0.81682,     0.81782,     0.81882,     0.81982,     0.82082,     0.82182,     0.82282,     0.82382,     0.82482,     0.82583,     0.82683,     0.82783,     0.82883,     0.82983,     0.83083,     0.83183,     0.83283,     0.83383,     0.83483,     0.83584,     0.83684,     0.83784,     0.83884,     0.83984,\n",
              "           0.84084,     0.84184,     0.84284,     0.84384,     0.84484,     0.84585,     0.84685,     0.84785,     0.84885,     0.84985,     0.85085,     0.85185,     0.85285,     0.85385,     0.85485,     0.85586,     0.85686,     0.85786,     0.85886,     0.85986,     0.86086,     0.86186,     0.86286,     0.86386,\n",
              "           0.86486,     0.86587,     0.86687,     0.86787,     0.86887,     0.86987,     0.87087,     0.87187,     0.87287,     0.87387,     0.87487,     0.87588,     0.87688,     0.87788,     0.87888,     0.87988,     0.88088,     0.88188,     0.88288,     0.88388,     0.88488,     0.88589,     0.88689,     0.88789,\n",
              "           0.88889,     0.88989,     0.89089,     0.89189,     0.89289,     0.89389,     0.89489,      0.8959,      0.8969,      0.8979,      0.8989,      0.8999,      0.9009,      0.9019,      0.9029,      0.9039,      0.9049,     0.90591,     0.90691,     0.90791,     0.90891,     0.90991,     0.91091,     0.91191,\n",
              "           0.91291,     0.91391,     0.91491,     0.91592,     0.91692,     0.91792,     0.91892,     0.91992,     0.92092,     0.92192,     0.92292,     0.92392,     0.92492,     0.92593,     0.92693,     0.92793,     0.92893,     0.92993,     0.93093,     0.93193,     0.93293,     0.93393,     0.93493,     0.93594,\n",
              "           0.93694,     0.93794,     0.93894,     0.93994,     0.94094,     0.94194,     0.94294,     0.94394,     0.94494,     0.94595,     0.94695,     0.94795,     0.94895,     0.94995,     0.95095,     0.95195,     0.95295,     0.95395,     0.95495,     0.95596,     0.95696,     0.95796,     0.95896,     0.95996,\n",
              "           0.96096,     0.96196,     0.96296,     0.96396,     0.96496,     0.96597,     0.96697,     0.96797,     0.96897,     0.96997,     0.97097,     0.97197,     0.97297,     0.97397,     0.97497,     0.97598,     0.97698,     0.97798,     0.97898,     0.97998,     0.98098,     0.98198,     0.98298,     0.98398,\n",
              "           0.98498,     0.98599,     0.98699,     0.98799,     0.98899,     0.98999,     0.99099,     0.99199,     0.99299,     0.99399,     0.99499,       0.996,       0.997,       0.998,       0.999,           1]), array([[    0.90213,     0.90213,     0.90089,      0.9004,      0.8999,     0.89842,     0.89792,     0.89743,     0.89718,     0.89669,     0.89619,     0.89619,     0.89619,     0.89619,     0.89595,     0.89595,      0.8957,      0.8957,      0.8957,      0.8957,     0.89397,     0.89397,     0.89348,\n",
              "            0.89348,     0.89348,     0.89348,     0.89348,     0.89323,     0.89323,     0.89323,     0.89273,     0.89273,     0.89273,     0.89273,     0.89224,     0.89224,     0.89224,     0.89224,     0.89199,     0.89199,     0.89174,     0.89125,     0.89125,     0.89125,       0.891,       0.891,\n",
              "            0.89076,     0.89051,     0.89051,     0.89026,      0.8901,     0.89001,     0.89001,     0.89001,     0.89001,     0.89001,     0.89001,     0.89001,     0.88977,     0.88969,     0.88952,     0.88927,     0.88903,     0.88903,     0.88903,     0.88903,     0.88903,     0.88903,     0.88903,\n",
              "            0.88903,     0.88903,     0.88903,     0.88903,     0.88903,     0.88903,     0.88878,     0.88878,     0.88853,     0.88853,     0.88853,     0.88828,     0.88828,     0.88828,     0.88804,     0.88779,     0.88779,     0.88754,     0.88754,      0.8871,     0.88682,      0.8868,      0.8868,\n",
              "             0.8868,      0.8868,      0.8868,     0.88655,     0.88625,     0.88606,     0.88606,     0.88606,     0.88606,     0.88606,     0.88606,     0.88606,     0.88606,     0.88606,     0.88606,     0.88606,     0.88606,     0.88606,     0.88606,     0.88557,     0.88557,     0.88557,     0.88557,\n",
              "            0.88557,     0.88557,     0.88557,     0.88557,     0.88557,     0.88557,     0.88557,     0.88557,     0.88557,     0.88557,     0.88557,     0.88557,     0.88557,     0.88557,     0.88543,     0.88532,     0.88532,     0.88532,     0.88532,     0.88532,     0.88532,     0.88532,     0.88532,\n",
              "            0.88532,     0.88532,     0.88532,     0.88532,     0.88532,     0.88512,     0.88507,     0.88482,     0.88482,     0.88458,     0.88408,     0.88408,     0.88408,     0.88408,     0.88408,     0.88389,     0.88384,     0.88384,     0.88384,     0.88359,     0.88334,     0.88334,     0.88334,\n",
              "            0.88334,     0.88334,     0.88309,     0.88309,     0.88296,     0.88285,     0.88285,     0.88285,     0.88285,     0.88285,     0.88285,      0.8826,      0.8826,     0.88235,     0.88235,     0.88235,     0.88235,     0.88235,     0.88235,     0.88235,     0.88214,     0.88211,     0.88211,\n",
              "            0.88211,     0.88211,     0.88186,     0.88186,     0.88186,     0.88186,     0.88159,     0.88138,     0.88136,     0.88136,     0.88136,     0.88136,     0.88136,     0.88136,     0.88136,     0.88136,     0.88136,     0.88136,     0.88136,     0.88136,     0.88136,     0.88136,     0.88136,\n",
              "            0.88136,     0.88136,     0.88136,     0.88136,      0.8812,     0.88112,     0.88112,     0.88112,     0.88112,     0.88087,     0.88062,     0.88062,     0.88062,     0.88054,     0.88038,     0.88038,     0.88038,      0.8803,     0.88013,     0.88013,     0.88013,     0.88013,     0.88013,\n",
              "            0.88013,     0.88013,     0.88013,     0.88013,     0.88013,     0.88013,     0.88013,     0.88013,     0.88013,     0.88013,     0.88013,     0.88013,     0.87988,     0.87988,     0.87988,     0.87984,     0.87963,     0.87963,     0.87939,     0.87939,     0.87939,     0.87939,     0.87939,\n",
              "            0.87936,     0.87914,     0.87914,     0.87914,     0.87914,     0.87914,     0.87914,     0.87914,     0.87914,     0.87914,     0.87914,     0.87914,     0.87889,     0.87889,     0.87889,     0.87889,     0.87889,     0.87889,      0.8784,      0.8784,      0.8784,      0.8784,      0.8784,\n",
              "             0.8784,      0.8784,      0.8784,     0.87815,     0.87815,     0.87815,     0.87815,     0.87815,     0.87815,     0.87815,     0.87815,     0.87815,     0.87815,     0.87815,     0.87815,     0.87815,     0.87815,     0.87815,     0.87815,     0.87815,     0.87815,      0.8779,      0.8779,\n",
              "             0.8779,      0.8779,      0.8779,      0.8779,      0.8779,      0.8779,     0.87788,      0.8778,     0.87772,     0.87766,     0.87766,     0.87766,     0.87766,     0.87766,     0.87763,     0.87741,     0.87741,     0.87741,     0.87741,     0.87741,     0.87741,     0.87741,     0.87741,\n",
              "            0.87741,     0.87741,     0.87739,     0.87725,     0.87716,     0.87716,     0.87716,     0.87716,     0.87716,     0.87716,     0.87716,     0.87716,     0.87716,     0.87716,     0.87703,     0.87689,     0.87674,     0.87667,     0.87667,     0.87667,     0.87667,     0.87665,     0.87642,\n",
              "            0.87642,     0.87617,     0.87617,     0.87617,     0.87617,     0.87617,     0.87617,     0.87608,     0.87599,     0.87588,     0.87573,     0.87568,     0.87568,     0.87568,     0.87568,     0.87568,     0.87568,     0.87568,     0.87568,     0.87568,     0.87568,     0.87543,     0.87543,\n",
              "            0.87543,     0.87519,     0.87519,     0.87519,     0.87519,     0.87494,     0.87494,     0.87494,     0.87494,     0.87494,     0.87494,     0.87494,     0.87494,     0.87469,     0.87469,     0.87469,      0.8746,     0.87444,     0.87444,     0.87444,     0.87444,     0.87444,     0.87444,\n",
              "             0.8742,      0.8742,      0.8742,      0.8742,      0.8742,      0.8741,     0.87395,     0.87395,     0.87395,      0.8739,     0.87381,     0.87372,      0.8737,      0.8737,      0.8737,      0.8737,     0.87321,     0.87321,     0.87296,     0.87296,     0.87296,     0.87296,     0.87296,\n",
              "            0.87296,     0.87296,     0.87296,     0.87296,     0.87296,     0.87296,     0.87296,     0.87296,     0.87296,     0.87296,     0.87296,     0.87296,     0.87296,     0.87296,     0.87296,     0.87296,     0.87296,     0.87296,     0.87296,     0.87271,     0.87271,     0.87271,     0.87271,\n",
              "            0.87271,     0.87271,     0.87271,     0.87271,     0.87271,     0.87271,     0.87271,     0.87271,     0.87271,     0.87271,     0.87271,     0.87271,     0.87271,     0.87271,     0.87271,     0.87271,     0.87271,     0.87271,     0.87271,     0.87271,     0.87271,     0.87271,     0.87265,\n",
              "            0.87253,     0.87247,     0.87247,     0.87247,     0.87247,     0.87247,     0.87247,     0.87247,     0.87247,     0.87228,     0.87222,     0.87222,     0.87222,     0.87222,     0.87222,     0.87215,     0.87206,     0.87198,     0.87197,     0.87197,     0.87197,     0.87184,     0.87171,\n",
              "            0.87148,     0.87148,     0.87148,     0.87148,     0.87148,     0.87148,     0.87148,     0.87148,     0.87123,     0.87121,     0.87115,     0.87108,     0.87102,     0.87098,     0.87098,     0.87098,     0.87098,     0.87098,     0.87098,     0.87098,     0.87098,     0.87098,     0.87098,\n",
              "            0.87098,     0.87081,     0.87074,     0.87074,     0.87074,     0.87074,     0.87074,     0.87074,     0.87074,     0.87074,     0.87074,     0.87074,     0.87074,     0.87074,     0.87074,     0.87074,     0.87073,      0.8706,     0.87049,     0.87049,     0.87049,     0.87049,     0.87049,\n",
              "            0.87049,     0.87049,     0.87048,     0.87044,     0.87039,     0.87035,     0.87031,     0.87027,     0.87024,     0.87024,     0.87024,     0.87024,     0.87024,     0.87024,     0.87024,     0.87024,     0.87024,     0.87024,        0.87,        0.87,     0.86981,     0.86975,     0.86975,\n",
              "            0.86955,     0.86915,     0.86902,     0.86901,     0.86886,     0.86876,     0.86876,     0.86876,     0.86876,     0.86876,     0.86876,     0.86876,     0.86876,     0.86876,     0.86868,     0.86855,     0.86834,     0.86826,     0.86823,     0.86818,     0.86813,     0.86808,     0.86802,\n",
              "            0.86802,     0.86802,     0.86802,     0.86802,     0.86802,     0.86801,     0.86777,     0.86772,     0.86764,     0.86756,     0.86728,     0.86686,     0.86678,     0.86678,      0.8666,     0.86635,     0.86629,     0.86629,     0.86608,     0.86604,     0.86589,     0.86579,     0.86579,\n",
              "            0.86579,     0.86579,     0.86579,     0.86579,     0.86579,     0.86579,     0.86579,     0.86579,     0.86579,     0.86579,     0.86579,     0.86579,     0.86573,     0.86547,     0.86473,     0.86456,     0.86456,     0.86446,     0.86431,     0.86431,     0.86431,     0.86423,     0.86414,\n",
              "            0.86405,     0.86357,     0.86355,      0.8633,     0.86313,     0.86275,     0.86262,     0.86258,     0.86227,     0.86219,      0.8621,     0.86134,     0.86126,     0.86101,     0.86085,     0.86085,     0.86063,      0.8606,     0.86052,     0.86044,     0.86035,     0.86011,     0.86011,\n",
              "            0.86011,     0.86011,     0.86011,     0.86011,     0.86011,     0.85986,     0.85986,     0.85954,     0.85929,     0.85912,     0.85891,     0.85887,     0.85863,     0.85863,     0.85863,     0.85863,     0.85863,     0.85863,     0.85829,     0.85788,     0.85788,      0.8576,     0.85731,\n",
              "            0.85697,     0.85647,     0.85628,     0.85615,     0.85615,     0.85608,     0.85591,     0.85591,     0.85591,     0.85591,     0.85591,     0.85591,     0.85591,     0.85591,     0.85591,     0.85591,     0.85591,     0.85566,     0.85566,     0.85555,     0.85541,     0.85541,     0.85529,\n",
              "            0.85517,     0.85517,     0.85517,     0.85517,     0.85507,     0.85492,     0.85492,     0.85444,     0.85442,     0.85438,     0.85427,     0.85418,     0.85414,     0.85393,     0.85378,     0.85317,     0.85304,     0.85285,     0.85269,     0.85269,     0.85263,      0.8522,      0.8522,\n",
              "             0.8522,     0.85199,     0.85161,     0.85096,     0.85096,     0.85096,     0.85084,     0.85059,     0.85022,     0.85005,     0.84998,     0.84982,     0.84896,     0.84879,     0.84857,     0.84819,     0.84794,     0.84726,     0.84726,     0.84726,     0.84709,     0.84679,     0.84652,\n",
              "            0.84627,     0.84627,     0.84627,     0.84577,     0.84553,     0.84553,     0.84553,     0.84518,     0.84503,     0.84496,     0.84462,     0.84429,     0.84429,     0.84411,       0.844,     0.84383,      0.8438,     0.84231,     0.84231,     0.84209,     0.84182,     0.84159,     0.84108,\n",
              "            0.84108,     0.84108,     0.84058,     0.84058,     0.84054,     0.84009,     0.84002,     0.83984,     0.83932,     0.83915,     0.83904,     0.83885,     0.83872,     0.83836,     0.83819,     0.83753,     0.83688,     0.83688,     0.83664,     0.83663,     0.83663,     0.83663,     0.83663,\n",
              "            0.83613,     0.83613,     0.83583,     0.83523,     0.83515,     0.83515,     0.83462,     0.83445,     0.83372,     0.83366,     0.83317,     0.83317,     0.83317,     0.83317,     0.83267,      0.8319,     0.83181,     0.83173,     0.83169,     0.83167,     0.83119,      0.8307,     0.83059,\n",
              "            0.83045,     0.83034,     0.82986,     0.82946,     0.82921,     0.82878,     0.82798,     0.82798,     0.82728,     0.82724,     0.82714,     0.82664,      0.8265,     0.82602,     0.82551,     0.82451,     0.82435,     0.82374,     0.82264,     0.82239,     0.82205,     0.82171,     0.82101,\n",
              "             0.8207,     0.82044,     0.81982,     0.81968,     0.81919,     0.81908,     0.81859,     0.81859,     0.81739,     0.81735,     0.81735,     0.81661,     0.81562,      0.8156,     0.81463,     0.81438,     0.81414,     0.81414,     0.81405,     0.81355,     0.81265,     0.81241,     0.81241,\n",
              "            0.81226,     0.81101,     0.80994,     0.80935,     0.80895,      0.8087,      0.8087,     0.80845,     0.80784,     0.80696,      0.8067,     0.80609,     0.80524,     0.80473,     0.80456,       0.804,     0.80317,     0.80167,     0.80054,      0.8003,     0.79906,     0.79832,     0.79741,\n",
              "            0.79665,     0.79516,     0.79265,     0.79165,     0.79067,     0.78967,     0.78768,     0.78544,     0.78469,     0.78374,     0.78201,     0.78045,     0.77896,     0.77781,     0.77695,     0.77657,     0.77576,     0.77459,     0.77369,     0.77261,     0.77218,     0.77163,     0.77088,\n",
              "            0.76819,     0.76719,     0.76644,     0.76347,     0.76246,     0.76072,     0.75848,     0.75674,     0.75433,       0.753,     0.75062,     0.74889,     0.74654,     0.74271,     0.74009,     0.73925,     0.73702,     0.73462,     0.73312,     0.73173,     0.72939,     0.72666,     0.72318,\n",
              "            0.71897,     0.71626,     0.71256,     0.70781,     0.70409,     0.69946,     0.69566,     0.69031,     0.68265,     0.67696,     0.66793,     0.65645,     0.64558,     0.63453,      0.6229,     0.61369,     0.60409,     0.58725,     0.57316,     0.54844,     0.52248,     0.50591,     0.48665,\n",
              "            0.45304,     0.43222,     0.39273,     0.36373,     0.32229,     0.29338,     0.25445,     0.22651,     0.18571,     0.15299,     0.13025,     0.11598,     0.10608,     0.09025,     0.07736,    0.066485,    0.059071,    0.049173,    0.039027,    0.030858,     0.02788,    0.022183,     0.01871,\n",
              "           0.014743,    0.012754,    0.010517,   0.0082802,   0.0062905,   0.0050424,   0.0042017,   0.0039545,   0.0027808,   0.0020021,    0.001026,  0.00075397,           0,           0,           0,           0,           0,           0,           0,           0,           0,           0,           0,\n",
              "                  0,           0,           0,           0,           0,           0,           0,           0,           0,           0,           0]]), 'Confidence', 'Recall']]\n",
              "fitness: 1.0454717514226128\n",
              "keys: ['metrics/precision(B)', 'metrics/recall(B)', 'metrics/mAP50(B)', 'metrics/mAP50-95(B)', 'metrics/precision(P)', 'metrics/recall(P)', 'metrics/mAP50(P)', 'metrics/mAP50-95(P)']\n",
              "maps: array([     1.0246])\n",
              "names: {0: 'horse'}\n",
              "plot: True\n",
              "pose: ultralytics.utils.metrics.Metric object\n",
              "results_dict: {'metrics/precision(B)': 0.5879240492337855, 'metrics/recall(B)': 0.8907409634053233, 'metrics/mAP50(B)': 0.6277912601520268, 'metrics/mAP50-95(B)': 0.5730795048831835, 'metrics/precision(P)': 0.5784897764008182, 'metrics/recall(P)': 0.8680245000314204, 'metrics/mAP50(P)': 0.6056227755291513, 'metrics/mAP50-95(P)': 0.45150977051069996, 'fitness': 1.0454717514226128}\n",
              "save_dir: PosixPath('Horse_Keypoints/yolov8s-pose_50_epochs')\n",
              "seg: ultralytics.utils.metrics.Metric object\n",
              "speed: {'preprocess': 0.12894586065294625, 'inference': 2.7780486414747205, 'loss': 0.0004788216172443984, 'postprocess': 1.715312708572315}\n",
              "task: 'pose'"
            ]
          },
          "execution_count": 9,
          "metadata": {},
          "output_type": "execute_result"
        }
      ],
      "source": [
        "pose_model = model = YOLO(train_config.MODEL)\n",
        "\n",
        "pose_model.train(data    = train_config.DATASET_YAML,\n",
        "            epochs       = train_config.EPOCHS,\n",
        "            batch        = data_config.BATCH_SIZE,\n",
        "            project      = train_config.PROJECT,\n",
        "            name         = train_config.NAME,\n",
        "            close_mosaic = data_config.CLOSE_MOSAIC,\n",
        "            mosaic       = data_config.MOSAIC,\n",
        "            fliplr       = data_config.FLIP_LR\n",
        "           )"
      ]
    },
    {
      "cell_type": "code",
      "execution_count": null,
      "metadata": {
        "colab": {
          "base_uri": "https://localhost:8080/"
        },
        "id": "FVi0dZUVAvrK",
        "outputId": "f398b988-12e5-4434-b6a9-27c5ab5a07c2"
      },
      "outputs": [
        {
          "name": "stdout",
          "output_type": "stream",
          "text": [
            "Ultralytics YOLOv8.2.10 🚀 Python-3.10.12 torch-2.2.1+cu121 CUDA:0 (Tesla T4, 15102MiB)\n",
            "YOLOv8s-pose summary (fused): 187 layers, 11789469 parameters, 0 gradients, 30.9 GFLOPs\n"
          ]
        },
        {
          "name": "stderr",
          "output_type": "stream",
          "text": [
            "\u001b[34m\u001b[1mval: \u001b[0mScanning /content/drive/.shortcut-targets-by-id/1d9fVKFxu7VuCoVFZafnwSBkWzrkn2_ap/horse10/valid/labels... 4046 images, 2682 backgrounds, 0 corrupt: 100%|██████████| 6728/6728 [29:54<00:00,  3.75it/s]\n"
          ]
        },
        {
          "name": "stdout",
          "output_type": "stream",
          "text": [
            "\u001b[34m\u001b[1mval: \u001b[0mNew cache created: /content/drive/.shortcut-targets-by-id/1d9fVKFxu7VuCoVFZafnwSBkWzrkn2_ap/horse10/valid/labels.cache\n"
          ]
        },
        {
          "name": "stderr",
          "output_type": "stream",
          "text": [
            "/usr/lib/python3.10/multiprocessing/popen_fork.py:66: RuntimeWarning: os.fork() was called. os.fork() is incompatible with multithreaded code, and JAX is multithreaded, so this will likely lead to a deadlock.\n",
            "  self.pid = os.fork()\n",
            "                 Class     Images  Instances      Box(P          R      mAP50  mAP50-95)     Pose(P          R      mAP50  mAP50-95): 100%|██████████| 421/421 [01:31<00:00,  4.59it/s]\n"
          ]
        },
        {
          "name": "stdout",
          "output_type": "stream",
          "text": [
            "                   all       6728       4046      0.588      0.891      0.627      0.573      0.578      0.867      0.605      0.451\n",
            "Speed: 0.2ms preprocess, 5.5ms inference, 0.0ms loss, 1.4ms postprocess per image\n",
            "Results saved to \u001b[1mruns/pose/val\u001b[0m\n"
          ]
        }
      ],
      "source": [
        "ckpt_path  = os.path.join(train_config.PROJECT, train_config.NAME, \"weights\", \"best.pt\")\n",
        "model_pose = YOLO(ckpt_path)\n",
        "\n",
        "metrics = model_pose.val()"
      ]
    },
    {
      "cell_type": "markdown",
      "metadata": {
        "id": "PGNCg59RO0yd"
      },
      "source": [
        "## Inference"
      ]
    },
    {
      "cell_type": "code",
      "execution_count": null,
      "metadata": {
        "id": "BYRrymabWBnv"
      },
      "outputs": [],
      "source": [
        "colors = [(255, 0, 0),\n",
        "          (0, 255, 0),\n",
        "          (0, 0, 255),\n",
        "          (255, 255, 0),\n",
        "          (255, 0, 255),\n",
        "          (0, 255, 255),\n",
        "          (128, 0, 0),\n",
        "          (0, 128, 0),\n",
        "          (0, 0, 128),\n",
        "          (128, 128, 0),\n",
        "          (128, 0, 128),\n",
        "          (0, 128, 128),\n",
        "          (255, 128, 0),\n",
        "          (255, 0, 128),\n",
        "          (128, 255, 0),\n",
        "          (0, 255, 128),\n",
        "          (128, 0, 255),\n",
        "          (0, 128, 255),\n",
        "          (255, 128, 128),\n",
        "          (128, 255, 128),\n",
        "          (128, 128, 255),\n",
        "          (255, 255, 255)]"
      ]
    },
    {
      "cell_type": "code",
      "execution_count": null,
      "metadata": {
        "id": "QauhTlXAeIco"
      },
      "outputs": [],
      "source": [
        "def draw_landmarks(image, landmarks):\n",
        "    radius = 5\n",
        "    if image.shape[1] > 1000:\n",
        "        radius = 2\n",
        "\n",
        "    color_index = 0\n",
        "    for kpt_data in landmarks:\n",
        "        # Assuming kpt_data directly contains the keypoints as [x, y, score,...]\n",
        "        for j in range(0, len(kpt_data), 3):\n",
        "            loc_x, loc_y = int(kpt_data[j]), int(kpt_data[j+1])\n",
        "            color_id = colors[color_index % len(colors)]  # Cycle through colors safely\n",
        "\n",
        "            # Only draw if the location values are not zero\n",
        "            if loc_x and loc_y:\n",
        "                cv2.circle(image, (loc_x, loc_y), radius, color=color_id, thickness=-1, lineType=cv2.LINE_AA)\n",
        "\n",
        "            color_index += 1\n",
        "\n",
        "    return image"
      ]
    },
    {
      "cell_type": "code",
      "execution_count": null,
      "metadata": {
        "id": "EHv7ExoyeIgD"
      },
      "outputs": [],
      "source": [
        "def draw_boxes_landmarks(image, detections, color=(0,255,0)):\n",
        "\n",
        "    font_size = 0.25 + 0.07 * min(image.shape[:2]) / 100\n",
        "    font_size = max(font_size, 0.5)\n",
        "    font_size = min(font_size, 0.8)\n",
        "    text_offset = 3\n",
        "\n",
        "    thickness = 2\n",
        "    if (image.shape[1] > 1000):\n",
        "        thickness = 10\n",
        "\n",
        "    xmin, ymin, w, h = np.array(detections).astype(\"int\").tolist()\n",
        "    xmax= xmin+w\n",
        "    ymax=ymin+h\n",
        "\n",
        "    image=draw_landmarks(image, first_image_annotations)\n",
        "\n",
        "    cv2.rectangle(image,\n",
        "                  (xmin, ymin),\n",
        "                  (xmax, ymax),\n",
        "                  color=(0,255,0),\n",
        "                  thickness=thickness,\n",
        "                  lineType=cv2.LINE_AA)\n",
        "\n",
        "\n",
        "    return image"
      ]
    }
  ],
  "metadata": {
    "accelerator": "GPU",
    "colab": {
      "gpuType": "T4",
      "provenance": []
    },
    "kernelspec": {
      "display_name": "Python 3",
      "name": "python3"
    },
    "language_info": {
      "codemirror_mode": {
        "name": "ipython",
        "version": 3
      },
      "file_extension": ".py",
      "mimetype": "text/x-python",
      "name": "python",
      "nbconvert_exporter": "python",
      "pygments_lexer": "ipython3",
      "version": "3.9.13"
    }
  },
  "nbformat": 4,
  "nbformat_minor": 0
}
